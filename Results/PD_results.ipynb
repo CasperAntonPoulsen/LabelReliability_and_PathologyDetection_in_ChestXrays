{
 "cells": [
  {
   "cell_type": "code",
   "execution_count": 1,
   "metadata": {},
   "outputs": [],
   "source": [
    "import pandas as pd\n",
    "import numpy as np\n",
    "import ast\n",
    "import re\n",
    "import statistics\n",
    "from sklearn.metrics import roc_auc_score"
   ]
  },
  {
   "cell_type": "code",
   "execution_count": 2,
   "metadata": {},
   "outputs": [],
   "source": [
    "test_padchest = pd.read_csv('../Data/Data_splits/pathology_detection-test.csv', index_col=0)"
   ]
  },
  {
   "cell_type": "code",
   "execution_count": 37,
   "metadata": {},
   "outputs": [
    {
     "name": "stderr",
     "output_type": "stream",
     "text": [
      "/home/caap/.conda/envs/multi/lib/python3.7/site-packages/IPython/core/interactiveshell.py:3552: DtypeWarning: Columns (1,2) have mixed types.Specify dtype option on import or set low_memory=False.\n",
      "  exec(code_obj, self.user_global_ns, self.user_ns)\n"
     ]
    }
   ],
   "source": [
    "files = \"/home/data_shares/purrlab/physionet.org/files/chexmask-cxr-segmentation-data/0.2\"\n",
    "padchest_masks = pd.read_csv(files+ \"/OriginalResolution/Padchest.csv\")"
   ]
  },
  {
   "cell_type": "code",
   "execution_count": 38,
   "metadata": {},
   "outputs": [],
   "source": [
    "test_padchest = pd.merge(padchest_masks, test_padchest , how=\"inner\", on= \"ImageID\")"
   ]
  },
  {
   "cell_type": "code",
   "execution_count": 3,
   "metadata": {},
   "outputs": [],
   "source": [
    "preds_bbox_both_mask_inside_df = pd.read_csv(\"../Predictions/PD_preds_bbox_both_mask_inside.csv\")"
   ]
  },
  {
   "cell_type": "code",
   "execution_count": 4,
   "metadata": {},
   "outputs": [],
   "source": [
    "preds_bbox_both_mask_outside_df = pd.read_csv(\"../Predictions/PD_preds_bbox_both_mask_outside.csv\")"
   ]
  },
  {
   "cell_type": "code",
   "execution_count": 5,
   "metadata": {},
   "outputs": [],
   "source": [
    "preds_bbox_mask_inside_df = pd.read_csv(\"../Predictions/PD_preds_bbox_mask_inside.csv\")"
   ]
  },
  {
   "cell_type": "code",
   "execution_count": 6,
   "metadata": {},
   "outputs": [],
   "source": [
    "preds_bbox_mask_outside_df = pd.read_csv(\"../Predictions/PD_preds_bbox_mask_outside.csv\")"
   ]
  },
  {
   "cell_type": "code",
   "execution_count": 7,
   "metadata": {},
   "outputs": [],
   "source": [
    "preds_dilated_mask_1_inside_df = pd.read_csv(\"../Predictions/PD_preds_dilated_mask_1_inside.csv\")"
   ]
  },
  {
   "cell_type": "code",
   "execution_count": 8,
   "metadata": {},
   "outputs": [],
   "source": [
    "preds_dilated_mask_1_outside_df = pd.read_csv(\"../Predictions/PD_preds_dilated_mask_1_outside.csv\")"
   ]
  },
  {
   "cell_type": "code",
   "execution_count": 9,
   "metadata": {},
   "outputs": [],
   "source": [
    "preds_dilated_mask_2_inside_df = pd.read_csv(\"../Predictions/PD_preds_dilated_mask_2_inside.csv\")"
   ]
  },
  {
   "cell_type": "code",
   "execution_count": 10,
   "metadata": {},
   "outputs": [],
   "source": [
    "preds_dilated_mask_2_outside_df = pd.read_csv(\"../Predictions/PD_preds_dilated_mask_2_outside.csv\")"
   ]
  },
  {
   "cell_type": "code",
   "execution_count": 11,
   "metadata": {},
   "outputs": [],
   "source": [
    "preds_dilated_mask_3_inside_df = pd.read_csv(\"../Predictions/PD_preds_dilated_mask_3_inside.csv\")"
   ]
  },
  {
   "cell_type": "code",
   "execution_count": 12,
   "metadata": {},
   "outputs": [],
   "source": [
    "preds_dilated_mask_3_outside_df = pd.read_csv(\"../Predictions/PD_preds_dilated_mask_3_outside.csv\")"
   ]
  },
  {
   "cell_type": "code",
   "execution_count": 13,
   "metadata": {},
   "outputs": [],
   "source": [
    "preds_dilated_mask_4_inside_df = pd.read_csv(\"../Predictions/PD_preds_dilated_mask_4_inside.csv\")"
   ]
  },
  {
   "cell_type": "code",
   "execution_count": 14,
   "metadata": {},
   "outputs": [],
   "source": [
    "preds_dilated_mask_4_outside_df = pd.read_csv(\"../Predictions/PD_preds_dilated_mask_4_outside.csv\")"
   ]
  },
  {
   "cell_type": "code",
   "execution_count": 15,
   "metadata": {},
   "outputs": [],
   "source": [
    "preds_original_mask_inside_df = pd.read_csv(\"../Predictions/PD_preds_original_mask_inside.csv\")"
   ]
  },
  {
   "cell_type": "code",
   "execution_count": 16,
   "metadata": {},
   "outputs": [],
   "source": [
    "preds_original_mask_outside_df = pd.read_csv(\"../Predictions/PD_preds_original_mask_outside.csv\")"
   ]
  },
  {
   "cell_type": "code",
   "execution_count": 17,
   "metadata": {},
   "outputs": [
    {
     "data": {
      "text/html": [
       "<div>\n",
       "<style scoped>\n",
       "    .dataframe tbody tr th:only-of-type {\n",
       "        vertical-align: middle;\n",
       "    }\n",
       "\n",
       "    .dataframe tbody tr th {\n",
       "        vertical-align: top;\n",
       "    }\n",
       "\n",
       "    .dataframe thead th {\n",
       "        text-align: right;\n",
       "    }\n",
       "</style>\n",
       "<table border=\"1\" class=\"dataframe\">\n",
       "  <thead>\n",
       "    <tr style=\"text-align: right;\">\n",
       "      <th></th>\n",
       "      <th>Unnamed: 0</th>\n",
       "      <th>Model_name</th>\n",
       "      <th>Val_data</th>\n",
       "      <th>Preds_model1</th>\n",
       "      <th>Preds_model2</th>\n",
       "      <th>Preds_model3</th>\n",
       "    </tr>\n",
       "  </thead>\n",
       "  <tbody>\n",
       "    <tr>\n",
       "      <th>0</th>\n",
       "      <td>0</td>\n",
       "      <td>PD, Multiclass, Densenet, Imagenet, Fine-tuned</td>\n",
       "      <td>PadChest test set</td>\n",
       "      <td>[[1.30609833e-02 4.78702970e-03 4.23425436e-03...</td>\n",
       "      <td>[[4.55487594e-02 1.59274554e-03 1.64995845e-02...</td>\n",
       "      <td>[[1.04184067e-02 4.47855424e-03 5.36778290e-03...</td>\n",
       "    </tr>\n",
       "  </tbody>\n",
       "</table>\n",
       "</div>"
      ],
      "text/plain": [
       "   Unnamed: 0                                      Model_name  \\\n",
       "0           0  PD, Multiclass, Densenet, Imagenet, Fine-tuned   \n",
       "\n",
       "            Val_data                                       Preds_model1  \\\n",
       "0  PadChest test set  [[1.30609833e-02 4.78702970e-03 4.23425436e-03...   \n",
       "\n",
       "                                        Preds_model2  \\\n",
       "0  [[4.55487594e-02 1.59274554e-03 1.64995845e-02...   \n",
       "\n",
       "                                        Preds_model3  \n",
       "0  [[1.04184067e-02 4.47855424e-03 5.36778290e-03...  "
      ]
     },
     "execution_count": 17,
     "metadata": {},
     "output_type": "execute_result"
    }
   ],
   "source": [
    "preds_bbox_both_mask_inside_df"
   ]
  },
  {
   "cell_type": "code",
   "execution_count": 18,
   "metadata": {},
   "outputs": [],
   "source": [
    "# Function for reading the predictions, which are strings, as numpy arrays\n",
    "def str2array(s):\n",
    "    # Remove space after [\n",
    "    s=re.sub('\\[ +', '[', s.strip())\n",
    "    # Replace commas and spaces\n",
    "    s=re.sub('[,\\s]+', ', ', s)\n",
    "    return np.array(ast.literal_eval(s))\n",
    "\n",
    "\n",
    "# Function to arrange preds nicely in a df\n",
    "def get_preds_PD(orig_pred_df, true_labels_df, print_auc=True):\n",
    "    \n",
    "    pathologies = ['Effusion', 'Pneumothorax', 'Atelectasis', 'Cardiomegaly', 'Pneumonia']\n",
    "    all_preds = []\n",
    "    \n",
    "    for row_number in range(len(orig_pred_df)):\n",
    "        for p_idx, p in enumerate(pathologies):\n",
    "            preds = [[str2array(i[\"Preds_model1\"]) for idx, i in orig_pred_df.iterrows()][row_number][:,p_idx],\n",
    "                     [str2array(i[\"Preds_model2\"]) for idx, i in orig_pred_df.iterrows()][row_number][:,p_idx],\n",
    "                     [str2array(i[\"Preds_model3\"]) for idx, i in orig_pred_df.iterrows()][row_number][:,p_idx]]\n",
    "            all_preds.append(preds)\n",
    "            \n",
    "    # Constructing a df with the preds and 'true' labels\n",
    "    preds_df = pd.DataFrame(list(zip(list(true_labels_df['ImagePath']),\n",
    "                                     list(true_labels_df['Effusion']),\n",
    "                                     list(true_labels_df['Pneumothorax']),\n",
    "                                     list(true_labels_df['Atelectasis']),\n",
    "                                     list(true_labels_df['Cardiomegaly']),\n",
    "                                     list(true_labels_df['Pneumonia']),\n",
    "                                     list(all_preds[0][0]),\n",
    "                                     list(all_preds[0][1]),\n",
    "                                     list(all_preds[0][2]),\n",
    "                                     list(all_preds[1][0]),\n",
    "                                     list(all_preds[1][1]),\n",
    "                                     list(all_preds[1][2]),\n",
    "                                     list(all_preds[2][0]),\n",
    "                                     list(all_preds[2][1]),\n",
    "                                     list(all_preds[2][2]),\n",
    "                                     list(all_preds[3][0]),\n",
    "                                     list(all_preds[3][1]),\n",
    "                                     list(all_preds[3][2]),\n",
    "                                     list(all_preds[4][0]),\n",
    "                                     list(all_preds[4][1]),\n",
    "                                     list(all_preds[4][2]))),\n",
    "                            columns = ['ImagePath', 'Effusion', 'Pneumothorax', 'Atelectasis', 'Cardiomegaly',\n",
    "                                       'Pneumonia', 'preds_Effusion_model1', 'preds_Effusion_model2', 'preds_Effusion_model3',\n",
    "                                       'preds_Pneumothorax_model1', 'preds_Pneumothorax_model2', 'preds_Pneumothorax_model3',\n",
    "                                       'preds_Atelectasis_model1', 'preds_Atelectasis_model2', 'preds_Atelectasis_model3',\n",
    "                                       'preds_Cardiomegaly_model1', 'preds_Cardiomegaly_model2', 'preds_Cardiomegaly_model3',\n",
    "                                       'preds_Pneumonia_model1', 'preds_Pneumonia_model2', 'preds_Pneumonia_model3'])\n",
    "\n",
    "\n",
    "    # Computing the auc for each pathology separately\n",
    "    for p in pathologies:\n",
    "        if print_auc:\n",
    "            print(p)\n",
    "        auc_list = []\n",
    "        for i in range(3):\n",
    "            #print(i+1)\n",
    "            auc = roc_auc_score(preds_df[p], preds_df['preds_' + str(p) + '_model' + str(i+1)])\n",
    "            auc_list.append(auc)\n",
    "        #print(auc_list)\n",
    "        \n",
    "        if print_auc:\n",
    "            print(\"Average auc:\", round(sum(auc_list)/len(auc_list)*100, 1))\n",
    "        \n",
    "            print()\n",
    "\n",
    "    return preds_df"
   ]
  },
  {
   "cell_type": "code",
   "execution_count": 19,
   "metadata": {},
   "outputs": [],
   "source": [
    "def create_auc_table(dataframes, names):\n",
    "    pathologies = ['Effusion', 'Pneumothorax', 'Atelectasis', 'Cardiomegaly', 'Pneumonia']\n",
    "    columns = [\"name\",'Effusion', 'Pneumothorax', 'Atelectasis', 'Cardiomegaly', 'Pneumonia']\n",
    "    out_dict =  {pathology:list() for pathology in columns}\n",
    "\n",
    "    for idx in range(len(dataframes)):\n",
    "        out_dict[\"name\"].append(names[idx])\n",
    "\n",
    "        for p in pathologies:\n",
    "            auc = roc_auc_score(dataframes[idx][p], dataframes[idx]['preds_' + str(p) + '_model1'])\n",
    "            out_dict[p].append(auc)\n",
    "\n",
    "    return pd.DataFrame(out_dict)"
   ]
  },
  {
   "cell_type": "code",
   "execution_count": 39,
   "metadata": {},
   "outputs": [
    {
     "name": "stdout",
     "output_type": "stream",
     "text": [
      "Effusion\n",
      "Average auc: 79.0\n",
      "\n",
      "Pneumothorax\n",
      "Average auc: 73.5\n",
      "\n",
      "Atelectasis\n",
      "Average auc: 76.3\n",
      "\n",
      "Cardiomegaly\n",
      "Average auc: 81.8\n",
      "\n",
      "Pneumonia\n",
      "Average auc: 69.3\n",
      "\n"
     ]
    }
   ],
   "source": [
    "pds_bbox_both_mask_inside_df = get_preds_PD(preds_bbox_both_mask_inside_df, test_padchest)"
   ]
  },
  {
   "cell_type": "code",
   "execution_count": 40,
   "metadata": {},
   "outputs": [
    {
     "name": "stdout",
     "output_type": "stream",
     "text": [
      "Effusion\n",
      "Average auc: 74.4\n",
      "\n",
      "Pneumothorax\n",
      "Average auc: 76.7\n",
      "\n",
      "Atelectasis\n",
      "Average auc: 66.3\n",
      "\n",
      "Cardiomegaly\n",
      "Average auc: 67.3\n",
      "\n",
      "Pneumonia\n",
      "Average auc: 63.9\n",
      "\n"
     ]
    }
   ],
   "source": [
    "pds_bbox_both_mask_outside_df = get_preds_PD(preds_bbox_both_mask_outside_df, test_padchest) "
   ]
  },
  {
   "cell_type": "code",
   "execution_count": 41,
   "metadata": {},
   "outputs": [
    {
     "name": "stdout",
     "output_type": "stream",
     "text": [
      "Effusion\n",
      "Average auc: 87.9\n",
      "\n",
      "Pneumothorax\n",
      "Average auc: 79.8\n",
      "\n",
      "Atelectasis\n",
      "Average auc: 82.8\n",
      "\n",
      "Cardiomegaly\n",
      "Average auc: 87.8\n",
      "\n",
      "Pneumonia\n",
      "Average auc: 75.6\n",
      "\n"
     ]
    }
   ],
   "source": [
    "pds_bbox_mask_inside_df = get_preds_PD(preds_bbox_mask_inside_df, test_padchest)"
   ]
  },
  {
   "cell_type": "code",
   "execution_count": 42,
   "metadata": {},
   "outputs": [
    {
     "name": "stdout",
     "output_type": "stream",
     "text": [
      "Effusion\n",
      "Average auc: 67.8\n",
      "\n",
      "Pneumothorax\n",
      "Average auc: 81.3\n",
      "\n",
      "Atelectasis\n",
      "Average auc: 62.0\n",
      "\n",
      "Cardiomegaly\n",
      "Average auc: 61.8\n",
      "\n",
      "Pneumonia\n",
      "Average auc: 63.8\n",
      "\n"
     ]
    }
   ],
   "source": [
    "pds_bbox_mask_outside_df = get_preds_PD(preds_bbox_mask_outside_df, test_padchest)"
   ]
  },
  {
   "cell_type": "code",
   "execution_count": 43,
   "metadata": {},
   "outputs": [
    {
     "name": "stdout",
     "output_type": "stream",
     "text": [
      "Effusion\n",
      "Average auc: 67.4\n",
      "\n",
      "Pneumothorax\n",
      "Average auc: 51.9\n",
      "\n",
      "Atelectasis\n",
      "Average auc: 68.5\n",
      "\n",
      "Cardiomegaly\n",
      "Average auc: 74.1\n",
      "\n",
      "Pneumonia\n",
      "Average auc: 56.9\n",
      "\n"
     ]
    }
   ],
   "source": [
    "pds_dilated_mask_1_inside_df = get_preds_PD(preds_dilated_mask_1_inside_df, test_padchest)"
   ]
  },
  {
   "cell_type": "code",
   "execution_count": 44,
   "metadata": {},
   "outputs": [
    {
     "name": "stdout",
     "output_type": "stream",
     "text": [
      "Effusion\n",
      "Average auc: 85.6\n",
      "\n",
      "Pneumothorax\n",
      "Average auc: 70.5\n",
      "\n",
      "Atelectasis\n",
      "Average auc: 79.3\n",
      "\n",
      "Cardiomegaly\n",
      "Average auc: 85.5\n",
      "\n",
      "Pneumonia\n",
      "Average auc: 68.1\n",
      "\n"
     ]
    }
   ],
   "source": [
    "pds_dilated_mask_1_outside_df = get_preds_PD(preds_dilated_mask_1_outside_df, test_padchest)"
   ]
  },
  {
   "cell_type": "code",
   "execution_count": 45,
   "metadata": {},
   "outputs": [
    {
     "name": "stdout",
     "output_type": "stream",
     "text": [
      "Effusion\n",
      "Average auc: 68.8\n",
      "\n",
      "Pneumothorax\n",
      "Average auc: 54.3\n",
      "\n",
      "Atelectasis\n",
      "Average auc: 68.3\n",
      "\n",
      "Cardiomegaly\n",
      "Average auc: 72.0\n",
      "\n",
      "Pneumonia\n",
      "Average auc: 59.5\n",
      "\n"
     ]
    }
   ],
   "source": [
    "pds_dilated_mask_2_inside_df = get_preds_PD(preds_dilated_mask_2_inside_df, test_padchest)"
   ]
  },
  {
   "cell_type": "code",
   "execution_count": 46,
   "metadata": {},
   "outputs": [
    {
     "name": "stdout",
     "output_type": "stream",
     "text": [
      "Effusion\n",
      "Average auc: 84.3\n",
      "\n",
      "Pneumothorax\n",
      "Average auc: 70.5\n",
      "\n",
      "Atelectasis\n",
      "Average auc: 77.7\n",
      "\n",
      "Cardiomegaly\n",
      "Average auc: 84.8\n",
      "\n",
      "Pneumonia\n",
      "Average auc: 67.6\n",
      "\n"
     ]
    }
   ],
   "source": [
    "pds_dilated_mask_2_outside_df = get_preds_PD(preds_dilated_mask_2_outside_df, test_padchest)"
   ]
  },
  {
   "cell_type": "code",
   "execution_count": 47,
   "metadata": {},
   "outputs": [
    {
     "name": "stdout",
     "output_type": "stream",
     "text": [
      "Effusion\n",
      "Average auc: 71.2\n",
      "\n",
      "Pneumothorax\n",
      "Average auc: 55.6\n",
      "\n",
      "Atelectasis\n",
      "Average auc: 67.4\n",
      "\n",
      "Cardiomegaly\n",
      "Average auc: 70.7\n",
      "\n",
      "Pneumonia\n",
      "Average auc: 60.5\n",
      "\n"
     ]
    }
   ],
   "source": [
    "pds_dilated_mask_3_inside_df = get_preds_PD(preds_dilated_mask_3_inside_df, test_padchest)"
   ]
  },
  {
   "cell_type": "code",
   "execution_count": 48,
   "metadata": {},
   "outputs": [
    {
     "name": "stdout",
     "output_type": "stream",
     "text": [
      "Effusion\n",
      "Average auc: 83.0\n",
      "\n",
      "Pneumothorax\n",
      "Average auc: 68.2\n",
      "\n",
      "Atelectasis\n",
      "Average auc: 75.6\n",
      "\n",
      "Cardiomegaly\n",
      "Average auc: 83.2\n",
      "\n",
      "Pneumonia\n",
      "Average auc: 67.1\n",
      "\n"
     ]
    }
   ],
   "source": [
    "pds_dilated_mask_3_outside_df = get_preds_PD(preds_dilated_mask_3_outside_df, test_padchest)"
   ]
  },
  {
   "cell_type": "code",
   "execution_count": 49,
   "metadata": {},
   "outputs": [
    {
     "name": "stdout",
     "output_type": "stream",
     "text": [
      "Effusion\n",
      "Average auc: 72.7\n",
      "\n",
      "Pneumothorax\n",
      "Average auc: 53.3\n",
      "\n",
      "Atelectasis\n",
      "Average auc: 68.6\n",
      "\n",
      "Cardiomegaly\n",
      "Average auc: 70.1\n",
      "\n",
      "Pneumonia\n",
      "Average auc: 61.0\n",
      "\n"
     ]
    }
   ],
   "source": [
    "pds_dilated_mask_4_inside_df = get_preds_PD(preds_dilated_mask_4_inside_df, test_padchest)"
   ]
  },
  {
   "cell_type": "code",
   "execution_count": 50,
   "metadata": {},
   "outputs": [
    {
     "name": "stdout",
     "output_type": "stream",
     "text": [
      "Effusion\n",
      "Average auc: 81.0\n",
      "\n",
      "Pneumothorax\n",
      "Average auc: 63.3\n",
      "\n",
      "Atelectasis\n",
      "Average auc: 73.8\n",
      "\n",
      "Cardiomegaly\n",
      "Average auc: 80.7\n",
      "\n",
      "Pneumonia\n",
      "Average auc: 65.8\n",
      "\n"
     ]
    }
   ],
   "source": [
    "pds_dilated_mask_4_outside_df = get_preds_PD(preds_dilated_mask_4_outside_df, test_padchest)"
   ]
  },
  {
   "cell_type": "code",
   "execution_count": 51,
   "metadata": {},
   "outputs": [
    {
     "ename": "ValueError",
     "evalue": "malformed node or string: <_ast.Name object at 0x7f17b2cbc1d0>",
     "output_type": "error",
     "traceback": [
      "\u001b[0;31m---------------------------------------------------------------------------\u001b[0m",
      "\u001b[0;31mValueError\u001b[0m                                Traceback (most recent call last)",
      "\u001b[0;32m<ipython-input-51-a952412ff985>\u001b[0m in \u001b[0;36m<module>\u001b[0;34m\u001b[0m\n\u001b[0;32m----> 1\u001b[0;31m \u001b[0mpds_original_mask_inside_df\u001b[0m \u001b[0;34m=\u001b[0m \u001b[0mget_preds_PD\u001b[0m\u001b[0;34m(\u001b[0m\u001b[0mpreds_original_mask_inside_df\u001b[0m\u001b[0;34m,\u001b[0m \u001b[0mtest_padchest\u001b[0m\u001b[0;34m)\u001b[0m\u001b[0;34m\u001b[0m\u001b[0;34m\u001b[0m\u001b[0m\n\u001b[0m",
      "\u001b[0;32m<ipython-input-18-a0c6e1d3397b>\u001b[0m in \u001b[0;36mget_preds_PD\u001b[0;34m(orig_pred_df, true_labels_df, print_auc)\u001b[0m\n\u001b[1;32m     16\u001b[0m     \u001b[0;32mfor\u001b[0m \u001b[0mrow_number\u001b[0m \u001b[0;32min\u001b[0m \u001b[0mrange\u001b[0m\u001b[0;34m(\u001b[0m\u001b[0mlen\u001b[0m\u001b[0;34m(\u001b[0m\u001b[0morig_pred_df\u001b[0m\u001b[0;34m)\u001b[0m\u001b[0;34m)\u001b[0m\u001b[0;34m:\u001b[0m\u001b[0;34m\u001b[0m\u001b[0;34m\u001b[0m\u001b[0m\n\u001b[1;32m     17\u001b[0m         \u001b[0;32mfor\u001b[0m \u001b[0mp_idx\u001b[0m\u001b[0;34m,\u001b[0m \u001b[0mp\u001b[0m \u001b[0;32min\u001b[0m \u001b[0menumerate\u001b[0m\u001b[0;34m(\u001b[0m\u001b[0mpathologies\u001b[0m\u001b[0;34m)\u001b[0m\u001b[0;34m:\u001b[0m\u001b[0;34m\u001b[0m\u001b[0;34m\u001b[0m\u001b[0m\n\u001b[0;32m---> 18\u001b[0;31m             preds = [[str2array(i[\"Preds_model1\"]) for idx, i in orig_pred_df.iterrows()][row_number][:,p_idx],\n\u001b[0m\u001b[1;32m     19\u001b[0m                      \u001b[0;34m[\u001b[0m\u001b[0mstr2array\u001b[0m\u001b[0;34m(\u001b[0m\u001b[0mi\u001b[0m\u001b[0;34m[\u001b[0m\u001b[0;34m\"Preds_model2\"\u001b[0m\u001b[0;34m]\u001b[0m\u001b[0;34m)\u001b[0m \u001b[0;32mfor\u001b[0m \u001b[0midx\u001b[0m\u001b[0;34m,\u001b[0m \u001b[0mi\u001b[0m \u001b[0;32min\u001b[0m \u001b[0morig_pred_df\u001b[0m\u001b[0;34m.\u001b[0m\u001b[0miterrows\u001b[0m\u001b[0;34m(\u001b[0m\u001b[0;34m)\u001b[0m\u001b[0;34m]\u001b[0m\u001b[0;34m[\u001b[0m\u001b[0mrow_number\u001b[0m\u001b[0;34m]\u001b[0m\u001b[0;34m[\u001b[0m\u001b[0;34m:\u001b[0m\u001b[0;34m,\u001b[0m\u001b[0mp_idx\u001b[0m\u001b[0;34m]\u001b[0m\u001b[0;34m,\u001b[0m\u001b[0;34m\u001b[0m\u001b[0;34m\u001b[0m\u001b[0m\n\u001b[1;32m     20\u001b[0m                      [str2array(i[\"Preds_model3\"]) for idx, i in orig_pred_df.iterrows()][row_number][:,p_idx]]\n",
      "\u001b[0;32m<ipython-input-18-a0c6e1d3397b>\u001b[0m in \u001b[0;36m<listcomp>\u001b[0;34m(.0)\u001b[0m\n\u001b[1;32m     16\u001b[0m     \u001b[0;32mfor\u001b[0m \u001b[0mrow_number\u001b[0m \u001b[0;32min\u001b[0m \u001b[0mrange\u001b[0m\u001b[0;34m(\u001b[0m\u001b[0mlen\u001b[0m\u001b[0;34m(\u001b[0m\u001b[0morig_pred_df\u001b[0m\u001b[0;34m)\u001b[0m\u001b[0;34m)\u001b[0m\u001b[0;34m:\u001b[0m\u001b[0;34m\u001b[0m\u001b[0;34m\u001b[0m\u001b[0m\n\u001b[1;32m     17\u001b[0m         \u001b[0;32mfor\u001b[0m \u001b[0mp_idx\u001b[0m\u001b[0;34m,\u001b[0m \u001b[0mp\u001b[0m \u001b[0;32min\u001b[0m \u001b[0menumerate\u001b[0m\u001b[0;34m(\u001b[0m\u001b[0mpathologies\u001b[0m\u001b[0;34m)\u001b[0m\u001b[0;34m:\u001b[0m\u001b[0;34m\u001b[0m\u001b[0;34m\u001b[0m\u001b[0m\n\u001b[0;32m---> 18\u001b[0;31m             preds = [[str2array(i[\"Preds_model1\"]) for idx, i in orig_pred_df.iterrows()][row_number][:,p_idx],\n\u001b[0m\u001b[1;32m     19\u001b[0m                      \u001b[0;34m[\u001b[0m\u001b[0mstr2array\u001b[0m\u001b[0;34m(\u001b[0m\u001b[0mi\u001b[0m\u001b[0;34m[\u001b[0m\u001b[0;34m\"Preds_model2\"\u001b[0m\u001b[0;34m]\u001b[0m\u001b[0;34m)\u001b[0m \u001b[0;32mfor\u001b[0m \u001b[0midx\u001b[0m\u001b[0;34m,\u001b[0m \u001b[0mi\u001b[0m \u001b[0;32min\u001b[0m \u001b[0morig_pred_df\u001b[0m\u001b[0;34m.\u001b[0m\u001b[0miterrows\u001b[0m\u001b[0;34m(\u001b[0m\u001b[0;34m)\u001b[0m\u001b[0;34m]\u001b[0m\u001b[0;34m[\u001b[0m\u001b[0mrow_number\u001b[0m\u001b[0;34m]\u001b[0m\u001b[0;34m[\u001b[0m\u001b[0;34m:\u001b[0m\u001b[0;34m,\u001b[0m\u001b[0mp_idx\u001b[0m\u001b[0;34m]\u001b[0m\u001b[0;34m,\u001b[0m\u001b[0;34m\u001b[0m\u001b[0;34m\u001b[0m\u001b[0m\n\u001b[1;32m     20\u001b[0m                      [str2array(i[\"Preds_model3\"]) for idx, i in orig_pred_df.iterrows()][row_number][:,p_idx]]\n",
      "\u001b[0;32m<ipython-input-18-a0c6e1d3397b>\u001b[0m in \u001b[0;36mstr2array\u001b[0;34m(s)\u001b[0m\n\u001b[1;32m      5\u001b[0m     \u001b[0;31m# Replace commas and spaces\u001b[0m\u001b[0;34m\u001b[0m\u001b[0;34m\u001b[0m\u001b[0;34m\u001b[0m\u001b[0m\n\u001b[1;32m      6\u001b[0m     \u001b[0ms\u001b[0m\u001b[0;34m=\u001b[0m\u001b[0mre\u001b[0m\u001b[0;34m.\u001b[0m\u001b[0msub\u001b[0m\u001b[0;34m(\u001b[0m\u001b[0;34m'[,\\s]+'\u001b[0m\u001b[0;34m,\u001b[0m \u001b[0;34m', '\u001b[0m\u001b[0;34m,\u001b[0m \u001b[0ms\u001b[0m\u001b[0;34m)\u001b[0m\u001b[0;34m\u001b[0m\u001b[0;34m\u001b[0m\u001b[0m\n\u001b[0;32m----> 7\u001b[0;31m     \u001b[0;32mreturn\u001b[0m \u001b[0mnp\u001b[0m\u001b[0;34m.\u001b[0m\u001b[0marray\u001b[0m\u001b[0;34m(\u001b[0m\u001b[0mast\u001b[0m\u001b[0;34m.\u001b[0m\u001b[0mliteral_eval\u001b[0m\u001b[0;34m(\u001b[0m\u001b[0ms\u001b[0m\u001b[0;34m)\u001b[0m\u001b[0;34m)\u001b[0m\u001b[0;34m\u001b[0m\u001b[0;34m\u001b[0m\u001b[0m\n\u001b[0m\u001b[1;32m      8\u001b[0m \u001b[0;34m\u001b[0m\u001b[0m\n\u001b[1;32m      9\u001b[0m \u001b[0;34m\u001b[0m\u001b[0m\n",
      "\u001b[0;32m~/.conda/envs/multi/lib/python3.7/ast.py\u001b[0m in \u001b[0;36mliteral_eval\u001b[0;34m(node_or_string)\u001b[0m\n\u001b[1;32m     89\u001b[0m                     \u001b[0;32mreturn\u001b[0m \u001b[0mleft\u001b[0m \u001b[0;34m-\u001b[0m \u001b[0mright\u001b[0m\u001b[0;34m\u001b[0m\u001b[0;34m\u001b[0m\u001b[0m\n\u001b[1;32m     90\u001b[0m         \u001b[0;32mreturn\u001b[0m \u001b[0m_convert_signed_num\u001b[0m\u001b[0;34m(\u001b[0m\u001b[0mnode\u001b[0m\u001b[0;34m)\u001b[0m\u001b[0;34m\u001b[0m\u001b[0;34m\u001b[0m\u001b[0m\n\u001b[0;32m---> 91\u001b[0;31m     \u001b[0;32mreturn\u001b[0m \u001b[0m_convert\u001b[0m\u001b[0;34m(\u001b[0m\u001b[0mnode_or_string\u001b[0m\u001b[0;34m)\u001b[0m\u001b[0;34m\u001b[0m\u001b[0;34m\u001b[0m\u001b[0m\n\u001b[0m\u001b[1;32m     92\u001b[0m \u001b[0;34m\u001b[0m\u001b[0m\n\u001b[1;32m     93\u001b[0m \u001b[0;34m\u001b[0m\u001b[0m\n",
      "\u001b[0;32m~/.conda/envs/multi/lib/python3.7/ast.py\u001b[0m in \u001b[0;36m_convert\u001b[0;34m(node)\u001b[0m\n\u001b[1;32m     88\u001b[0m                 \u001b[0;32melse\u001b[0m\u001b[0;34m:\u001b[0m\u001b[0;34m\u001b[0m\u001b[0;34m\u001b[0m\u001b[0m\n\u001b[1;32m     89\u001b[0m                     \u001b[0;32mreturn\u001b[0m \u001b[0mleft\u001b[0m \u001b[0;34m-\u001b[0m \u001b[0mright\u001b[0m\u001b[0;34m\u001b[0m\u001b[0;34m\u001b[0m\u001b[0m\n\u001b[0;32m---> 90\u001b[0;31m         \u001b[0;32mreturn\u001b[0m \u001b[0m_convert_signed_num\u001b[0m\u001b[0;34m(\u001b[0m\u001b[0mnode\u001b[0m\u001b[0;34m)\u001b[0m\u001b[0;34m\u001b[0m\u001b[0;34m\u001b[0m\u001b[0m\n\u001b[0m\u001b[1;32m     91\u001b[0m     \u001b[0;32mreturn\u001b[0m \u001b[0m_convert\u001b[0m\u001b[0;34m(\u001b[0m\u001b[0mnode_or_string\u001b[0m\u001b[0;34m)\u001b[0m\u001b[0;34m\u001b[0m\u001b[0;34m\u001b[0m\u001b[0m\n\u001b[1;32m     92\u001b[0m \u001b[0;34m\u001b[0m\u001b[0m\n",
      "\u001b[0;32m~/.conda/envs/multi/lib/python3.7/ast.py\u001b[0m in \u001b[0;36m_convert_signed_num\u001b[0;34m(node)\u001b[0m\n\u001b[1;32m     61\u001b[0m             \u001b[0;32melse\u001b[0m\u001b[0;34m:\u001b[0m\u001b[0;34m\u001b[0m\u001b[0;34m\u001b[0m\u001b[0m\n\u001b[1;32m     62\u001b[0m                 \u001b[0;32mreturn\u001b[0m \u001b[0;34m-\u001b[0m \u001b[0moperand\u001b[0m\u001b[0;34m\u001b[0m\u001b[0;34m\u001b[0m\u001b[0m\n\u001b[0;32m---> 63\u001b[0;31m         \u001b[0;32mreturn\u001b[0m \u001b[0m_convert_num\u001b[0m\u001b[0;34m(\u001b[0m\u001b[0mnode\u001b[0m\u001b[0;34m)\u001b[0m\u001b[0;34m\u001b[0m\u001b[0;34m\u001b[0m\u001b[0m\n\u001b[0m\u001b[1;32m     64\u001b[0m     \u001b[0;32mdef\u001b[0m \u001b[0m_convert\u001b[0m\u001b[0;34m(\u001b[0m\u001b[0mnode\u001b[0m\u001b[0;34m)\u001b[0m\u001b[0;34m:\u001b[0m\u001b[0;34m\u001b[0m\u001b[0;34m\u001b[0m\u001b[0m\n\u001b[1;32m     65\u001b[0m         \u001b[0;32mif\u001b[0m \u001b[0misinstance\u001b[0m\u001b[0;34m(\u001b[0m\u001b[0mnode\u001b[0m\u001b[0;34m,\u001b[0m \u001b[0mConstant\u001b[0m\u001b[0;34m)\u001b[0m\u001b[0;34m:\u001b[0m\u001b[0;34m\u001b[0m\u001b[0;34m\u001b[0m\u001b[0m\n",
      "\u001b[0;32m~/.conda/envs/multi/lib/python3.7/ast.py\u001b[0m in \u001b[0;36m_convert_num\u001b[0;34m(node)\u001b[0m\n\u001b[1;32m     53\u001b[0m         \u001b[0;32melif\u001b[0m \u001b[0misinstance\u001b[0m\u001b[0;34m(\u001b[0m\u001b[0mnode\u001b[0m\u001b[0;34m,\u001b[0m \u001b[0mNum\u001b[0m\u001b[0;34m)\u001b[0m\u001b[0;34m:\u001b[0m\u001b[0;34m\u001b[0m\u001b[0;34m\u001b[0m\u001b[0m\n\u001b[1;32m     54\u001b[0m             \u001b[0;32mreturn\u001b[0m \u001b[0mnode\u001b[0m\u001b[0;34m.\u001b[0m\u001b[0mn\u001b[0m\u001b[0;34m\u001b[0m\u001b[0;34m\u001b[0m\u001b[0m\n\u001b[0;32m---> 55\u001b[0;31m         \u001b[0;32mraise\u001b[0m \u001b[0mValueError\u001b[0m\u001b[0;34m(\u001b[0m\u001b[0;34m'malformed node or string: '\u001b[0m \u001b[0;34m+\u001b[0m \u001b[0mrepr\u001b[0m\u001b[0;34m(\u001b[0m\u001b[0mnode\u001b[0m\u001b[0;34m)\u001b[0m\u001b[0;34m)\u001b[0m\u001b[0;34m\u001b[0m\u001b[0;34m\u001b[0m\u001b[0m\n\u001b[0m\u001b[1;32m     56\u001b[0m     \u001b[0;32mdef\u001b[0m \u001b[0m_convert_signed_num\u001b[0m\u001b[0;34m(\u001b[0m\u001b[0mnode\u001b[0m\u001b[0;34m)\u001b[0m\u001b[0;34m:\u001b[0m\u001b[0;34m\u001b[0m\u001b[0;34m\u001b[0m\u001b[0m\n\u001b[1;32m     57\u001b[0m         \u001b[0;32mif\u001b[0m \u001b[0misinstance\u001b[0m\u001b[0;34m(\u001b[0m\u001b[0mnode\u001b[0m\u001b[0;34m,\u001b[0m \u001b[0mUnaryOp\u001b[0m\u001b[0;34m)\u001b[0m \u001b[0;32mand\u001b[0m \u001b[0misinstance\u001b[0m\u001b[0;34m(\u001b[0m\u001b[0mnode\u001b[0m\u001b[0;34m.\u001b[0m\u001b[0mop\u001b[0m\u001b[0;34m,\u001b[0m \u001b[0;34m(\u001b[0m\u001b[0mUAdd\u001b[0m\u001b[0;34m,\u001b[0m \u001b[0mUSub\u001b[0m\u001b[0;34m)\u001b[0m\u001b[0;34m)\u001b[0m\u001b[0;34m:\u001b[0m\u001b[0;34m\u001b[0m\u001b[0;34m\u001b[0m\u001b[0m\n",
      "\u001b[0;31mValueError\u001b[0m: malformed node or string: <_ast.Name object at 0x7f17b2cbc1d0>"
     ]
    }
   ],
   "source": [
    "pds_original_mask_inside_df = get_preds_PD(preds_original_mask_inside_df, test_padchest)"
   ]
  },
  {
   "cell_type": "code",
   "execution_count": null,
   "metadata": {},
   "outputs": [
    {
     "data": {
      "text/html": [
       "<div>\n",
       "<style scoped>\n",
       "    .dataframe tbody tr th:only-of-type {\n",
       "        vertical-align: middle;\n",
       "    }\n",
       "\n",
       "    .dataframe tbody tr th {\n",
       "        vertical-align: top;\n",
       "    }\n",
       "\n",
       "    .dataframe thead th {\n",
       "        text-align: right;\n",
       "    }\n",
       "</style>\n",
       "<table border=\"1\" class=\"dataframe\">\n",
       "  <thead>\n",
       "    <tr style=\"text-align: right;\">\n",
       "      <th></th>\n",
       "      <th>Unnamed: 0</th>\n",
       "      <th>Model_name</th>\n",
       "      <th>Val_data</th>\n",
       "      <th>Preds_model1</th>\n",
       "      <th>Preds_model2</th>\n",
       "      <th>Preds_model3</th>\n",
       "    </tr>\n",
       "  </thead>\n",
       "  <tbody>\n",
       "    <tr>\n",
       "      <th>0</th>\n",
       "      <td>0</td>\n",
       "      <td>PD, Multiclass, Densenet, Imagenet, Fine-tuned</td>\n",
       "      <td>PadChest test set</td>\n",
       "      <td>[[1.30609833e-02 4.78702970e-03 4.23425436e-03...</td>\n",
       "      <td>[[4.55487594e-02 1.59274554e-03 1.64995845e-02...</td>\n",
       "      <td>[[1.04184067e-02 4.47855424e-03 5.36778290e-03...</td>\n",
       "    </tr>\n",
       "  </tbody>\n",
       "</table>\n",
       "</div>"
      ],
      "text/plain": [
       "   Unnamed: 0                                      Model_name  \\\n",
       "0           0  PD, Multiclass, Densenet, Imagenet, Fine-tuned   \n",
       "\n",
       "            Val_data                                       Preds_model1  \\\n",
       "0  PadChest test set  [[1.30609833e-02 4.78702970e-03 4.23425436e-03...   \n",
       "\n",
       "                                        Preds_model2  \\\n",
       "0  [[4.55487594e-02 1.59274554e-03 1.64995845e-02...   \n",
       "\n",
       "                                        Preds_model3  \n",
       "0  [[1.04184067e-02 4.47855424e-03 5.36778290e-03...  "
      ]
     },
     "execution_count": 33,
     "metadata": {},
     "output_type": "execute_result"
    }
   ],
   "source": [
    "preds_bbox_both_mask_inside_df"
   ]
  },
  {
   "cell_type": "code",
   "execution_count": 34,
   "metadata": {},
   "outputs": [
    {
     "data": {
      "text/html": [
       "<div>\n",
       "<style scoped>\n",
       "    .dataframe tbody tr th:only-of-type {\n",
       "        vertical-align: middle;\n",
       "    }\n",
       "\n",
       "    .dataframe tbody tr th {\n",
       "        vertical-align: top;\n",
       "    }\n",
       "\n",
       "    .dataframe thead th {\n",
       "        text-align: right;\n",
       "    }\n",
       "</style>\n",
       "<table border=\"1\" class=\"dataframe\">\n",
       "  <thead>\n",
       "    <tr style=\"text-align: right;\">\n",
       "      <th></th>\n",
       "      <th>ImageID</th>\n",
       "      <th>ImagePath</th>\n",
       "      <th>Labels</th>\n",
       "      <th>Effusion</th>\n",
       "      <th>Pneumothorax</th>\n",
       "      <th>Atelectasis</th>\n",
       "      <th>Cardiomegaly</th>\n",
       "      <th>Pneumonia</th>\n",
       "      <th>Chest_drain_tube</th>\n",
       "      <th>NSG_tube</th>\n",
       "      <th>Endotracheal_tube</th>\n",
       "      <th>Tracheostomy_tube</th>\n",
       "    </tr>\n",
       "  </thead>\n",
       "  <tbody>\n",
       "    <tr>\n",
       "      <th>0</th>\n",
       "      <td>122000277774965864047324735331704213150_58hj8t...</td>\n",
       "      <td>/home/data_shares/purrlab_students/padchest-pr...</td>\n",
       "      <td>['hemidiaphragm elevation', 'azygos lobe']</td>\n",
       "      <td>0</td>\n",
       "      <td>0</td>\n",
       "      <td>0</td>\n",
       "      <td>0</td>\n",
       "      <td>0</td>\n",
       "      <td>0</td>\n",
       "      <td>0</td>\n",
       "      <td>0</td>\n",
       "      <td>0</td>\n",
       "    </tr>\n",
       "    <tr>\n",
       "      <th>1</th>\n",
       "      <td>323329299430220123499459743740529233555_8lonth...</td>\n",
       "      <td>/home/data_shares/purrlab_students/padchest-pr...</td>\n",
       "      <td>['costophrenic angle blunting', 'interstitial ...</td>\n",
       "      <td>0</td>\n",
       "      <td>0</td>\n",
       "      <td>0</td>\n",
       "      <td>0</td>\n",
       "      <td>0</td>\n",
       "      <td>0</td>\n",
       "      <td>0</td>\n",
       "      <td>0</td>\n",
       "      <td>0</td>\n",
       "    </tr>\n",
       "    <tr>\n",
       "      <th>2</th>\n",
       "      <td>216840111366964013451228379692012255095015356_...</td>\n",
       "      <td>/home/data_shares/purrlab_students/padchest-pr...</td>\n",
       "      <td>['normal']</td>\n",
       "      <td>0</td>\n",
       "      <td>0</td>\n",
       "      <td>0</td>\n",
       "      <td>0</td>\n",
       "      <td>0</td>\n",
       "      <td>0</td>\n",
       "      <td>0</td>\n",
       "      <td>0</td>\n",
       "      <td>0</td>\n",
       "    </tr>\n",
       "    <tr>\n",
       "      <th>3</th>\n",
       "      <td>215901993415805092612284930988632096429_2rbjm0...</td>\n",
       "      <td>/home/data_shares/purrlab_students/padchest-pr...</td>\n",
       "      <td>['callus rib fracture']</td>\n",
       "      <td>0</td>\n",
       "      <td>0</td>\n",
       "      <td>0</td>\n",
       "      <td>0</td>\n",
       "      <td>0</td>\n",
       "      <td>0</td>\n",
       "      <td>0</td>\n",
       "      <td>0</td>\n",
       "      <td>0</td>\n",
       "    </tr>\n",
       "    <tr>\n",
       "      <th>4</th>\n",
       "      <td>216840111366964013686042548532013283151248574_...</td>\n",
       "      <td>/home/data_shares/purrlab_students/padchest-pr...</td>\n",
       "      <td>['pacemaker', 'dual chamber device']</td>\n",
       "      <td>0</td>\n",
       "      <td>0</td>\n",
       "      <td>0</td>\n",
       "      <td>0</td>\n",
       "      <td>0</td>\n",
       "      <td>0</td>\n",
       "      <td>0</td>\n",
       "      <td>0</td>\n",
       "      <td>0</td>\n",
       "    </tr>\n",
       "    <tr>\n",
       "      <th>...</th>\n",
       "      <td>...</td>\n",
       "      <td>...</td>\n",
       "      <td>...</td>\n",
       "      <td>...</td>\n",
       "      <td>...</td>\n",
       "      <td>...</td>\n",
       "      <td>...</td>\n",
       "      <td>...</td>\n",
       "      <td>...</td>\n",
       "      <td>...</td>\n",
       "      <td>...</td>\n",
       "      <td>...</td>\n",
       "    </tr>\n",
       "    <tr>\n",
       "      <th>9784</th>\n",
       "      <td>216840111366964012373310883942009152114440525_...</td>\n",
       "      <td>/home/data_shares/purrlab_students/padchest-pr...</td>\n",
       "      <td>['normal']</td>\n",
       "      <td>0</td>\n",
       "      <td>0</td>\n",
       "      <td>0</td>\n",
       "      <td>0</td>\n",
       "      <td>0</td>\n",
       "      <td>0</td>\n",
       "      <td>0</td>\n",
       "      <td>0</td>\n",
       "      <td>0</td>\n",
       "    </tr>\n",
       "    <tr>\n",
       "      <th>9785</th>\n",
       "      <td>216840111366964012922382741642011011084257538_...</td>\n",
       "      <td>/home/data_shares/purrlab_students/padchest-pr...</td>\n",
       "      <td>['pleural effusion', 'atelectasis']</td>\n",
       "      <td>1</td>\n",
       "      <td>0</td>\n",
       "      <td>1</td>\n",
       "      <td>0</td>\n",
       "      <td>0</td>\n",
       "      <td>0</td>\n",
       "      <td>0</td>\n",
       "      <td>0</td>\n",
       "      <td>0</td>\n",
       "    </tr>\n",
       "    <tr>\n",
       "      <th>9786</th>\n",
       "      <td>216840111366964013340662495472012124102633950_...</td>\n",
       "      <td>/home/data_shares/purrlab_students/padchest-pr...</td>\n",
       "      <td>['normal']</td>\n",
       "      <td>0</td>\n",
       "      <td>0</td>\n",
       "      <td>0</td>\n",
       "      <td>0</td>\n",
       "      <td>0</td>\n",
       "      <td>0</td>\n",
       "      <td>0</td>\n",
       "      <td>0</td>\n",
       "      <td>0</td>\n",
       "    </tr>\n",
       "    <tr>\n",
       "      <th>9787</th>\n",
       "      <td>263194312664368739577287449640129198627_anu1co...</td>\n",
       "      <td>/home/data_shares/purrlab_students/padchest-pr...</td>\n",
       "      <td>['normal']</td>\n",
       "      <td>0</td>\n",
       "      <td>0</td>\n",
       "      <td>0</td>\n",
       "      <td>0</td>\n",
       "      <td>0</td>\n",
       "      <td>0</td>\n",
       "      <td>0</td>\n",
       "      <td>0</td>\n",
       "      <td>0</td>\n",
       "    </tr>\n",
       "    <tr>\n",
       "      <th>9788</th>\n",
       "      <td>216840111366964013686042548532013141113609445_...</td>\n",
       "      <td>/home/data_shares/purrlab_students/padchest-pr...</td>\n",
       "      <td>['cardiomegaly', 'aortic elongation', 'chronic...</td>\n",
       "      <td>0</td>\n",
       "      <td>0</td>\n",
       "      <td>0</td>\n",
       "      <td>1</td>\n",
       "      <td>0</td>\n",
       "      <td>0</td>\n",
       "      <td>0</td>\n",
       "      <td>0</td>\n",
       "      <td>0</td>\n",
       "    </tr>\n",
       "  </tbody>\n",
       "</table>\n",
       "<p>9789 rows × 12 columns</p>\n",
       "</div>"
      ],
      "text/plain": [
       "                                                ImageID  \\\n",
       "0     122000277774965864047324735331704213150_58hj8t...   \n",
       "1     323329299430220123499459743740529233555_8lonth...   \n",
       "2     216840111366964013451228379692012255095015356_...   \n",
       "3     215901993415805092612284930988632096429_2rbjm0...   \n",
       "4     216840111366964013686042548532013283151248574_...   \n",
       "...                                                 ...   \n",
       "9784  216840111366964012373310883942009152114440525_...   \n",
       "9785  216840111366964012922382741642011011084257538_...   \n",
       "9786  216840111366964013340662495472012124102633950_...   \n",
       "9787  263194312664368739577287449640129198627_anu1co...   \n",
       "9788  216840111366964013686042548532013141113609445_...   \n",
       "\n",
       "                                              ImagePath  \\\n",
       "0     /home/data_shares/purrlab_students/padchest-pr...   \n",
       "1     /home/data_shares/purrlab_students/padchest-pr...   \n",
       "2     /home/data_shares/purrlab_students/padchest-pr...   \n",
       "3     /home/data_shares/purrlab_students/padchest-pr...   \n",
       "4     /home/data_shares/purrlab_students/padchest-pr...   \n",
       "...                                                 ...   \n",
       "9784  /home/data_shares/purrlab_students/padchest-pr...   \n",
       "9785  /home/data_shares/purrlab_students/padchest-pr...   \n",
       "9786  /home/data_shares/purrlab_students/padchest-pr...   \n",
       "9787  /home/data_shares/purrlab_students/padchest-pr...   \n",
       "9788  /home/data_shares/purrlab_students/padchest-pr...   \n",
       "\n",
       "                                                 Labels  Effusion  \\\n",
       "0            ['hemidiaphragm elevation', 'azygos lobe']         0   \n",
       "1     ['costophrenic angle blunting', 'interstitial ...         0   \n",
       "2                                            ['normal']         0   \n",
       "3                               ['callus rib fracture']         0   \n",
       "4                  ['pacemaker', 'dual chamber device']         0   \n",
       "...                                                 ...       ...   \n",
       "9784                                         ['normal']         0   \n",
       "9785                ['pleural effusion', 'atelectasis']         1   \n",
       "9786                                         ['normal']         0   \n",
       "9787                                         ['normal']         0   \n",
       "9788  ['cardiomegaly', 'aortic elongation', 'chronic...         0   \n",
       "\n",
       "      Pneumothorax  Atelectasis  Cardiomegaly  Pneumonia  Chest_drain_tube  \\\n",
       "0                0            0             0          0                 0   \n",
       "1                0            0             0          0                 0   \n",
       "2                0            0             0          0                 0   \n",
       "3                0            0             0          0                 0   \n",
       "4                0            0             0          0                 0   \n",
       "...            ...          ...           ...        ...               ...   \n",
       "9784             0            0             0          0                 0   \n",
       "9785             0            1             0          0                 0   \n",
       "9786             0            0             0          0                 0   \n",
       "9787             0            0             0          0                 0   \n",
       "9788             0            0             1          0                 0   \n",
       "\n",
       "      NSG_tube  Endotracheal_tube  Tracheostomy_tube  \n",
       "0            0                  0                  0  \n",
       "1            0                  0                  0  \n",
       "2            0                  0                  0  \n",
       "3            0                  0                  0  \n",
       "4            0                  0                  0  \n",
       "...        ...                ...                ...  \n",
       "9784         0                  0                  0  \n",
       "9785         0                  0                  0  \n",
       "9786         0                  0                  0  \n",
       "9787         0                  0                  0  \n",
       "9788         0                  0                  0  \n",
       "\n",
       "[9789 rows x 12 columns]"
      ]
     },
     "execution_count": 34,
     "metadata": {},
     "output_type": "execute_result"
    }
   ],
   "source": [
    "test_padchest"
   ]
  },
  {
   "cell_type": "code",
   "execution_count": null,
   "metadata": {},
   "outputs": [
    {
     "ename": "ValueError",
     "evalue": "malformed node or string: <_ast.Name object at 0x7f8413cea590>",
     "output_type": "error",
     "traceback": [
      "\u001b[0;31m---------------------------------------------------------------------------\u001b[0m",
      "\u001b[0;31mValueError\u001b[0m                                Traceback (most recent call last)",
      "\u001b[0;32m<ipython-input-56-9194727f0a10>\u001b[0m in \u001b[0;36m<module>\u001b[0;34m\u001b[0m\n\u001b[0;32m----> 1\u001b[0;31m \u001b[0mpds_original_mask_outside_df\u001b[0m \u001b[0;34m=\u001b[0m \u001b[0mget_preds_PD\u001b[0m\u001b[0;34m(\u001b[0m\u001b[0mpreds_original_mask_outside_df\u001b[0m\u001b[0;34m,\u001b[0m \u001b[0mtest_padchest\u001b[0m\u001b[0;34m)\u001b[0m\u001b[0;34m\u001b[0m\u001b[0;34m\u001b[0m\u001b[0m\n\u001b[0m",
      "\u001b[0;32m<ipython-input-41-2de4c8a3c518>\u001b[0m in \u001b[0;36mget_preds_PD\u001b[0;34m(orig_pred_df, true_labels_df, print_auc)\u001b[0m\n\u001b[1;32m     16\u001b[0m     \u001b[0;32mfor\u001b[0m \u001b[0mrow_number\u001b[0m \u001b[0;32min\u001b[0m \u001b[0mrange\u001b[0m\u001b[0;34m(\u001b[0m\u001b[0mlen\u001b[0m\u001b[0;34m(\u001b[0m\u001b[0morig_pred_df\u001b[0m\u001b[0;34m)\u001b[0m\u001b[0;34m)\u001b[0m\u001b[0;34m:\u001b[0m\u001b[0;34m\u001b[0m\u001b[0;34m\u001b[0m\u001b[0m\n\u001b[1;32m     17\u001b[0m         \u001b[0;32mfor\u001b[0m \u001b[0mp_idx\u001b[0m\u001b[0;34m,\u001b[0m \u001b[0mp\u001b[0m \u001b[0;32min\u001b[0m \u001b[0menumerate\u001b[0m\u001b[0;34m(\u001b[0m\u001b[0mpathologies\u001b[0m\u001b[0;34m)\u001b[0m\u001b[0;34m:\u001b[0m\u001b[0;34m\u001b[0m\u001b[0;34m\u001b[0m\u001b[0m\n\u001b[0;32m---> 18\u001b[0;31m             preds = [[str2array(i[\"Preds_model1\"]) for idx, i in orig_pred_df.iterrows()][row_number][:,p_idx],\n\u001b[0m\u001b[1;32m     19\u001b[0m                      \u001b[0;34m[\u001b[0m\u001b[0mstr2array\u001b[0m\u001b[0;34m(\u001b[0m\u001b[0mi\u001b[0m\u001b[0;34m[\u001b[0m\u001b[0;34m\"Preds_model2\"\u001b[0m\u001b[0;34m]\u001b[0m\u001b[0;34m)\u001b[0m \u001b[0;32mfor\u001b[0m \u001b[0midx\u001b[0m\u001b[0;34m,\u001b[0m \u001b[0mi\u001b[0m \u001b[0;32min\u001b[0m \u001b[0morig_pred_df\u001b[0m\u001b[0;34m.\u001b[0m\u001b[0miterrows\u001b[0m\u001b[0;34m(\u001b[0m\u001b[0;34m)\u001b[0m\u001b[0;34m]\u001b[0m\u001b[0;34m[\u001b[0m\u001b[0mrow_number\u001b[0m\u001b[0;34m]\u001b[0m\u001b[0;34m[\u001b[0m\u001b[0;34m:\u001b[0m\u001b[0;34m,\u001b[0m\u001b[0mp_idx\u001b[0m\u001b[0;34m]\u001b[0m\u001b[0;34m,\u001b[0m\u001b[0;34m\u001b[0m\u001b[0;34m\u001b[0m\u001b[0m\n\u001b[1;32m     20\u001b[0m                      [str2array(i[\"Preds_model3\"]) for idx, i in orig_pred_df.iterrows()][row_number][:,p_idx]]\n",
      "\u001b[0;32m<ipython-input-41-2de4c8a3c518>\u001b[0m in \u001b[0;36m<listcomp>\u001b[0;34m(.0)\u001b[0m\n\u001b[1;32m     16\u001b[0m     \u001b[0;32mfor\u001b[0m \u001b[0mrow_number\u001b[0m \u001b[0;32min\u001b[0m \u001b[0mrange\u001b[0m\u001b[0;34m(\u001b[0m\u001b[0mlen\u001b[0m\u001b[0;34m(\u001b[0m\u001b[0morig_pred_df\u001b[0m\u001b[0;34m)\u001b[0m\u001b[0;34m)\u001b[0m\u001b[0;34m:\u001b[0m\u001b[0;34m\u001b[0m\u001b[0;34m\u001b[0m\u001b[0m\n\u001b[1;32m     17\u001b[0m         \u001b[0;32mfor\u001b[0m \u001b[0mp_idx\u001b[0m\u001b[0;34m,\u001b[0m \u001b[0mp\u001b[0m \u001b[0;32min\u001b[0m \u001b[0menumerate\u001b[0m\u001b[0;34m(\u001b[0m\u001b[0mpathologies\u001b[0m\u001b[0;34m)\u001b[0m\u001b[0;34m:\u001b[0m\u001b[0;34m\u001b[0m\u001b[0;34m\u001b[0m\u001b[0m\n\u001b[0;32m---> 18\u001b[0;31m             preds = [[str2array(i[\"Preds_model1\"]) for idx, i in orig_pred_df.iterrows()][row_number][:,p_idx],\n\u001b[0m\u001b[1;32m     19\u001b[0m                      \u001b[0;34m[\u001b[0m\u001b[0mstr2array\u001b[0m\u001b[0;34m(\u001b[0m\u001b[0mi\u001b[0m\u001b[0;34m[\u001b[0m\u001b[0;34m\"Preds_model2\"\u001b[0m\u001b[0;34m]\u001b[0m\u001b[0;34m)\u001b[0m \u001b[0;32mfor\u001b[0m \u001b[0midx\u001b[0m\u001b[0;34m,\u001b[0m \u001b[0mi\u001b[0m \u001b[0;32min\u001b[0m \u001b[0morig_pred_df\u001b[0m\u001b[0;34m.\u001b[0m\u001b[0miterrows\u001b[0m\u001b[0;34m(\u001b[0m\u001b[0;34m)\u001b[0m\u001b[0;34m]\u001b[0m\u001b[0;34m[\u001b[0m\u001b[0mrow_number\u001b[0m\u001b[0;34m]\u001b[0m\u001b[0;34m[\u001b[0m\u001b[0;34m:\u001b[0m\u001b[0;34m,\u001b[0m\u001b[0mp_idx\u001b[0m\u001b[0;34m]\u001b[0m\u001b[0;34m,\u001b[0m\u001b[0;34m\u001b[0m\u001b[0;34m\u001b[0m\u001b[0m\n\u001b[1;32m     20\u001b[0m                      [str2array(i[\"Preds_model3\"]) for idx, i in orig_pred_df.iterrows()][row_number][:,p_idx]]\n",
      "\u001b[0;32m<ipython-input-41-2de4c8a3c518>\u001b[0m in \u001b[0;36mstr2array\u001b[0;34m(s)\u001b[0m\n\u001b[1;32m      5\u001b[0m     \u001b[0;31m# Replace commas and spaces\u001b[0m\u001b[0;34m\u001b[0m\u001b[0;34m\u001b[0m\u001b[0;34m\u001b[0m\u001b[0m\n\u001b[1;32m      6\u001b[0m     \u001b[0ms\u001b[0m\u001b[0;34m=\u001b[0m\u001b[0mre\u001b[0m\u001b[0;34m.\u001b[0m\u001b[0msub\u001b[0m\u001b[0;34m(\u001b[0m\u001b[0;34m'[,\\s]+'\u001b[0m\u001b[0;34m,\u001b[0m \u001b[0;34m', '\u001b[0m\u001b[0;34m,\u001b[0m \u001b[0ms\u001b[0m\u001b[0;34m)\u001b[0m\u001b[0;34m\u001b[0m\u001b[0;34m\u001b[0m\u001b[0m\n\u001b[0;32m----> 7\u001b[0;31m     \u001b[0;32mreturn\u001b[0m \u001b[0mnp\u001b[0m\u001b[0;34m.\u001b[0m\u001b[0marray\u001b[0m\u001b[0;34m(\u001b[0m\u001b[0mast\u001b[0m\u001b[0;34m.\u001b[0m\u001b[0mliteral_eval\u001b[0m\u001b[0;34m(\u001b[0m\u001b[0ms\u001b[0m\u001b[0;34m)\u001b[0m\u001b[0;34m)\u001b[0m\u001b[0;34m\u001b[0m\u001b[0;34m\u001b[0m\u001b[0m\n\u001b[0m\u001b[1;32m      8\u001b[0m \u001b[0;34m\u001b[0m\u001b[0m\n\u001b[1;32m      9\u001b[0m \u001b[0;34m\u001b[0m\u001b[0m\n",
      "\u001b[0;32m~/.conda/envs/pathdect/lib/python3.7/ast.py\u001b[0m in \u001b[0;36mliteral_eval\u001b[0;34m(node_or_string)\u001b[0m\n\u001b[1;32m     89\u001b[0m                     \u001b[0;32mreturn\u001b[0m \u001b[0mleft\u001b[0m \u001b[0;34m-\u001b[0m \u001b[0mright\u001b[0m\u001b[0;34m\u001b[0m\u001b[0;34m\u001b[0m\u001b[0m\n\u001b[1;32m     90\u001b[0m         \u001b[0;32mreturn\u001b[0m \u001b[0m_convert_signed_num\u001b[0m\u001b[0;34m(\u001b[0m\u001b[0mnode\u001b[0m\u001b[0;34m)\u001b[0m\u001b[0;34m\u001b[0m\u001b[0;34m\u001b[0m\u001b[0m\n\u001b[0;32m---> 91\u001b[0;31m     \u001b[0;32mreturn\u001b[0m \u001b[0m_convert\u001b[0m\u001b[0;34m(\u001b[0m\u001b[0mnode_or_string\u001b[0m\u001b[0;34m)\u001b[0m\u001b[0;34m\u001b[0m\u001b[0;34m\u001b[0m\u001b[0m\n\u001b[0m\u001b[1;32m     92\u001b[0m \u001b[0;34m\u001b[0m\u001b[0m\n\u001b[1;32m     93\u001b[0m \u001b[0;34m\u001b[0m\u001b[0m\n",
      "\u001b[0;32m~/.conda/envs/pathdect/lib/python3.7/ast.py\u001b[0m in \u001b[0;36m_convert\u001b[0;34m(node)\u001b[0m\n\u001b[1;32m     88\u001b[0m                 \u001b[0;32melse\u001b[0m\u001b[0;34m:\u001b[0m\u001b[0;34m\u001b[0m\u001b[0;34m\u001b[0m\u001b[0m\n\u001b[1;32m     89\u001b[0m                     \u001b[0;32mreturn\u001b[0m \u001b[0mleft\u001b[0m \u001b[0;34m-\u001b[0m \u001b[0mright\u001b[0m\u001b[0;34m\u001b[0m\u001b[0;34m\u001b[0m\u001b[0m\n\u001b[0;32m---> 90\u001b[0;31m         \u001b[0;32mreturn\u001b[0m \u001b[0m_convert_signed_num\u001b[0m\u001b[0;34m(\u001b[0m\u001b[0mnode\u001b[0m\u001b[0;34m)\u001b[0m\u001b[0;34m\u001b[0m\u001b[0;34m\u001b[0m\u001b[0m\n\u001b[0m\u001b[1;32m     91\u001b[0m     \u001b[0;32mreturn\u001b[0m \u001b[0m_convert\u001b[0m\u001b[0;34m(\u001b[0m\u001b[0mnode_or_string\u001b[0m\u001b[0;34m)\u001b[0m\u001b[0;34m\u001b[0m\u001b[0;34m\u001b[0m\u001b[0m\n\u001b[1;32m     92\u001b[0m \u001b[0;34m\u001b[0m\u001b[0m\n",
      "\u001b[0;32m~/.conda/envs/pathdect/lib/python3.7/ast.py\u001b[0m in \u001b[0;36m_convert_signed_num\u001b[0;34m(node)\u001b[0m\n\u001b[1;32m     61\u001b[0m             \u001b[0;32melse\u001b[0m\u001b[0;34m:\u001b[0m\u001b[0;34m\u001b[0m\u001b[0;34m\u001b[0m\u001b[0m\n\u001b[1;32m     62\u001b[0m                 \u001b[0;32mreturn\u001b[0m \u001b[0;34m-\u001b[0m \u001b[0moperand\u001b[0m\u001b[0;34m\u001b[0m\u001b[0;34m\u001b[0m\u001b[0m\n\u001b[0;32m---> 63\u001b[0;31m         \u001b[0;32mreturn\u001b[0m \u001b[0m_convert_num\u001b[0m\u001b[0;34m(\u001b[0m\u001b[0mnode\u001b[0m\u001b[0;34m)\u001b[0m\u001b[0;34m\u001b[0m\u001b[0;34m\u001b[0m\u001b[0m\n\u001b[0m\u001b[1;32m     64\u001b[0m     \u001b[0;32mdef\u001b[0m \u001b[0m_convert\u001b[0m\u001b[0;34m(\u001b[0m\u001b[0mnode\u001b[0m\u001b[0;34m)\u001b[0m\u001b[0;34m:\u001b[0m\u001b[0;34m\u001b[0m\u001b[0;34m\u001b[0m\u001b[0m\n\u001b[1;32m     65\u001b[0m         \u001b[0;32mif\u001b[0m \u001b[0misinstance\u001b[0m\u001b[0;34m(\u001b[0m\u001b[0mnode\u001b[0m\u001b[0;34m,\u001b[0m \u001b[0mConstant\u001b[0m\u001b[0;34m)\u001b[0m\u001b[0;34m:\u001b[0m\u001b[0;34m\u001b[0m\u001b[0;34m\u001b[0m\u001b[0m\n",
      "\u001b[0;32m~/.conda/envs/pathdect/lib/python3.7/ast.py\u001b[0m in \u001b[0;36m_convert_num\u001b[0;34m(node)\u001b[0m\n\u001b[1;32m     53\u001b[0m         \u001b[0;32melif\u001b[0m \u001b[0misinstance\u001b[0m\u001b[0;34m(\u001b[0m\u001b[0mnode\u001b[0m\u001b[0;34m,\u001b[0m \u001b[0mNum\u001b[0m\u001b[0;34m)\u001b[0m\u001b[0;34m:\u001b[0m\u001b[0;34m\u001b[0m\u001b[0;34m\u001b[0m\u001b[0m\n\u001b[1;32m     54\u001b[0m             \u001b[0;32mreturn\u001b[0m \u001b[0mnode\u001b[0m\u001b[0;34m.\u001b[0m\u001b[0mn\u001b[0m\u001b[0;34m\u001b[0m\u001b[0;34m\u001b[0m\u001b[0m\n\u001b[0;32m---> 55\u001b[0;31m         \u001b[0;32mraise\u001b[0m \u001b[0mValueError\u001b[0m\u001b[0;34m(\u001b[0m\u001b[0;34m'malformed node or string: '\u001b[0m \u001b[0;34m+\u001b[0m \u001b[0mrepr\u001b[0m\u001b[0;34m(\u001b[0m\u001b[0mnode\u001b[0m\u001b[0;34m)\u001b[0m\u001b[0;34m)\u001b[0m\u001b[0;34m\u001b[0m\u001b[0;34m\u001b[0m\u001b[0m\n\u001b[0m\u001b[1;32m     56\u001b[0m     \u001b[0;32mdef\u001b[0m \u001b[0m_convert_signed_num\u001b[0m\u001b[0;34m(\u001b[0m\u001b[0mnode\u001b[0m\u001b[0;34m)\u001b[0m\u001b[0;34m:\u001b[0m\u001b[0;34m\u001b[0m\u001b[0;34m\u001b[0m\u001b[0m\n\u001b[1;32m     57\u001b[0m         \u001b[0;32mif\u001b[0m \u001b[0misinstance\u001b[0m\u001b[0;34m(\u001b[0m\u001b[0mnode\u001b[0m\u001b[0;34m,\u001b[0m \u001b[0mUnaryOp\u001b[0m\u001b[0;34m)\u001b[0m \u001b[0;32mand\u001b[0m \u001b[0misinstance\u001b[0m\u001b[0;34m(\u001b[0m\u001b[0mnode\u001b[0m\u001b[0;34m.\u001b[0m\u001b[0mop\u001b[0m\u001b[0;34m,\u001b[0m \u001b[0;34m(\u001b[0m\u001b[0mUAdd\u001b[0m\u001b[0;34m,\u001b[0m \u001b[0mUSub\u001b[0m\u001b[0;34m)\u001b[0m\u001b[0;34m)\u001b[0m\u001b[0;34m:\u001b[0m\u001b[0;34m\u001b[0m\u001b[0;34m\u001b[0m\u001b[0m\n",
      "\u001b[0;31mValueError\u001b[0m: malformed node or string: <_ast.Name object at 0x7f8413cea590>"
     ]
    }
   ],
   "source": [
    "pds_original_mask_outside_df = get_preds_PD(preds_original_mask_outside_df, test_padchest)"
   ]
  },
  {
   "cell_type": "code",
   "execution_count": null,
   "metadata": {},
   "outputs": [],
   "source": []
  }
 ],
 "metadata": {
  "kernelspec": {
   "display_name": "pathdect",
   "language": "python",
   "name": "python3"
  },
  "language_info": {
   "codemirror_mode": {
    "name": "ipython",
    "version": 3
   },
   "file_extension": ".py",
   "mimetype": "text/x-python",
   "name": "python",
   "nbconvert_exporter": "python",
   "pygments_lexer": "ipython3",
   "version": "3.7.12"
  }
 },
 "nbformat": 4,
 "nbformat_minor": 2
}
