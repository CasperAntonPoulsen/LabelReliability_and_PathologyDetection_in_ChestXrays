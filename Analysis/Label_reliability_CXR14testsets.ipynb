{
 "cells": [
  {
   "cell_type": "markdown",
   "id": "c2a9c0a5",
   "metadata": {},
   "source": [
    "# EDA of testsets, chestXray14"
   ]
  },
  {
   "cell_type": "code",
   "execution_count": 72,
   "id": "c56960cc",
   "metadata": {},
   "outputs": [],
   "source": [
    "import json\n",
    "import os\n",
    "import numpy as np\n",
    "import pandas as pd\n",
    "import seaborn as sns\n",
    "import matplotlib as mpl\n",
    "import matplotlib.pyplot as plt\n",
    "from collections import Counter\n",
    "\n",
    "from sklearn.metrics import accuracy_score\n",
    "from sklearn.metrics import cohen_kappa_score"
   ]
  },
  {
   "cell_type": "markdown",
   "id": "ebbcc11b",
   "metadata": {},
   "source": [
    "### Loading data"
   ]
  },
  {
   "cell_type": "code",
   "execution_count": 20,
   "id": "489edcf1",
   "metadata": {
    "scrolled": false
   },
   "outputs": [],
   "source": [
    "# loading the the label sets\n",
    "chestX_ray14 = pd.read_csv(\"../../Data/ChestX-ray14/Data_Entry_2017.csv\")\n",
    "bbox_labels_orig = pd.read_csv(\"../../Data/ChestX-ray14/BBox_List_2017.csv\")\n",
    "\n",
    "gcs16L_orig = pd.read_csv(\"../Data/gcs-public-data-healthcare-nih-chest-xray-labels/all_findings_expert_labels/test_labels.csv\")#, index_col=0)\n",
    "gcs16L_orig.rename(columns = {'Image ID':'Image Index'}, inplace = True)\n",
    "\n",
    "gsc4L_val_orig = pd.read_csv(\"../Data/gcs-public-data-healthcare-nih-chest-xray-labels/four_findings_expert_labels/validation_labels.csv\")#, index_col=0)\n",
    "gcs4L_test_orig = pd.read_csv(\"../Data/gcs-public-data-healthcare-nih-chest-xray-labels/four_findings_expert_labels/test_labels.csv\")#, index_col=0)\n",
    "\n",
    "# The RSNA files for mapping\n",
    "RSNA_csv = pd.read_csv('../Data/RSNA/stage_2_train_labels.csv')\n",
    "mappings_path = '../Data/RSNA/pneumonia-challenge-dataset-mappings_2018.json'\n",
    "map_file = open(mappings_path)  \n",
    "mappings = json.load(map_file)  \n",
    "map_file.close()\n",
    "mappings_df = pd.DataFrame.from_dict(mappings)"
   ]
  },
  {
   "cell_type": "markdown",
   "id": "f977ef28",
   "metadata": {},
   "source": [
    "### Loading the dataframes  "
   ]
  },
  {
   "cell_type": "code",
   "execution_count": 21,
   "id": "916026bf",
   "metadata": {},
   "outputs": [],
   "source": [
    "# chaning labels to fit like chestX-ray14\n",
    "bbox_labels_orig[\"Finding Label\"] = bbox_labels_orig[\"Finding Label\"].replace(\"Infiltrate\", \"Infiltration\")\n",
    "gcs16L_orig.rename(columns = {'Pleural Thickening':'Pleural_Thickening'}, inplace = True)"
   ]
  },
  {
   "cell_type": "code",
   "execution_count": 27,
   "id": "7d68fa15",
   "metadata": {},
   "outputs": [],
   "source": [
    "# preprocessing the RSNA files\n",
    "RSNA_csv.rename(columns = {'patientId':'subset_img_id'}, inplace = True)\n",
    "RSNA_mapping = RSNA_csv.merge(mappings_df, how='inner', on=\"subset_img_id\")\n",
    "RSNA_mapping = RSNA_mapping.drop_duplicates(subset=['subset_img_id'])\n",
    "RSNA_mapping.rename(columns = {'img_id':'Image Index'}, inplace = True)\n",
    "RSNA = RSNA_mapping.merge(chestX_ray14, how='inner', on=\"Image Index\")\n",
    "RSNA = RSNA[['Image Index', 'Target']]\n",
    "# RSNA_chest.to_csv(\"../Data/RSNA/RSNA_preprocessed.csv\", index=False)\n",
    "\n",
    "RSNA[\"Labels_RSNA\"] = RSNA[\"Target\"].replace({0: \"No pneumonia\", 1: \"Pneumonia\"})\n",
    "RSNA = RSNA[[\"Image Index\", \"Labels_RSNA\"]]"
   ]
  },
  {
   "cell_type": "markdown",
   "id": "bd715e95",
   "metadata": {},
   "source": [
    "### Raw counts "
   ]
  },
  {
   "cell_type": "code",
   "execution_count": 28,
   "id": "c2ad86f3",
   "metadata": {},
   "outputs": [
    {
     "name": "stdout",
     "output_type": "stream",
     "text": [
      "Total labels from bbox: 984\n"
     ]
    }
   ],
   "source": [
    "print(\"Total labels from bbox:\", len(bbox_labels_orig[\"Image Index\"]))"
   ]
  },
  {
   "cell_type": "code",
   "execution_count": 29,
   "id": "359b92f0",
   "metadata": {},
   "outputs": [
    {
     "name": "stdout",
     "output_type": "stream",
     "text": [
      "Entire ChestX-ray14: 112120\n",
      "\n",
      "Image reviewed intances:\n",
      "Labelled img from bbox: 880\n",
      "Labelled img from gcs, all labels: 810\n",
      "Labelled img from gcs, four labels val: 2414\n",
      "Labelled img from gcs, four labels test: 1962\n",
      "Labelled img from RSNA: 26684\n",
      "\n",
      "All labels combined: 1794\n",
      "Four labels combined: 4376\n",
      "\n",
      "A total of: 6170 are annotated by image review\n"
     ]
    }
   ],
   "source": [
    "print(\"Entire ChestX-ray14:\", len(chestX_ray14))\n",
    "print()\n",
    "print(\"Image reviewed intances:\")\n",
    "print(\"Labelled img from bbox:\", len(set(bbox_labels_orig[\"Image Index\"])))\n",
    "print(\"Labelled img from gcs, all labels:\", len(gcs16L_orig))\n",
    "print(\"Labelled img from gcs, four labels val:\", len(gsc4L_val_orig))\n",
    "print(\"Labelled img from gcs, four labels test:\", len(gcs4L_test_orig))\n",
    "print(\"Labelled img from RSNA:\", len(RSNA))\n",
    "\n",
    "print()\n",
    "print(\"All labels combined:\", len(bbox_labels_orig)+len(gcs16L_orig))\n",
    "print(\"Four labels combined:\", len(gsc4L_val_orig)+len(gcs4L_test_orig))\n",
    "\n",
    "print()\n",
    "print(\"A total of:\", len(bbox_labels_orig)+len(gcs16L_orig) + len(gsc4L_val_orig)+len(gcs4L_test_orig), \"are annotated by image review\")"
   ]
  },
  {
   "cell_type": "markdown",
   "id": "587341e0",
   "metadata": {},
   "source": [
    "### Labels annotated "
   ]
  },
  {
   "cell_type": "code",
   "execution_count": 32,
   "id": "158ccab6",
   "metadata": {},
   "outputs": [
    {
     "name": "stdout",
     "output_type": "stream",
     "text": [
      "labels in ChestX-ray14: 15\n",
      "{'Consolidation', 'Fibrosis', 'Emphysema', 'Hernia', 'Mass', 'Pneumonia', 'Atelectasis', 'Pneumothorax', 'Infiltration', 'Edema', 'Nodule', 'Pleural_Thickening', 'Cardiomegaly', 'Effusion', 'No Finding'}\n",
      "\n",
      "labels in bbox: 8\n",
      "{'Mass', 'Pneumonia', 'Atelectasis', 'Pneumothorax', 'Infiltration', 'Nodule', 'Cardiomegaly', 'Effusion'}\n",
      "\n",
      "labels in gcs16L_orig: 16\n",
      "{'Consolidation', 'Fibrosis', 'Emphysema', 'Hernia', 'Abnormal', 'Mass', 'Pneumonia', 'Atelectasis', 'Pneumothorax', 'Infiltration', 'Edema', 'Other', 'Nodule', 'Pleural_Thickening', 'Cardiomegaly', 'Effusion'}\n",
      "\n",
      "labels in gsc4L_val_orig: 4\n",
      "{'Airspace opacity', 'Pneumothorax', 'Fracture', 'Nodule or mass'}\n",
      "\n",
      "labels in RSNA: 2\n",
      "{'Pneumonia', 'No pneumonia'}\n"
     ]
    }
   ],
   "source": [
    "# Checking the labels\n",
    "ChestX_l = set([i for j in list(chestX_ray14[\"Finding Labels\"]) for i in j.split(\"|\")])\n",
    "print(\"labels in ChestX-ray14:\", len(ChestX_l))\n",
    "print(ChestX_l)\n",
    "print()\n",
    "\n",
    "bbox_l = set([i for i in list(bbox_labels_orig[\"Finding Label\"])])\n",
    "print(\"labels in bbox:\", len(bbox_l))\n",
    "print(bbox_l)\n",
    "print()\n",
    "\n",
    "gsc16L_l = set(gcs16L_orig.columns.to_list()[2:])\n",
    "print(\"labels in gcs16L_orig:\", len(gsc16L_l))\n",
    "print(gsc16L_l)\n",
    "print()\n",
    "\n",
    "gsc4L_l = set(gsc4L_val_orig.columns.to_list()[-5:-1])\n",
    "print(\"labels in gsc4L_val_orig:\", len(gsc4L_l))\n",
    "print(gsc4L_l)\n",
    "print()\n",
    "\n",
    "RSNA_l = set([i for i in list(RSNA[\"Labels_RSNA\"])])\n",
    "print(\"labels in RSNA:\", len(RSNA_l))\n",
    "print(RSNA_l)"
   ]
  },
  {
   "cell_type": "code",
   "execution_count": 33,
   "id": "ac8b0c92",
   "metadata": {},
   "outputs": [],
   "source": [
    "# add Nodule or mass\n",
    "ChestX_l.add('Nodule or mass')\n",
    "bbox_l.add('Nodule or mass')\n",
    "gsc16L_l.add('Nodule or mass')"
   ]
  },
  {
   "cell_type": "code",
   "execution_count": 34,
   "id": "e3dbb61d",
   "metadata": {},
   "outputs": [
    {
     "name": "stdout",
     "output_type": "stream",
     "text": [
      "difference between ChestX-ray14 and gsc16L {'Abnormal', 'Other'}\n",
      "difference between ChestX-ray14 and gsc16L {'No Finding'}\n",
      "\n",
      "difference between bbox_l and gsc16L {'Consolidation', 'Fibrosis', 'Emphysema', 'Hernia', 'Abnormal', 'Edema', 'Other', 'Pleural_Thickening'}\n",
      "difference between bbox_l and gsc16L set()\n"
     ]
    }
   ],
   "source": [
    "\n",
    "print(\"difference between ChestX-ray14 and gsc16L\", gsc16L_l-ChestX_l)\n",
    "print(\"difference between ChestX-ray14 and gsc16L\", ChestX_l-gsc16L_l)\n",
    "\n",
    "print()\n",
    "print(\"difference between bbox_l and gsc16L\", gsc16L_l-bbox_l)\n",
    "print(\"difference between bbox_l and gsc16L\", bbox_l-gsc16L_l)\n"
   ]
  },
  {
   "cell_type": "markdown",
   "id": "bdc39716",
   "metadata": {},
   "source": [
    "### Checking if images are reviewed mulitiple time  "
   ]
  },
  {
   "cell_type": "code",
   "execution_count": 35,
   "id": "8053b319",
   "metadata": {},
   "outputs": [
    {
     "name": "stdout",
     "output_type": "stream",
     "text": [
      "bbox\n",
      "984 images 880 unique images\n",
      "\n",
      "gcs all labels\n",
      "810 images 810 unique images\n",
      "\n",
      "gcs four labels val, test\n",
      "2414 images 2414 unique images\n",
      "1962 images 1962 unique images\n"
     ]
    }
   ],
   "source": [
    "print(\"bbox\")\n",
    "print(len(bbox_labels_orig[\"Image Index\"].to_list()), \"images\", len(set(bbox_labels_orig[\"Image Index\"].to_list())), \"unique images\")\n",
    "print(\"\\ngcs all labels\")\n",
    "print(len(gcs16L_orig[\"Image Index\"].to_list()), \"images\", len(set(gcs16L_orig[\"Image Index\"].to_list())), \"unique images\")\n",
    "print(\"\\ngcs four labels val, test\")\n",
    "print(len(gsc4L_val_orig[\"Image Index\"].to_list()), \"images\", len(set(gsc4L_val_orig[\"Image Index\"].to_list())), \"unique images\")\n",
    "print(len(gcs4L_test_orig[\"Image Index\"].to_list()), \"images\", len(set(gcs4L_test_orig[\"Image Index\"].to_list())), \"unique images\")"
   ]
  },
  {
   "cell_type": "code",
   "execution_count": 36,
   "id": "152c9943",
   "metadata": {},
   "outputs": [
    {
     "name": "stdout",
     "output_type": "stream",
     "text": [
      "93\n",
      "93\n"
     ]
    }
   ],
   "source": [
    "bbox_repeat = list({x for x in bbox_labels_orig[\"Image Index\"].to_list() if bbox_labels_orig[\"Image Index\"].to_list().count(x) > 1})\n",
    "print(len(bbox_repeat))\n",
    "print(len(set(bbox_repeat)))\n"
   ]
  },
  {
   "cell_type": "code",
   "execution_count": 37,
   "id": "cbec056b",
   "metadata": {},
   "outputs": [
    {
     "data": {
      "text/html": [
       "<div>\n",
       "<style scoped>\n",
       "    .dataframe tbody tr th:only-of-type {\n",
       "        vertical-align: middle;\n",
       "    }\n",
       "\n",
       "    .dataframe tbody tr th {\n",
       "        vertical-align: top;\n",
       "    }\n",
       "\n",
       "    .dataframe thead th {\n",
       "        text-align: right;\n",
       "    }\n",
       "</style>\n",
       "<table border=\"1\" class=\"dataframe\">\n",
       "  <thead>\n",
       "    <tr style=\"text-align: right;\">\n",
       "      <th></th>\n",
       "      <th>Image Index</th>\n",
       "      <th>Finding Label</th>\n",
       "      <th>Bbox [x</th>\n",
       "      <th>y</th>\n",
       "      <th>w</th>\n",
       "      <th>h]</th>\n",
       "      <th>Unnamed: 6</th>\n",
       "      <th>Unnamed: 7</th>\n",
       "      <th>Unnamed: 8</th>\n",
       "    </tr>\n",
       "  </thead>\n",
       "  <tbody>\n",
       "    <tr>\n",
       "      <th>308</th>\n",
       "      <td>00008814_010.png</td>\n",
       "      <td>Effusion</td>\n",
       "      <td>195.128889</td>\n",
       "      <td>412.197934</td>\n",
       "      <td>665.600000</td>\n",
       "      <td>105.813333</td>\n",
       "      <td>NaN</td>\n",
       "      <td>NaN</td>\n",
       "      <td>NaN</td>\n",
       "    </tr>\n",
       "    <tr>\n",
       "      <th>461</th>\n",
       "      <td>00008814_010.png</td>\n",
       "      <td>Infiltration</td>\n",
       "      <td>205.368889</td>\n",
       "      <td>392.855712</td>\n",
       "      <td>643.982222</td>\n",
       "      <td>86.471111</td>\n",
       "      <td>NaN</td>\n",
       "      <td>NaN</td>\n",
       "      <td>NaN</td>\n",
       "    </tr>\n",
       "    <tr>\n",
       "      <th>965</th>\n",
       "      <td>00008814_010.png</td>\n",
       "      <td>Atelectasis</td>\n",
       "      <td>195.527118</td>\n",
       "      <td>407.646823</td>\n",
       "      <td>669.013333</td>\n",
       "      <td>64.853333</td>\n",
       "      <td>NaN</td>\n",
       "      <td>NaN</td>\n",
       "      <td>NaN</td>\n",
       "    </tr>\n",
       "  </tbody>\n",
       "</table>\n",
       "</div>"
      ],
      "text/plain": [
       "          Image Index Finding Label     Bbox [x           y           w  \\\n",
       "308  00008814_010.png      Effusion  195.128889  412.197934  665.600000   \n",
       "461  00008814_010.png  Infiltration  205.368889  392.855712  643.982222   \n",
       "965  00008814_010.png   Atelectasis  195.527118  407.646823  669.013333   \n",
       "\n",
       "             h]  Unnamed: 6  Unnamed: 7  Unnamed: 8  \n",
       "308  105.813333         NaN         NaN         NaN  \n",
       "461   86.471111         NaN         NaN         NaN  \n",
       "965   64.853333         NaN         NaN         NaN  "
      ]
     },
     "execution_count": 37,
     "metadata": {},
     "output_type": "execute_result"
    }
   ],
   "source": [
    "bbox_labels_orig[bbox_labels_orig[\"Image Index\"] == bbox_repeat[0]]"
   ]
  },
  {
   "cell_type": "code",
   "execution_count": 38,
   "id": "5bbc3286",
   "metadata": {},
   "outputs": [
    {
     "name": "stdout",
     "output_type": "stream",
     "text": [
      "6170 images annotated\n",
      "5195 unique images annotated\n",
      "975 not unique images\n"
     ]
    }
   ],
   "source": [
    "img_rev_idx = bbox_labels_orig[\"Image Index\"].to_list() + gcs16L_orig[\"Image Index\"].to_list() + \\\n",
    "    gsc4L_val_orig[\"Image Index\"].to_list() + gcs4L_test_orig[\"Image Index\"].to_list()\n",
    "\n",
    "print(len(img_rev_idx), \"images annotated\")\n",
    "print(len(set(img_rev_idx)), \"unique images annotated\")\n",
    "print(len(img_rev_idx) - len(set(img_rev_idx)), \"not unique images\")"
   ]
  },
  {
   "cell_type": "markdown",
   "id": "18637661",
   "metadata": {},
   "source": [
    "### Pre-processing the dataframes "
   ]
  },
  {
   "cell_type": "code",
   "execution_count": 39,
   "id": "03dd3a9f",
   "metadata": {},
   "outputs": [
    {
     "name": "stderr",
     "output_type": "stream",
     "text": [
      "/tmp/ipykernel_4029665/1115665617.py:2: FutureWarning: The default value of regex will change from True to False in a future version. In addition, single character regular expressions will *not* be treated as literal strings when regex=True.\n",
      "  chestXray['Finding Labels'] = chestXray['Finding Labels'].str.replace('|', ', ')\n",
      "/tmp/ipykernel_4029665/1115665617.py:2: SettingWithCopyWarning: \n",
      "A value is trying to be set on a copy of a slice from a DataFrame.\n",
      "Try using .loc[row_indexer,col_indexer] = value instead\n",
      "\n",
      "See the caveats in the documentation: https://pandas.pydata.org/pandas-docs/stable/user_guide/indexing.html#returning-a-view-versus-a-copy\n",
      "  chestXray['Finding Labels'] = chestXray['Finding Labels'].str.replace('|', ', ')\n"
     ]
    }
   ],
   "source": [
    "chestXray = chestX_ray14[['Image Index', 'Finding Labels']]\n",
    "chestXray['Finding Labels'] = chestXray['Finding Labels'].str.replace('|', ', ')"
   ]
  },
  {
   "cell_type": "code",
   "execution_count": 40,
   "id": "20f42c25",
   "metadata": {},
   "outputs": [
    {
     "data": {
      "text/html": [
       "<div>\n",
       "<style scoped>\n",
       "    .dataframe tbody tr th:only-of-type {\n",
       "        vertical-align: middle;\n",
       "    }\n",
       "\n",
       "    .dataframe tbody tr th {\n",
       "        vertical-align: top;\n",
       "    }\n",
       "\n",
       "    .dataframe thead th {\n",
       "        text-align: right;\n",
       "    }\n",
       "</style>\n",
       "<table border=\"1\" class=\"dataframe\">\n",
       "  <thead>\n",
       "    <tr style=\"text-align: right;\">\n",
       "      <th></th>\n",
       "      <th>Image Index</th>\n",
       "      <th>Labels_bbox</th>\n",
       "    </tr>\n",
       "  </thead>\n",
       "  <tbody>\n",
       "    <tr>\n",
       "      <th>308</th>\n",
       "      <td>00008814_010.png</td>\n",
       "      <td>Effusion, Infiltration, Atelectasis</td>\n",
       "    </tr>\n",
       "  </tbody>\n",
       "</table>\n",
       "</div>"
      ],
      "text/plain": [
       "          Image Index                          Labels_bbox\n",
       "308  00008814_010.png  Effusion, Infiltration, Atelectasis"
      ]
     },
     "execution_count": 40,
     "metadata": {},
     "output_type": "execute_result"
    }
   ],
   "source": [
    "# preprocess bbox df \n",
    "bbox_labels = bbox_labels_orig[['Image Index', 'Finding Label']]\n",
    "bbox_labels = bbox_labels.groupby('Image Index', group_keys=False, sort=False)['Finding Label'].apply(', '.join).reset_index()\n",
    "bbox_labels.rename(columns={'Finding Label':'Labels_bbox'}, inplace=True)\n",
    "bbox_labels[bbox_labels[\"Image Index\"] == bbox_repeat[0]]  "
   ]
  },
  {
   "cell_type": "code",
   "execution_count": 41,
   "id": "a83c0559",
   "metadata": {},
   "outputs": [],
   "source": [
    "# Defining the labels \n",
    "labels_all = gcs16L_orig.columns[2:]\n",
    "labels_all_idx = {l:idx for idx,l in enumerate(labels_all)}\n",
    "\n",
    "labels_four = gsc4L_val_orig.columns[-5:-1]\n",
    "labels_four_idx = {l:idx for idx,l in enumerate(labels_four)}\n",
    "\n",
    "# making copies to change values in:\n",
    "gsc16L = gcs16L_orig.copy()\n",
    "gsc4L_val_df = gsc4L_val_orig.copy()\n",
    "gsc4L_test_df = gcs4L_test_orig.copy()\n",
    "\n",
    "# mapping the \"NO\" and \"YES\" to 0 and 1\n",
    "for i in labels_all:\n",
    "    gsc16L[i] = gsc16L[i].replace({'NO': 0, 'YES': 1})\n",
    "\n",
    "for i in labels_four:\n",
    "    gsc4L_val_df[i] = gsc4L_val_df[i].replace({'NO': 0, 'YES': 1})\n",
    "    gsc4L_test_df[i] = gsc4L_test_df[i].replace({'NO': 0, 'YES': 1})\n",
    "    \n",
    "# making a labels column containint all the labels annotated by image review\n",
    "gsc16L['Labels_all'] = gsc16L[labels_all].astype('bool').apply(lambda row: \", \".join(labels_all[row]), axis=1)\n",
    "\n",
    "gsc4L_val_df['Labels_four'] = gsc4L_val_df[labels_four].astype('bool').apply(lambda row: \", \".join(labels_four[row]), axis=1)\n",
    "gsc4L_test_df['Labels_four'] = gsc4L_test_df[labels_four].astype('bool').apply(lambda row: \", \".join(labels_four[row]), axis=1)\n",
    "\n",
    "# concatenating val and test and keeping only relevant columns \n",
    "gsc4L = pd.concat([gsc4L_val_df, gsc4L_test_df])\n",
    "\n",
    "# keeping only relevant columns \n",
    "gsc16L = gsc16L[['Image Index', 'Labels_all']]\n",
    "gsc4L = gsc4L[['Image Index', 'Labels_four']]\n"
   ]
  },
  {
   "cell_type": "code",
   "execution_count": 42,
   "id": "1e8f2a22",
   "metadata": {},
   "outputs": [
    {
     "name": "stderr",
     "output_type": "stream",
     "text": [
      "/tmp/ipykernel_4029665/2506082899.py:10: SettingWithCopyWarning: \n",
      "A value is trying to be set on a copy of a slice from a DataFrame.\n",
      "Try using .loc[row_indexer,col_indexer] = value instead\n",
      "\n",
      "See the caveats in the documentation: https://pandas.pydata.org/pandas-docs/stable/user_guide/indexing.html#returning-a-view-versus-a-copy\n",
      "  chestXray[\"Finding Labels\"] = chestXray.apply(add_nodule_or_mass, args=(\"Finding Labels\", False), axis=1)\n"
     ]
    }
   ],
   "source": [
    "# Adding the label Nodul or mass \n",
    "def add_nodule_or_mass(row, column_name, true):\n",
    "    if \"Nodule\" in row[column_name] or \"Mass\" in row[column_name]:\n",
    "        return row[column_name] + \", Nodule or mass\"\n",
    "    else:\n",
    "        return row[column_name]\n",
    "\n",
    "gsc16L[\"Labels_all\"] = gsc16L.apply(add_nodule_or_mass, args=(\"Labels_all\", True), axis=1)\n",
    "bbox_labels[\"Labels_bbox\"] = bbox_labels.apply(add_nodule_or_mass, args=(\"Labels_bbox\", True), axis=1)\n",
    "chestXray[\"Finding Labels\"] = chestXray.apply(add_nodule_or_mass, args=(\"Finding Labels\", False), axis=1)"
   ]
  },
  {
   "cell_type": "code",
   "execution_count": 43,
   "id": "38681103",
   "metadata": {},
   "outputs": [
    {
     "data": {
      "text/plain": [
       "['Abnormal, Atelectasis, Nodule, Nodule or mass']"
      ]
     },
     "execution_count": 43,
     "metadata": {},
     "output_type": "execute_result"
    }
   ],
   "source": [
    "# check that is works\n",
    "gsc16L[gsc16L[\"Image Index\"] == \"00012291_008.png\"][\"Labels_all\"].tolist()"
   ]
  },
  {
   "cell_type": "markdown",
   "id": "c8032676",
   "metadata": {},
   "source": [
    "### Checking dublicates again, and agreement between the annotations "
   ]
  },
  {
   "cell_type": "code",
   "execution_count": 45,
   "id": "158d03b1",
   "metadata": {},
   "outputs": [
    {
     "name": "stdout",
     "output_type": "stream",
     "text": [
      "6066 images annotated\n",
      "5195 unique images annotated\n",
      "871 not unique images\n"
     ]
    }
   ],
   "source": [
    "img_rev_idx = bbox_labels[\"Image Index\"].to_list() + gsc16L[\"Image Index\"].to_list() + \\\n",
    "    gsc4L_val_df[\"Image Index\"].to_list() + gsc4L_test_df[\"Image Index\"].to_list()\n",
    "\n",
    "print(len(img_rev_idx), \"images annotated\")\n",
    "print(len(set(img_rev_idx)), \"unique images annotated\")\n",
    "print(len(img_rev_idx) - len(set(img_rev_idx)), \"not unique images\")"
   ]
  },
  {
   "cell_type": "code",
   "execution_count": 46,
   "id": "e058d23d",
   "metadata": {},
   "outputs": [
    {
     "name": "stdout",
     "output_type": "stream",
     "text": [
      "1716\n",
      "845\n"
     ]
    }
   ],
   "source": [
    "dublicates = [x for x in img_rev_idx if img_rev_idx.count(x) > 1]\n",
    "print(len(dublicates))\n",
    "print(len(set(dublicates)))\n",
    "dublicates = list(set(dublicates))"
   ]
  },
  {
   "cell_type": "code",
   "execution_count": 47,
   "id": "adc3ace1",
   "metadata": {},
   "outputs": [
    {
     "name": "stdout",
     "output_type": "stream",
     "text": [
      "61 dublicates in bbox_labes\n",
      "810 dublicates in gsc16L\n",
      "845 dublicates in gsc4L\n"
     ]
    }
   ],
   "source": [
    "print(len([i for i in bbox_labels[\"Image Index\"] if i in dublicates]), \"dublicates in bbox_labes\")\n",
    "print(len([i for i in gsc16L[\"Image Index\"] if i in dublicates]), \"dublicates in gsc16L\")\n",
    "print(len([i for i in gsc4L[\"Image Index\"] if i in dublicates]), \"dublicates in gsc4L\")"
   ]
  },
  {
   "cell_type": "code",
   "execution_count": 48,
   "id": "8ac987b7",
   "metadata": {},
   "outputs": [
    {
     "name": "stdout",
     "output_type": "stream",
     "text": [
      "26 images annotated by both bbox_labes and gsc16L\n",
      "61 images annotated by both bbox_labes and gsc4L\n",
      "810 images annotated by both gsc16L and gsc4L\n",
      "\n",
      "346 images annotated by both bbox_labes and RSNA\n",
      "1143 images annotated by both gsc4L and RSNA\n",
      "192 images annotated by both gsc16L and RSNA\n"
     ]
    }
   ],
   "source": [
    "print(len([i for i in list(bbox_labels[\"Image Index\"]) if i in list(gsc16L[\"Image Index\"])]), \"images annotated by both bbox_labes and gsc16L\")\n",
    "print(len([i for i in list(bbox_labels[\"Image Index\"]) if i in list(gsc4L[\"Image Index\"])]), \"images annotated by both bbox_labes and gsc4L\")\n",
    "print(len([i for i in list(gsc16L[\"Image Index\"]) if i in list(gsc4L[\"Image Index\"])]), \"images annotated by both gsc16L and gsc4L\")\n",
    "\n",
    "\"\"\"\n",
    "all images in gsc16L is also annotated in the gsc4L\n",
    "\"\"\"\n",
    "\n",
    "print()\n",
    "print(len([i for i in list(bbox_labels[\"Image Index\"]) if i in list(RSNA[\"Image Index\"])]), \"images annotated by both bbox_labes and RSNA\")\n",
    "print(len([i for i in list(gsc4L[\"Image Index\"]) if i in list(RSNA[\"Image Index\"])]), \"images annotated by both gsc4L and RSNA\")\n",
    "print(len([i for i in list(gsc16L[\"Image Index\"]) if i in list(RSNA[\"Image Index\"])]), \"images annotated by both gsc16L and RSNA\")\n"
   ]
  },
  {
   "cell_type": "code",
   "execution_count": 49,
   "id": "15f9044c",
   "metadata": {},
   "outputs": [],
   "source": [
    "# Looking at all labels\n",
    "def label_stats(df, label_list, col1, col2):\n",
    "    \n",
    "    image_idx = []\n",
    "    for idx, row in df.iterrows():\n",
    "\n",
    "        col1_list = [i.strip(\" \") for i in row[col1].split(\",\")]\n",
    "        col2_list = [i.strip(\" \") for i in row[col2].split(\",\")]\n",
    "\n",
    "        for label in label_list:\n",
    "            if label in col1_list and label in col2_list or label not in col1_list and label not in col2_list:\n",
    "                continue\n",
    "            else:\n",
    "                image_idx.append(row[\"Image Index\"])\n",
    "\n",
    "    # ensure unique image idx            \n",
    "    image_idx = set(image_idx)        \n",
    "    print(len(image_idx), \"Images with disagreement on at least one label\")\n",
    "    print(len(df)-len(image_idx), \"Images with complete agreement\")\n",
    "\n",
    "    print(\"Percentages of agreement:\", (len(df)-len(image_idx))/len(df)*100)\n",
    "        \n",
    "    return image_idx"
   ]
  },
  {
   "cell_type": "code",
   "execution_count": 50,
   "id": "91dd5c85",
   "metadata": {},
   "outputs": [],
   "source": [
    "# looking at 1 label at a time \n",
    "def my_func(row, column_name, label):\n",
    "    labels = [i.strip(\" \") for i in row[column_name].split(\",\")]\n",
    "    if label in labels:\n",
    "        return 1\n",
    "    else:\n",
    "        return 0\n",
    "\n",
    "def label_stats_one(df, label, col1, col2):\n",
    "    \n",
    "    df[label+\"1_bin\"] = df.apply(my_func, args=(col1, label), axis=1)\n",
    "    df[label+\"2_bin\"] = df.apply(my_func, args=(col2, label), axis=1)\n",
    "    \n",
    "#     print(Counter(df[col1+\"_bin\"]))\n",
    "#     print(Counter(df[col2+\"_bin\"]))\n",
    "\n",
    "    acc = accuracy_score(df[label+\"1_bin\"], df[label+\"2_bin\"])\n",
    "    cohens_kappa = cohen_kappa_score(df[label+\"1_bin\"], df[label+\"2_bin\"])\n",
    "    \n",
    "    print(label)\n",
    "    print(\"Accuracy:\", acc)\n",
    "    print(\"cohen_kappa_score:\", cohens_kappa)\n",
    "    \n",
    "    if cohens_kappa <= 0.20:\n",
    "        print(\"No agreement\")\n",
    "    if cohens_kappa >= 0.21 and cohens_kappa <= 0.39:\n",
    "        print(\"Minimal agreement\")\n",
    "    if cohens_kappa >= 0.40 and cohens_kappa <= 0.59:\n",
    "        print(\"Weak agreement\")\n",
    "    if cohens_kappa >= 0.60 and cohens_kappa <= 0.79:\n",
    "        print(\"Moderate agreement\")\n",
    "    if cohens_kappa >= 0.80 and cohens_kappa <= 0.90:\n",
    "        print(\"Strong agreement\")\n",
    "    if cohens_kappa > 0.90 :\n",
    "        print(\"Almost perfect agreement\")\n",
    "    \n",
    "    print()\n",
    "        \n",
    "    return acc, cohens_kappa"
   ]
  },
  {
   "cell_type": "markdown",
   "id": "742c73ee",
   "metadata": {},
   "source": [
    "# Comparing labels from image review  "
   ]
  },
  {
   "cell_type": "code",
   "execution_count": 51,
   "id": "7130d22e",
   "metadata": {},
   "outputs": [],
   "source": [
    "# All dfs are have the columns \"Image Index\", \"Labels_*\"\n",
    "\n",
    "def labels_from_image_review(df1, df2, combined_set_name):\n",
    "    print(combined_set_name)\n",
    "    \n",
    "    df1_c = df1.columns.to_list()\n",
    "    df2_c = df2.columns.to_list()\n",
    "    \n",
    "    df1_l = set([i.strip(\" \") for j in list(df1[df1_c[1]]) for i in j.split(\",\")])\n",
    "    df2_l = set([i.strip(\" \") for j in list(df2[df2_c[1]]) for i in j.split(\",\")])\n",
    "\n",
    "    shared_labels = df1_l.intersection(df2_l)\n",
    "    print(shared_labels)\n",
    "    print(df1_l)\n",
    "    print(df2_l)\n",
    "    \n",
    "    # Looking at all shared labels at the same time\n",
    "    combined = df1.merge(df2, how='inner', on=\"Image Index\")\n",
    "    incorrect = label_stats(combined, shared_labels, df1_c[1], df2_c[1])\n",
    "    print()\n",
    "    \n",
    "                \n",
    "    # looking at shared labels individually\n",
    "    accuracy = []\n",
    "    kappa_dict = {\"Sets\": combined_set_name}\n",
    "    for l in list(shared_labels):\n",
    "        acc, coh = label_stats_one(combined, l, df1_c[1], df2_c[1])\n",
    "        accuracy.append(acc)\n",
    "        kappa_dict[l] = coh\n",
    "    \n",
    "    print(\"---------------------------------------------\")\n",
    "    print()\n",
    "        \n",
    "    return pd.DataFrame(data=kappa_dict, index=[0])"
   ]
  },
  {
   "cell_type": "code",
   "execution_count": 52,
   "id": "120121d2",
   "metadata": {},
   "outputs": [
    {
     "data": {
      "text/plain": [
       "['Image Index', 'Labels_four']"
      ]
     },
     "execution_count": 52,
     "metadata": {},
     "output_type": "execute_result"
    }
   ],
   "source": [
    "gsc4L.columns.to_list()"
   ]
  },
  {
   "cell_type": "code",
   "execution_count": 53,
   "id": "ba77301c",
   "metadata": {},
   "outputs": [
    {
     "name": "stdout",
     "output_type": "stream",
     "text": [
      "BBox + GCS4L\n",
      "{'Pneumothorax', 'Nodule or mass'}\n",
      "{'Nodule or mass', 'Mass', 'Pneumonia', 'Atelectasis', 'Pneumothorax', 'Infiltration', 'Nodule', 'Cardiomegaly', 'Effusion'}\n",
      "{'', 'Airspace opacity', 'Nodule or mass', 'Fracture', 'Pneumothorax'}\n",
      "10 Images with disagreement on at least one label\n",
      "51 Images with complete agreement\n",
      "Percentages of agreement: 83.60655737704919\n",
      "\n",
      "Pneumothorax\n",
      "Accuracy: 0.9508196721311475\n",
      "cohen_kappa_score: 0.7004909983633387\n",
      "Moderate agreement\n",
      "\n",
      "Nodule or mass\n",
      "Accuracy: 0.8852459016393442\n",
      "cohen_kappa_score: 0.6834692364714603\n",
      "Moderate agreement\n",
      "\n",
      "---------------------------------------------\n",
      "\n",
      "BBox + GCS16L\n",
      "{'Nodule or mass', 'Mass', 'Pneumonia', 'Atelectasis', 'Pneumothorax', 'Infiltration', 'Nodule', 'Cardiomegaly', 'Effusion'}\n",
      "{'Nodule or mass', 'Mass', 'Pneumonia', 'Atelectasis', 'Pneumothorax', 'Infiltration', 'Nodule', 'Cardiomegaly', 'Effusion'}\n",
      "{'', 'Consolidation', 'Fibrosis', 'Nodule', 'Emphysema', 'Nodule or mass', 'Hernia', 'Abnormal', 'Mass', 'Pneumonia', 'Atelectasis', 'Pneumothorax', 'Edema', 'Infiltration', 'Other', 'Pleural_Thickening', 'Cardiomegaly', 'Effusion'}\n",
      "22 Images with disagreement on at least one label\n",
      "4 Images with complete agreement\n",
      "Percentages of agreement: 15.384615384615385\n",
      "\n",
      "Nodule or mass\n",
      "Accuracy: 0.8076923076923077\n",
      "cohen_kappa_score: 0.5323741007194245\n",
      "Weak agreement\n",
      "\n",
      "Mass\n",
      "Accuracy: 0.7692307692307693\n",
      "cohen_kappa_score: 0.26415094339622636\n",
      "Minimal agreement\n",
      "\n",
      "Pneumonia\n",
      "Accuracy: 0.9230769230769231\n",
      "cohen_kappa_score: 0.0\n",
      "No agreement\n",
      "\n",
      "Atelectasis\n",
      "Accuracy: 0.5769230769230769\n",
      "cohen_kappa_score: 0.21857923497267762\n",
      "Minimal agreement\n",
      "\n",
      "Pneumothorax\n",
      "Accuracy: 0.9230769230769231\n",
      "cohen_kappa_score: 0.7523809523809524\n",
      "Moderate agreement\n",
      "\n",
      "Infiltration\n",
      "Accuracy: 0.8076923076923077\n",
      "cohen_kappa_score: -0.10169491525423724\n",
      "No agreement\n",
      "\n",
      "Nodule\n",
      "Accuracy: 0.8461538461538461\n",
      "cohen_kappa_score: 0.5094339622641508\n",
      "Weak agreement\n",
      "\n",
      "Cardiomegaly\n",
      "Accuracy: 0.9615384615384616\n",
      "cohen_kappa_score: 0.8354430379746836\n",
      "Strong agreement\n",
      "\n",
      "Effusion\n",
      "Accuracy: 0.7307692307692307\n",
      "cohen_kappa_score: 0.3157894736842105\n",
      "Minimal agreement\n",
      "\n",
      "---------------------------------------------\n",
      "\n",
      "BBox + RSNA\n",
      "{'Pneumonia'}\n",
      "{'Nodule or mass', 'Mass', 'Pneumonia', 'Atelectasis', 'Pneumothorax', 'Infiltration', 'Nodule', 'Cardiomegaly', 'Effusion'}\n",
      "{'Pneumonia', 'No pneumonia'}\n",
      "120 Images with disagreement on at least one label\n",
      "226 Images with complete agreement\n",
      "Percentages of agreement: 65.3179190751445\n",
      "\n",
      "Pneumonia\n",
      "Accuracy: 0.653179190751445\n",
      "cohen_kappa_score: 0.1743885464307019\n",
      "No agreement\n",
      "\n",
      "---------------------------------------------\n",
      "\n",
      "GCS4L + GCS16L\n",
      "{'', 'Pneumothorax', 'Nodule or mass'}\n",
      "{'', 'Airspace opacity', 'Nodule or mass', 'Fracture', 'Pneumothorax'}\n",
      "{'', 'Consolidation', 'Fibrosis', 'Nodule', 'Emphysema', 'Nodule or mass', 'Hernia', 'Abnormal', 'Mass', 'Pneumonia', 'Atelectasis', 'Pneumothorax', 'Edema', 'Infiltration', 'Other', 'Pleural_Thickening', 'Cardiomegaly', 'Effusion'}\n",
      "267 Images with disagreement on at least one label\n",
      "543 Images with complete agreement\n",
      "Percentages of agreement: 67.03703703703704\n",
      "\n",
      "\n",
      "Accuracy: 0.7716049382716049\n",
      "cohen_kappa_score: 0.5393228029832576\n",
      "Weak agreement\n",
      "\n",
      "Pneumothorax\n",
      "Accuracy: 0.9358024691358025\n",
      "cohen_kappa_score: 0.7431080751402781\n",
      "Moderate agreement\n",
      "\n",
      "Nodule or mass\n",
      "Accuracy: 0.9024691358024691\n",
      "cohen_kappa_score: 0.7043659043659043\n",
      "Moderate agreement\n",
      "\n",
      "---------------------------------------------\n",
      "\n",
      "All + RSNA\n",
      "{'Pneumonia'}\n",
      "{'', 'Consolidation', 'Fibrosis', 'Nodule', 'Emphysema', 'Nodule or mass', 'Hernia', 'Abnormal', 'Mass', 'Pneumonia', 'Atelectasis', 'Pneumothorax', 'Edema', 'Infiltration', 'Other', 'Pleural_Thickening', 'Cardiomegaly', 'Effusion'}\n",
      "{'Pneumonia', 'No pneumonia'}\n",
      "19 Images with disagreement on at least one label\n",
      "173 Images with complete agreement\n",
      "Percentages of agreement: 90.10416666666666\n",
      "\n",
      "Pneumonia\n",
      "Accuracy: 0.9010416666666666\n",
      "cohen_kappa_score: 0.1578947368421053\n",
      "No agreement\n",
      "\n",
      "---------------------------------------------\n",
      "\n"
     ]
    }
   ],
   "source": [
    "kappa_df1 = labels_from_image_review(bbox_labels, gsc4L, \"BBox + GCS4L\")\n",
    "\n",
    "kappa_df2 = labels_from_image_review(bbox_labels, gsc16L, \"BBox + GCS16L\")\n",
    "\n",
    "kappa_df3 = labels_from_image_review(bbox_labels, RSNA, \"BBox + RSNA\")\n",
    "\n",
    "kappa_df4 = labels_from_image_review(gsc4L, gsc16L, \"GCS4L + GCS16L\")\n",
    "\n",
    "# have no shared labels \n",
    "# kappa_df5 = labels_from_image_review(gsc4L, RSNA, \"Four + RSNA\")\n",
    "\n",
    "kappa_df5 = labels_from_image_review(gsc16L, RSNA, \"All + RSNA\")\n",
    "\n",
    "kappa_df = pd.concat([kappa_df1, kappa_df2, kappa_df3, kappa_df4, kappa_df5])\n",
    "kappa_df.set_index('Sets', inplace=True)\n"
   ]
  },
  {
   "cell_type": "markdown",
   "id": "f564f4c9",
   "metadata": {},
   "source": [
    "## Exploring the inconsistency between labels from report parsing and image review"
   ]
  },
  {
   "cell_type": "code",
   "execution_count": 55,
   "id": "4b1c209f",
   "metadata": {},
   "outputs": [
    {
     "name": "stdout",
     "output_type": "stream",
     "text": [
      "The labels annotated by image review: 4\n",
      "['Fracture', 'Pneumothorax', 'Airspace opacity', 'Nodule or mass']\n",
      "\n",
      "The labels annotated by report parsing: 16\n",
      "['Abnormal', 'Atelectasis', 'Cardiomegaly', 'Effusion', 'Infiltration', 'Mass', 'Nodule', 'Pneumonia', 'Pneumothorax', 'Consolidation', 'Edema', 'Emphysema', 'Fibrosis', 'Pleural_Thickening', 'Hernia', 'Other']\n",
      "\n",
      "The labels they have in common:\n",
      "['Pneumothorax']\n"
     ]
    }
   ],
   "source": [
    "# Checking the labels\n",
    "print(\"The labels annotated by image review:\", len(labels_four))\n",
    "print(labels_four.to_list())\n",
    "print()\n",
    "print(\"The labels annotated by report parsing:\", len(labels_all))\n",
    "print(labels_all.to_list())\n",
    "print()\n",
    "print(\"The labels they have in common:\")\n",
    "intersect_labels = labels_all.intersection(labels_four)\n",
    "print(intersect_labels.to_list())"
   ]
  },
  {
   "cell_type": "code",
   "execution_count": 56,
   "id": "2c38919b",
   "metadata": {},
   "outputs": [
    {
     "name": "stdout",
     "output_type": "stream",
     "text": [
      "BBox + CRX14\n",
      "{'Nodule or mass', 'Mass', 'Pneumonia', 'Atelectasis', 'Pneumothorax', 'Infiltration', 'Nodule', 'Cardiomegaly', 'Effusion'}\n",
      "{'Nodule or mass', 'Mass', 'Pneumonia', 'Atelectasis', 'Pneumothorax', 'Infiltration', 'Nodule', 'Cardiomegaly', 'Effusion'}\n",
      "{'Consolidation', 'Fibrosis', 'Emphysema', 'Nodule or mass', 'Hernia', 'Mass', 'Pneumonia', 'Atelectasis', 'Pneumothorax', 'Infiltration', 'Edema', 'Nodule', 'Pleural_Thickening', 'Cardiomegaly', 'Effusion', 'No Finding'}\n",
      "521 Images with disagreement on at least one label\n",
      "359 Images with complete agreement\n",
      "Percentages of agreement: 40.79545454545455\n",
      "\n",
      "Nodule or mass\n",
      "Accuracy: 0.9034090909090909\n",
      "cohen_kappa_score: 0.7345333749751568\n",
      "Moderate agreement\n",
      "\n",
      "Mass\n",
      "Accuracy: 0.9397727272727273\n",
      "cohen_kappa_score: 0.7300613496932515\n",
      "Moderate agreement\n",
      "\n",
      "Pneumonia\n",
      "Accuracy: 0.9875\n",
      "cohen_kappa_score: 0.948902027027027\n",
      "Almost perfect agreement\n",
      "\n",
      "Atelectasis\n",
      "Accuracy: 0.8613636363636363\n",
      "cohen_kappa_score: 0.6596500126806999\n",
      "Moderate agreement\n",
      "\n",
      "Pneumothorax\n",
      "Accuracy: 0.9261363636363636\n",
      "cohen_kappa_score: 0.7107195598082252\n",
      "Moderate agreement\n",
      "\n",
      "Infiltration\n",
      "Accuracy: 0.7852272727272728\n",
      "cohen_kappa_score: 0.4565558343789209\n",
      "Weak agreement\n",
      "\n",
      "Nodule\n",
      "Accuracy: 0.9056818181818181\n",
      "cohen_kappa_score: 0.6083310096308531\n",
      "Moderate agreement\n",
      "\n",
      "Cardiomegaly\n",
      "Accuracy: 0.9556818181818182\n",
      "cohen_kappa_score: 0.8553485627581556\n",
      "Strong agreement\n",
      "\n",
      "Effusion\n",
      "Accuracy: 0.8193181818181818\n",
      "cohen_kappa_score: 0.5540085679314566\n",
      "Weak agreement\n",
      "\n",
      "---------------------------------------------\n",
      "\n",
      "GCS4L + CRX14\n",
      "{'Pneumothorax', 'Nodule or mass'}\n",
      "{'', 'Airspace opacity', 'Nodule or mass', 'Fracture', 'Pneumothorax'}\n",
      "{'Consolidation', 'Fibrosis', 'Emphysema', 'Nodule or mass', 'Hernia', 'Mass', 'Pneumonia', 'Atelectasis', 'Pneumothorax', 'Infiltration', 'Edema', 'Nodule', 'Pleural_Thickening', 'Cardiomegaly', 'Effusion', 'No Finding'}\n",
      "772 Images with disagreement on at least one label\n",
      "3604 Images with complete agreement\n",
      "Percentages of agreement: 82.35831809872029\n",
      "\n",
      "Pneumothorax\n",
      "Accuracy: 0.9410420475319927\n",
      "cohen_kappa_score: 0.42680871285198474\n",
      "Weak agreement\n",
      "\n",
      "Nodule or mass\n",
      "Accuracy: 0.8747714808043876\n",
      "cohen_kappa_score: 0.4133947813239204\n",
      "Weak agreement\n",
      "\n",
      "---------------------------------------------\n",
      "\n",
      "GCS16L + CRX14\n",
      "{'Consolidation', 'Fibrosis', 'Emphysema', 'Nodule or mass', 'Hernia', 'Mass', 'Pneumonia', 'Atelectasis', 'Pneumothorax', 'Infiltration', 'Edema', 'Nodule', 'Pleural_Thickening', 'Cardiomegaly', 'Effusion'}\n",
      "{'', 'Consolidation', 'Fibrosis', 'Nodule', 'Emphysema', 'Nodule or mass', 'Hernia', 'Abnormal', 'Mass', 'Pneumonia', 'Atelectasis', 'Pneumothorax', 'Edema', 'Infiltration', 'Other', 'Pleural_Thickening', 'Cardiomegaly', 'Effusion'}\n",
      "{'Consolidation', 'Fibrosis', 'Emphysema', 'Nodule or mass', 'Hernia', 'Mass', 'Pneumonia', 'Atelectasis', 'Pneumothorax', 'Infiltration', 'Edema', 'Nodule', 'Pleural_Thickening', 'Cardiomegaly', 'Effusion', 'No Finding'}\n",
      "569 Images with disagreement on at least one label\n",
      "241 Images with complete agreement\n",
      "Percentages of agreement: 29.75308641975309\n",
      "\n",
      "Consolidation\n",
      "Accuracy: 0.8814814814814815\n",
      "cohen_kappa_score: 0.14603878846449514\n",
      "No agreement\n",
      "\n",
      "Fibrosis\n",
      "Accuracy: 0.9604938271604938\n",
      "cohen_kappa_score: 0.039786619248721844\n",
      "No agreement\n",
      "\n",
      "Emphysema\n",
      "Accuracy: 0.945679012345679\n",
      "cohen_kappa_score: 0.029253145938878955\n",
      "No agreement\n",
      "\n",
      "Nodule or mass\n",
      "Accuracy: 0.8222222222222222\n",
      "cohen_kappa_score: 0.40821917808219177\n",
      "Weak agreement\n",
      "\n",
      "Hernia\n",
      "Accuracy: 0.9938271604938271\n",
      "cohen_kappa_score: 0.4413793103448276\n",
      "Weak agreement\n",
      "\n",
      "Mass\n",
      "Accuracy: 0.8876543209876543\n",
      "cohen_kappa_score: 0.36284425081686633\n",
      "Minimal agreement\n",
      "\n",
      "Pneumonia\n",
      "Accuracy: 0.9827160493827161\n",
      "cohen_kappa_score: -0.004250797024442088\n",
      "No agreement\n",
      "\n",
      "Atelectasis\n",
      "Accuracy: 0.6679012345679012\n",
      "cohen_kappa_score: 0.18159691704414838\n",
      "No agreement\n",
      "\n",
      "Pneumothorax\n",
      "Accuracy: 0.8790123456790123\n",
      "cohen_kappa_score: 0.5371212651319013\n",
      "Weak agreement\n",
      "\n",
      "Infiltration\n",
      "Accuracy: 0.828395061728395\n",
      "cohen_kappa_score: 0.06921181858765568\n",
      "No agreement\n",
      "\n",
      "Edema\n",
      "Accuracy: 0.9617283950617284\n",
      "cohen_kappa_score: -0.014873494462856574\n",
      "No agreement\n",
      "\n",
      "Nodule\n",
      "Accuracy: 0.8481481481481481\n",
      "cohen_kappa_score: 0.30450261780104715\n",
      "Minimal agreement\n",
      "\n",
      "Pleural_Thickening\n",
      "Accuracy: 0.9135802469135802\n",
      "cohen_kappa_score: 0.17685316918788652\n",
      "No agreement\n",
      "\n",
      "Cardiomegaly\n",
      "Accuracy: 0.9111111111111111\n",
      "cohen_kappa_score: 0.33944954128440363\n",
      "Minimal agreement\n",
      "\n",
      "Effusion\n",
      "Accuracy: 0.7666666666666667\n",
      "cohen_kappa_score: 0.33633612804217206\n",
      "Minimal agreement\n",
      "\n",
      "---------------------------------------------\n",
      "\n",
      "RSNA + CRX14\n",
      "{'Pneumonia'}\n",
      "{'Pneumonia', 'No pneumonia'}\n",
      "{'Consolidation', 'Fibrosis', 'Emphysema', 'Nodule or mass', 'Hernia', 'Mass', 'Pneumonia', 'Atelectasis', 'Pneumothorax', 'Infiltration', 'Edema', 'Nodule', 'Pleural_Thickening', 'Cardiomegaly', 'Effusion', 'No Finding'}\n",
      "6086 Images with disagreement on at least one label\n",
      "20598 Images with complete agreement\n",
      "Percentages of agreement: 77.1923249887573\n",
      "\n",
      "Pneumonia\n",
      "Accuracy: 0.7719232498875731\n",
      "cohen_kappa_score: 0.0572978077232108\n",
      "No agreement\n",
      "\n",
      "---------------------------------------------\n",
      "\n"
     ]
    }
   ],
   "source": [
    "kappa_df1 = labels_from_image_review(bbox_labels, chestXray, \"BBox + CRX14\")\n",
    "\n",
    "kappa_df2 = labels_from_image_review(gsc4L, chestXray, \"GCS4L + CRX14\")\n",
    "\n",
    "kappa_df3 = labels_from_image_review(gsc16L, chestXray, \"GCS16L + CRX14\")\n",
    "\n",
    "kappa_df4 = labels_from_image_review(RSNA, chestXray, \"RSNA + CRX14\")\n",
    "\n",
    "kappa_df_chest = pd.concat([kappa_df1, kappa_df2, kappa_df3, kappa_df4, kappa_df5])\n",
    "kappa_df_chest.set_index('Sets', inplace=True)\n"
   ]
  },
  {
   "cell_type": "markdown",
   "id": "579a3664",
   "metadata": {},
   "source": [
    "### Plot the kappa scores "
   ]
  },
  {
   "cell_type": "code",
   "execution_count": 69,
   "id": "12b4acc5",
   "metadata": {},
   "outputs": [
    {
     "name": "stderr",
     "output_type": "stream",
     "text": [
      "/tmp/ipykernel_4029665/3124248368.py:20: UserWarning: FixedFormatter should only be used together with FixedLocator\n",
      "  ax.collections[0].colorbar.set_ticklabels(colorbar_ticks)#, ticks=[0, 0.1, 0.3, 0.5, 0.7, 0.9])\n"
     ]
    },
    {
     "data": {
      "image/png": "[encoded data removed]",
      "text/plain": [
       "<Figure size 1000x500 with 2 Axes>"
      ]
     },
     "metadata": {},
     "output_type": "display_data"
    }
   ],
   "source": [
    "df = pd.concat([kappa_df_chest, kappa_df])\n",
    "df=df.drop(df.columns[-1], axis=1)\n",
    "fig, ax = plt.subplots(figsize=(10, 5))\n",
    "\n",
    "cmap = mpl.colors.ListedColormap(['#d73027', '#fc8d59', '#fee08b', '#d9ef8b', '#91cf60', '#1a9850'])\n",
    "bounds = [0, 0.2, 0.4, 0.6, 0.8, 1]\n",
    "norm = mpl.colors.BoundaryNorm(bounds, cmap.N)\n",
    "colorbar_ticks = [\"No agreement\", \"None to slight\", \"Fair\", \"Moderate\", \"Substantial\", \"Almost perfect\"]\n",
    "\n",
    "sns.heatmap(df.T, annot=True, cmap=cmap, fmt='.2f', ax=ax, vmin=-0.19, vmax = 1, linewidths= 0.003, linecolor=\"whitesmoke\")\n",
    "ax.axvline(x=4, linewidth=2, color=\"lightgrey\")\n",
    "# ax.set_title('Cohens Kappa')\n",
    "ax.set_ylabel(\"Labels\", fontsize = 14)\n",
    "ax.set_xlabel(\"Dataset combinations\", fontsize = 14)\n",
    "labels = ['CXR14\\nBBox\\n(880)', 'CXR14\\nGCS4L\\n(4376)', 'CXR14\\nGCS16L\\n(810)', 'CXR14\\nRSNA\\n(26684)',\n",
    "       'GCS4L\\nRSNA\\n(1143)', 'BBox\\nGCS4L\\n(61)', 'BBox\\nGCS16L\\n(26)', 'BBox\\nRSNA\\n(346)',\n",
    "       'GCS4L\\nGCS16L\\n(810)', 'GCS16L\\nRSNA\\n(192)']\n",
    "ax.set_xticklabels(labels, rotation=0, fontsize = 9)#, ha='right', rotation_mode=\"anchor\")\n",
    "\n",
    "ax.collections[0].colorbar.set_ticklabels(colorbar_ticks)#, ticks=[0, 0.1, 0.3, 0.5, 0.7, 0.9])\n",
    "ax.collections[0].colorbar.set_ticks([-0.09, 0.1, 0.3, 0.5, 0.7, 0.9])\n",
    "\n",
    "plt.savefig(\"Cohenskappa_testsets\", bbox_inches=\"tight\")\n",
    "plt.show()"
   ]
  },
  {
   "cell_type": "code",
   "execution_count": 70,
   "id": "c7f7c5df",
   "metadata": {},
   "outputs": [
    {
     "name": "stdout",
     "output_type": "stream",
     "text": [
      "Labels from report parsing\n",
      "880 Bbox\n",
      "4376 Four\n",
      "810 All\n",
      "26684 RSNA\n",
      "\n",
      "Label from Images reviews\n",
      "61 Bbox + four\n",
      "26 Bbox + all\n",
      "346 Bbox + RSNA\n",
      "810 All + Four\n",
      "192 All + RSNA\n",
      "1143 RSNA + Four\n"
     ]
    }
   ],
   "source": [
    "# print dataset sizes again\n",
    "print(\"Labels from report parsing\")\n",
    "print(len(bbox_labels.merge(chestXray, how='inner', on=\"Image Index\")),\"Bbox\") \n",
    "print(len(gsc4L.merge(chestXray, how='inner', on=\"Image Index\")),\"Four\") \n",
    "print(len(gsc16L.merge(chestXray, how='inner', on=\"Image Index\")),\"All\") \n",
    "print(len(RSNA.merge(chestXray, how='inner', on=\"Image Index\")),\"RSNA\") \n",
    "\n",
    "print()\n",
    "print(\"Label from Images reviews\")\n",
    "print(len(bbox_labels.merge(gsc4L, how='inner', on=\"Image Index\")),\"Bbox + four\") \n",
    "print(len(bbox_labels.merge(gsc16L, how='inner', on=\"Image Index\")),\"Bbox + all\") \n",
    "print(len(bbox_labels.merge(RSNA, how='inner', on=\"Image Index\")),\"Bbox + RSNA\") \n",
    "print(len(gsc16L.merge(gsc4L, how='inner', on=\"Image Index\")),\"All + Four\")\n",
    "print(len(gsc16L.merge(RSNA, how='inner', on=\"Image Index\")),\"All + RSNA\")\n",
    "print(len(RSNA.merge(gsc4L, how='inner', on=\"Image Index\")),\"RSNA + Four\")"
   ]
  },
  {
   "cell_type": "code",
   "execution_count": null,
   "id": "33eeb05f",
   "metadata": {},
   "outputs": [],
   "source": []
  },
  {
   "cell_type": "markdown",
   "id": "96c4b8b4",
   "metadata": {},
   "source": [
    "## Save the preprocessed dfs "
   ]
  },
  {
   "cell_type": "code",
   "execution_count": 71,
   "id": "b2879051",
   "metadata": {},
   "outputs": [],
   "source": [
    "# only save df with these labels \n",
    "labels = {'Effusion', 'Pneumothorax', 'Atelectasis', 'Cardiomegaly', 'Pneumonia'}"
   ]
  },
  {
   "cell_type": "code",
   "execution_count": null,
   "id": "04fdf399",
   "metadata": {},
   "outputs": [],
   "source": [
    "# get the image paths\n",
    "image_folder_location = {}\n",
    "for root_dir, dirs, files in os.walk(r\"../../../purrlab_students/ChestX-ray14/\"):\n",
    "    for d in dirs:\n",
    "        for _, _, imgs in os.walk(r'../../../purrlab_students/ChestX-ray14/' + d + '/' + 'images'):\n",
    "            for img in imgs:\n",
    "                image_folder_location[img] = d"
   ]
  },
  {
   "cell_type": "code",
   "execution_count": null,
   "id": "646b85a2",
   "metadata": {},
   "outputs": [],
   "source": [
    "# Make binary columns for each label \n",
    "def preprocess_df(df):    \n",
    "    df_c = df.columns.to_list()\n",
    "    \n",
    "    df_l = set([i.strip(\" \") for j in list(df[df_c[1]]) for i in j.split(\",\")])\n",
    "    \n",
    "    for label in df_l:\n",
    "        if label != \"\":\n",
    "            df[label] = df.apply(my_func, args=(df_c[1], label), axis=1)\n",
    "            \n",
    "    df[\"ImagePath\"] = ['../../../purrlab_students/ChestX-ray14/' + image_folder_location[img] + '/images/' + img for img in list(df[\"Image Index\"])]\n",
    "        \n",
    "    return df"
   ]
  },
  {
   "cell_type": "code",
   "execution_count": null,
   "id": "96731e1a",
   "metadata": {},
   "outputs": [],
   "source": [
    "gsc16L_pre = preprocess_df(gsc16L.copy())\n",
    "# gsc16L_pre.to_csv(\"../Data/Data_splits/GCS16l.csv\")\n",
    "# test = pd.read_csv(\"../Data/Data_splits/GCS16l.csv\", index_col=0)\n",
    "gsc16L_pre"
   ]
  },
  {
   "cell_type": "code",
   "execution_count": null,
   "id": "a504f2a6",
   "metadata": {},
   "outputs": [],
   "source": [
    "bbox_labels\n",
    "bbox_labels_pre = preprocess_df(bbox_labels.copy())\n",
    "bbox_labels_pre\n",
    "# bbox_labels_pre.to_csv(\"../Data/Data_splits/Bbox.csv\")\n",
    "# test = pd.read_csv(\"../Data/Data_splits/Bbox.csv\", index_col=0)\n",
    "# test"
   ]
  },
  {
   "cell_type": "code",
   "execution_count": null,
   "id": "b3c83b3b",
   "metadata": {},
   "outputs": [],
   "source": [
    "gsc4L\n",
    "gsc4L_pre = preprocess_df(gsc4L.copy())\n",
    "gsc4L_pre\n",
    "# gsc4L_pre.to_csv(\"../Data/Data_splits/GCS4l.csv\")\n",
    "# test = pd.read_csv(\"../Data/Data_splits/GCS4l.csv\", index_col=0)\n",
    "# test"
   ]
  },
  {
   "cell_type": "code",
   "execution_count": null,
   "id": "6b76d4b0",
   "metadata": {},
   "outputs": [],
   "source": [
    "RSNA\n",
    "RSNA_pre = preprocess_df(RSNA.copy())\n",
    "RSNA_pre\n",
    "# RSNA_pre = RSNA_pre[[\"Image Index\", \"Labels_RSNA\", \"Pneumonia\"]]\n",
    "# RSNA_pre.to_csv(\"../Data/Data_splits/RSNA.csv\")\n",
    "# test = pd.read_csv(\"../Data/Data_splits/RSNA.csv\", index_col=0)\n",
    "# test"
   ]
  },
  {
   "cell_type": "markdown",
   "id": "3a239c6b",
   "metadata": {},
   "source": [
    "## Check overlap with ChestX-ray14 Ann testset"
   ]
  },
  {
   "cell_type": "code",
   "execution_count": 73,
   "id": "3fea3996",
   "metadata": {},
   "outputs": [],
   "source": [
    "chestX_ray14 = pd.read_csv(\"../../Data/ChestX-ray14/Data_Entry_2017.csv\")\n",
    "\n",
    "GCS16l = pd.read_csv(\"../Data/Data_splits/GCS16l.csv\", index_col=0)\n",
    "Bbox = pd.read_csv(\"../Data/Data_splits/Bbox.csv\", index_col=0)\n",
    "GCS4l = pd.read_csv(\"../Data/Data_splits/GCS4l.csv\", index_col=0)\n",
    "RSNA = pd.read_csv(\"../Data/Data_splits/RSNA.csv\", index_col=0)\n",
    "\n",
    "RP_train = pd.read_csv(\"../Data/Data_splits/tube_detection-RP_train.csv\", index_col=0)"
   ]
  },
  {
   "cell_type": "code",
   "execution_count": 74,
   "id": "db11d6ce",
   "metadata": {},
   "outputs": [],
   "source": [
    "RP_train = RP_train.merge(chestX_ray14, how='inner', on=\"Image Index\")\n",
    "GCS16l = GCS16l.merge(chestX_ray14, how='inner', on=\"Image Index\")\n",
    "GCS4l = GCS4l.merge(chestX_ray14, how='inner', on=\"Image Index\")\n",
    "Bbox = Bbox.merge(chestX_ray14, how='inner', on=\"Image Index\")\n",
    "RSNA = RSNA.merge(chestX_ray14, how='inner', on=\"Image Index\")"
   ]
  },
  {
   "cell_type": "code",
   "execution_count": 75,
   "id": "4c8434ba",
   "metadata": {},
   "outputs": [
    {
     "name": "stdout",
     "output_type": "stream",
     "text": [
      "Original size of GCS16l: 810 New size: 602 Removed: 208\n",
      "Original size of GCS4l: 4376 New size: 3609 Removed: 767\n",
      "Original size of Bbox: 880 New size: 694 Removed: 186\n",
      "Original size of RSNA: 26684 New size: 22588 Removed: 4096\n"
     ]
    }
   ],
   "source": [
    "print(\"Original size of GCS16l:\", len(GCS16l), \"New size:\", len(GCS16l[~GCS16l[\"Patient ID\"].isin(RP_train[\"Patient ID\"])]), \"Removed:\", len(GCS16l) - len(GCS16l[~GCS16l[\"Patient ID\"].isin(RP_train[\"Patient ID\"])]))\n",
    "print(\"Original size of GCS4l:\", len(GCS4l), \"New size:\", len(GCS4l[~GCS4l[\"Patient ID\"].isin(RP_train[\"Patient ID\"])]), \"Removed:\", len(GCS4l) - len(GCS4l[~GCS4l[\"Patient ID\"].isin(RP_train[\"Patient ID\"])]))\n",
    "print(\"Original size of Bbox:\", len(Bbox), \"New size:\", len(Bbox[~Bbox[\"Patient ID\"].isin(RP_train[\"Patient ID\"])]), \"Removed:\", len(Bbox) - len(Bbox[~Bbox[\"Patient ID\"].isin(RP_train[\"Patient ID\"])]))\n",
    "print(\"Original size of RSNA:\", len(RSNA), \"New size:\", len(RSNA[~RSNA[\"Patient ID\"].isin(RP_train[\"Patient ID\"])]), \"Removed:\", len(RSNA) - len(RSNA[~RSNA[\"Patient ID\"].isin(RP_train[\"Patient ID\"])]))\n"
   ]
  },
  {
   "cell_type": "code",
   "execution_count": 76,
   "id": "25d2bc46",
   "metadata": {},
   "outputs": [],
   "source": [
    "# Check with patient ID"
   ]
  },
  {
   "cell_type": "code",
   "execution_count": 77,
   "id": "b0db62e7",
   "metadata": {},
   "outputs": [
    {
     "name": "stdout",
     "output_type": "stream",
     "text": [
      "Labels from report parsing\n",
      "2835 RP_train\n",
      "\n",
      "Label from Images reviews\n",
      "111 RP_train + four\n",
      "51 RP_train+ all\n",
      "885 RP_train + RSNA\n",
      "77 RP_train + bbox_labels\n"
     ]
    }
   ],
   "source": [
    "# dataset sizes\n",
    "print(\"Labels from report parsing\")\n",
    "print(len(RP_train.merge(chestXray, how='inner', on=\"Image Index\")),\"RP_train\") \n",
    "\n",
    "print()\n",
    "print(\"Label from Images reviews\")\n",
    "print(len(RP_train.merge(gsc4L, how='inner', on=\"Image Index\")),\"RP_train + four\") \n",
    "print(len(RP_train.merge(gsc16L, how='inner', on=\"Image Index\")),\"RP_train+ all\") \n",
    "print(len(RP_train.merge(RSNA, how='inner', on=\"Image Index\")),\"RP_train + RSNA\") \n",
    "print(len(RP_train.merge(bbox_labels, how='inner', on=\"Image Index\")),\"RP_train + bbox_labels\")\n"
   ]
  }
 ],
 "metadata": {
  "kernelspec": {
   "display_name": "Python (PIL_env)",
   "language": "python",
   "name": "pil_env"
  },
  "language_info": {
   "codemirror_mode": {
    "name": "ipython",
    "version": 3
   },
   "file_extension": ".py",
   "mimetype": "text/x-python",
   "name": "python",
   "nbconvert_exporter": "python",
   "pygments_lexer": "ipython3",
   "version": "3.10.10"
  }
 },
 "nbformat": 4,
 "nbformat_minor": 5
}
