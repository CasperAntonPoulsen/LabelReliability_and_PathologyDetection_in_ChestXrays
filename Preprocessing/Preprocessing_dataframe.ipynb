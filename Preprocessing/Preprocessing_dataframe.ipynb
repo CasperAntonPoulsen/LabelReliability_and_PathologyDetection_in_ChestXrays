{
 "cells": [
  {
   "cell_type": "markdown",
   "id": "77b3e5ef",
   "metadata": {},
   "source": [
    "# Notebook for creating the preprocessed dataframe of PadChest images\n",
    "\n",
    "We will filter the dataframe based on the following points:\n",
    "- Exclude instances with NaN in the labels\n",
    "- Exclude instances with 'suboptimal study' in labels\n",
    "- Only keep 'AP', 'PA' and 'AP_horizontal' projections\n",
    "- Strip all labels, so they do not have spaces in them (for instance so we do not distinguish between 'pneumonia' and ' pneumonia')\n",
    "- Lowercase all labels\n",
    "- Exclude empty strings ('') in labels\n",
    "- Remove invalid instances (given by the image preprocessing)\n",
    "- Remove duplicates in label lists (fx when 'pneumonia' appears twice for one instance)"
   ]
  },
  {
   "cell_type": "code",
   "execution_count": 1,
   "id": "68c6fdc0",
   "metadata": {},
   "outputs": [],
   "source": [
    "# Imports\n",
    "import pandas as pd\n",
    "import ast"
   ]
  },
  {
   "cell_type": "code",
   "execution_count": 2,
   "id": "9e9340bb",
   "metadata": {
    "scrolled": true
   },
   "outputs": [
    {
     "name": "stderr",
     "output_type": "stream",
     "text": [
      "/home/caap/.conda/envs/multi/lib/python3.7/site-packages/IPython/core/interactiveshell.py:3552: DtypeWarning: Columns (19,20) have mixed types.Specify dtype option on import or set low_memory=False.\n",
      "  exec(code_obj, self.user_global_ns, self.user_ns)\n"
     ]
    }
   ],
   "source": [
    "# Loading the original, full dataframe\n",
    "data = pd.read_csv(\"/home/data_shares/purrlab/padchest/PADCHEST_chest_x_ray_images_labels_160K_01.02.19.csv\", index_col=0)"
   ]
  },
  {
   "cell_type": "markdown",
   "id": "a25eb134",
   "metadata": {},
   "source": [
    "### Preprocessing the 'Labels' column and filtering based on the 'Projection' column"
   ]
  },
  {
   "cell_type": "code",
   "execution_count": 3,
   "id": "6b61b534",
   "metadata": {},
   "outputs": [],
   "source": [
    "# Excluding NaNs in the labels\n",
    "data_prep = data[~data[\"Labels\"].isna()]\n",
    "\n",
    "# Excluding labels including the 'suboptimal study' label\n",
    "data_prep = data_prep[~data_prep[\"Labels\"].str.contains('suboptimal study')]\n",
    "\n",
    "# Keeping only the PA, AP and AP_horizontal projections\n",
    "data_prep = data_prep[(data_prep['Projection'] == 'PA') | (data_prep['Projection'] == 'AP') | (data_prep['Projection'] == 'AP_horizontal')]"
   ]
  },
  {
   "cell_type": "code",
   "execution_count": 4,
   "id": "f1b9452c",
   "metadata": {},
   "outputs": [],
   "source": [
    "# Stripping and lowercasing all individual labels\n",
    "stripped_lowercased_labels = []\n",
    "\n",
    "for label_list in list(data_prep['Labels']):\n",
    "    label_list = ast.literal_eval(label_list)\n",
    "    prepped_labels = []\n",
    "    \n",
    "    for label in label_list:\n",
    "        if label != '':\n",
    "            new_label = label.strip(' ').lower()   # Stripping and lowercasing\n",
    "            prepped_labels.append(new_label)\n",
    "    \n",
    "    # Removing label duplicates in this appending\n",
    "    stripped_lowercased_labels.append(list(set(prepped_labels)))\n",
    "\n",
    "# Applying it to the preprocessed dataframe\n",
    "data_prep['Labels'] = stripped_lowercased_labels"
   ]
  },
  {
   "cell_type": "code",
   "execution_count": 20,
   "id": "abe714cf",
   "metadata": {},
   "outputs": [],
   "source": [
    "# Removing invalid images, found through manual inspection of images for annotation\n",
    "invalid_images = pd.read_csv('/home/caap/LabelReliability_and_PathologyDetection_in_ChestXrays/Data/Invalid_images.csv', index_col=0)\n",
    "invalid_images.columns = list(data_prep.columns ) +[\"path\"]\n",
    "data_prep_no_invalid = data_prep[~data_prep['ImageID'].isin(invalid_images['ImageID'])]"
   ]
  },
  {
   "cell_type": "code",
   "execution_count": 21,
   "id": "7812dbee",
   "metadata": {},
   "outputs": [
    {
     "name": "stdout",
     "output_type": "stream",
     "text": [
      "109044\n"
     ]
    },
    {
     "data": {
      "text/html": [
       "<div>\n",
       "<style scoped>\n",
       "    .dataframe tbody tr th:only-of-type {\n",
       "        vertical-align: middle;\n",
       "    }\n",
       "\n",
       "    .dataframe tbody tr th {\n",
       "        vertical-align: top;\n",
       "    }\n",
       "\n",
       "    .dataframe thead th {\n",
       "        text-align: right;\n",
       "    }\n",
       "</style>\n",
       "<table border=\"1\" class=\"dataframe\">\n",
       "  <thead>\n",
       "    <tr style=\"text-align: right;\">\n",
       "      <th></th>\n",
       "      <th>ImageID</th>\n",
       "      <th>ImageDir</th>\n",
       "      <th>StudyDate_DICOM</th>\n",
       "      <th>StudyID</th>\n",
       "      <th>PatientID</th>\n",
       "      <th>PatientBirth</th>\n",
       "      <th>PatientSex_DICOM</th>\n",
       "      <th>ViewPosition_DICOM</th>\n",
       "      <th>Projection</th>\n",
       "      <th>MethodProjection</th>\n",
       "      <th>...</th>\n",
       "      <th>ExposureTime</th>\n",
       "      <th>RelativeXRayExposure_DICOM</th>\n",
       "      <th>ReportID</th>\n",
       "      <th>Report</th>\n",
       "      <th>MethodLabel</th>\n",
       "      <th>Labels</th>\n",
       "      <th>Localizations</th>\n",
       "      <th>LabelsLocalizationsBySentence</th>\n",
       "      <th>labelCUIS</th>\n",
       "      <th>LocalizationsCUIS</th>\n",
       "    </tr>\n",
       "  </thead>\n",
       "  <tbody>\n",
       "    <tr>\n",
       "      <th>0</th>\n",
       "      <td>20536686640136348236148679891455886468_k6ga29.png</td>\n",
       "      <td>0</td>\n",
       "      <td>20140915</td>\n",
       "      <td>20536686640136348236148679891455886468</td>\n",
       "      <td>839860488694292331637988235681460987</td>\n",
       "      <td>1930.0</td>\n",
       "      <td>F</td>\n",
       "      <td>POSTEROANTERIOR</td>\n",
       "      <td>PA</td>\n",
       "      <td>Manual review of DICOM fields</td>\n",
       "      <td>...</td>\n",
       "      <td>10</td>\n",
       "      <td>-1.42</td>\n",
       "      <td>4765777</td>\n",
       "      <td>sin hallazg patolog edad pacient .</td>\n",
       "      <td>Physician</td>\n",
       "      <td>[normal]</td>\n",
       "      <td>[]</td>\n",
       "      <td>[['normal'], ['normal']]</td>\n",
       "      <td>[]</td>\n",
       "      <td>[]</td>\n",
       "    </tr>\n",
       "    <tr>\n",
       "      <th>2</th>\n",
       "      <td>135803415504923515076821959678074435083_fzis7b...</td>\n",
       "      <td>0</td>\n",
       "      <td>20150914</td>\n",
       "      <td>135803415504923515076821959678074435083</td>\n",
       "      <td>313572750430997347502932654319389875966</td>\n",
       "      <td>1929.0</td>\n",
       "      <td>M</td>\n",
       "      <td>POSTEROANTERIOR</td>\n",
       "      <td>PA</td>\n",
       "      <td>Manual review of DICOM fields</td>\n",
       "      <td>...</td>\n",
       "      <td>10</td>\n",
       "      <td>None</td>\n",
       "      <td>4991845</td>\n",
       "      <td>cambi pulmonar cronic sever . sign fibrosis b...</td>\n",
       "      <td>Physician</td>\n",
       "      <td>[kyphosis, ground glass pattern, pseudonodule,...</td>\n",
       "      <td>['loc basal', 'loc basal bilateral']</td>\n",
       "      <td>[['pulmonary fibrosis', 'loc basal bilateral']...</td>\n",
       "      <td>['C0034069' 'C0742362' 'C2115817' 'C3544344']</td>\n",
       "      <td>['C1282378']</td>\n",
       "    </tr>\n",
       "  </tbody>\n",
       "</table>\n",
       "<p>2 rows × 35 columns</p>\n",
       "</div>"
      ],
      "text/plain": [
       "                                             ImageID  ImageDir  \\\n",
       "0  20536686640136348236148679891455886468_k6ga29.png         0   \n",
       "2  135803415504923515076821959678074435083_fzis7b...         0   \n",
       "\n",
       "   StudyDate_DICOM                                  StudyID  \\\n",
       "0         20140915   20536686640136348236148679891455886468   \n",
       "2         20150914  135803415504923515076821959678074435083   \n",
       "\n",
       "                                 PatientID  PatientBirth PatientSex_DICOM  \\\n",
       "0     839860488694292331637988235681460987        1930.0                F   \n",
       "2  313572750430997347502932654319389875966        1929.0                M   \n",
       "\n",
       "  ViewPosition_DICOM Projection               MethodProjection  ...  \\\n",
       "0    POSTEROANTERIOR         PA  Manual review of DICOM fields  ...   \n",
       "2    POSTEROANTERIOR         PA  Manual review of DICOM fields  ...   \n",
       "\n",
       "  ExposureTime RelativeXRayExposure_DICOM ReportID  \\\n",
       "0           10                      -1.42  4765777   \n",
       "2           10                       None  4991845   \n",
       "\n",
       "                                              Report  MethodLabel  \\\n",
       "0                 sin hallazg patolog edad pacient .    Physician   \n",
       "2   cambi pulmonar cronic sever . sign fibrosis b...    Physician   \n",
       "\n",
       "                                              Labels  \\\n",
       "0                                           [normal]   \n",
       "2  [kyphosis, ground glass pattern, pseudonodule,...   \n",
       "\n",
       "                          Localizations  \\\n",
       "0                                    []   \n",
       "2  ['loc basal', 'loc basal bilateral']   \n",
       "\n",
       "                       LabelsLocalizationsBySentence  \\\n",
       "0                           [['normal'], ['normal']]   \n",
       "2  [['pulmonary fibrosis', 'loc basal bilateral']...   \n",
       "\n",
       "                                       labelCUIS LocalizationsCUIS  \n",
       "0                                             []                []  \n",
       "2  ['C0034069' 'C0742362' 'C2115817' 'C3544344']      ['C1282378']  \n",
       "\n",
       "[2 rows x 35 columns]"
      ]
     },
     "execution_count": 21,
     "metadata": {},
     "output_type": "execute_result"
    }
   ],
   "source": [
    "print(len(data_prep_no_invalid))\n",
    "data_prep_no_invalid[:2]"
   ]
  },
  {
   "cell_type": "code",
   "execution_count": null,
   "id": "d1f2b679",
   "metadata": {},
   "outputs": [],
   "source": []
  },
  {
   "cell_type": "markdown",
   "id": "2b82ad98",
   "metadata": {},
   "source": [
    "## Saving the preprocessed dataframe in a file"
   ]
  },
  {
   "cell_type": "code",
   "execution_count": 22,
   "id": "91c83d05",
   "metadata": {},
   "outputs": [],
   "source": [
    "data_prep_no_invalid = data_prep_no_invalid.reset_index(drop=True)"
   ]
  },
  {
   "cell_type": "code",
   "execution_count": 23,
   "id": "0fe11cc6",
   "metadata": {},
   "outputs": [
    {
     "name": "stdout",
     "output_type": "stream",
     "text": [
      "Saved :)\n"
     ]
    }
   ],
   "source": [
    "data_prep_no_invalid.to_csv('/home/caap/LabelReliability_and_PathologyDetection_in_ChestXrays/Data/preprocessed_df.csv', sep=\",\")\n",
    "print('Saved :)')"
   ]
  },
  {
   "cell_type": "code",
   "execution_count": null,
   "id": "02548e31",
   "metadata": {},
   "outputs": [],
   "source": []
  },
  {
   "cell_type": "code",
   "execution_count": null,
   "id": "14e9908b",
   "metadata": {},
   "outputs": [],
   "source": []
  },
  {
   "cell_type": "code",
   "execution_count": null,
   "id": "7a1aa54a",
   "metadata": {},
   "outputs": [],
   "source": []
  }
 ],
 "metadata": {
  "kernelspec": {
   "display_name": "Python 3 (ipykernel)",
   "language": "python",
   "name": "python3"
  },
  "language_info": {
   "codemirror_mode": {
    "name": "ipython",
    "version": 3
   },
   "file_extension": ".py",
   "mimetype": "text/x-python",
   "name": "python",
   "nbconvert_exporter": "python",
   "pygments_lexer": "ipython3",
   "version": "3.7.12"
  }
 },
 "nbformat": 4,
 "nbformat_minor": 5
}
