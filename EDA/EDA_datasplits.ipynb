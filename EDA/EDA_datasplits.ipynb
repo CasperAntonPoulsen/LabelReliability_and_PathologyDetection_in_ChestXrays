{
 "cells": [
  {
   "cell_type": "markdown",
   "metadata": {},
   "source": [
    "# Datasplits EDA"
   ]
  },
  {
   "cell_type": "code",
   "execution_count": 4,
   "metadata": {},
   "outputs": [],
   "source": [
    "import pandas as pd\n",
    "from collections import Counter\n",
    "import numpy as np\n",
    "import matplotlib.pyplot as plt\n",
    "import ast"
   ]
  },
  {
   "cell_type": "markdown",
   "metadata": {},
   "source": [
    "# Loading the Datasplit files"
   ]
  },
  {
   "cell_type": "code",
   "execution_count": 24,
   "metadata": {},
   "outputs": [],
   "source": [
    "# Loading the data\n",
    "# chestX_ray14 = pd.read_csv(\"../../../purrlab_students/ChestX-ray14/Data_Entry_2017.csv\")\n",
    "GCS16l = pd.read_csv(\"../Data/Data_splits/GCS16l.csv\", index_col=0)\n",
    "Bbox = pd.read_csv(\"../Data/Data_splits/Bbox.csv\", index_col=0)\n",
    "GCS4l = pd.read_csv(\"../Data/Data_splits/GCS4l.csv\", index_col=0)\n",
    "RSNA = pd.read_csv(\"../Data/Data_splits/RSNA.csv\", index_col=0)\n",
    "\n",
    "path_test = pd.read_csv(\"../Data/Data_splits/pathology_detection-test.csv\", index_col=0)\n",
    "\n",
    "path_fine_CHX14 = pd.read_csv(\"../Data/Data_splits/pathology_detection-CXR14-finetuning.csv\", index_col=0)\n",
    "path_val_CHX14 = pd.read_csv(\"../Data/Data_splits/pathology_detection-CXR14-finetuning_val.csv\", index_col=0)\n",
    "\n",
    "tube_fine = pd.read_csv(\"../Data/Data_splits/tube_detection-finetuning.csv\", index_col=0)\n",
    "tube_val = pd.read_csv(\"../Data/Data_splits/tube_detection-finetuning_val.csv\", index_col=0)\n",
    "\n",
    "annotations = pd.read_csv(\"../Data/Data_splits/tube_detection-Annotations.csv\", index_col=0)\n",
    "CHX14_Ann = pd.read_csv(\"../Data/Data_splits/tube_detection-CXR14_test\", index_col=0)\n",
    "\n",
    "combined = pd.read_csv(\"../Data/Data_splits/pathology_detection-CXR14_test_combined.csv\", index_col=0)"
   ]
  },
  {
   "cell_type": "markdown",
   "metadata": {},
   "source": [
    "# Obtaining the distributions"
   ]
  },
  {
   "cell_type": "code",
   "execution_count": 19,
   "metadata": {},
   "outputs": [],
   "source": [
    "def df_stats(df):\n",
    "    df_c = df.columns.to_list()    \n",
    "    print(\"Size:\", len(df))\n",
    "\n",
    "    for label in df_c[2:]:\n",
    "        print(label, \":\", \"{:.2f}\".format(round(Counter(df[label])[1]/len(df)*100, 2)))\n",
    "    print()"
   ]
  },
  {
   "cell_type": "code",
   "execution_count": 20,
   "metadata": {},
   "outputs": [
    {
     "name": "stdout",
     "output_type": "stream",
     "text": [
      "Size: 2117\n",
      "Labels : 0.00\n",
      "Effusion : 21.63\n",
      "Pneumothorax : 2.31\n",
      "Atelectasis : 10.01\n",
      "Cardiomegaly : 3.35\n",
      "Pneumonia : 5.29\n",
      "Chest_drain_tube : 8.31\n",
      "NSG_tube : 74.82\n",
      "Endotracheal_tube : 29.00\n",
      "Tracheostomy_tube : 15.73\n",
      "\n"
     ]
    }
   ],
   "source": [
    "df_stats(tube_fine)"
   ]
  },
  {
   "cell_type": "code",
   "execution_count": 21,
   "metadata": {},
   "outputs": [
    {
     "name": "stdout",
     "output_type": "stream",
     "text": [
      "Size: 1456\n",
      "Labels : 0.00\n",
      "Effusion : 21.15\n",
      "Pneumothorax : 2.47\n",
      "Atelectasis : 9.34\n",
      "Cardiomegaly : 4.46\n",
      "Pneumonia : 5.77\n",
      "Chest_drain_tube : 8.86\n",
      "NSG_tube : 76.58\n",
      "Endotracheal_tube : 31.46\n",
      "Tracheostomy_tube : 13.26\n",
      "\n"
     ]
    }
   ],
   "source": [
    "df_stats(tube_val)"
   ]
  },
  {
   "cell_type": "code",
   "execution_count": 22,
   "metadata": {},
   "outputs": [
    {
     "name": "stdout",
     "output_type": "stream",
     "text": [
      "Size: 1011\n",
      "Labels : 0.00\n",
      "Chest_drain_Ann : 3.66\n",
      "NSG_tube_Ann : 44.41\n",
      "Endotracheal_tube_Ann : 16.02\n",
      "Tracheostomy_tube_Ann : 24.93\n",
      "Effusion : 24.13\n",
      "Pneumothorax : 2.18\n",
      "Atelectasis : 8.80\n",
      "Cardiomegaly : 3.46\n",
      "Pneumonia : 8.51\n",
      "Chest_drain_tube : 7.02\n",
      "NSG_tube : 73.69\n",
      "Endotracheal_tube : 35.41\n",
      "Tracheostomy_tube : 23.24\n",
      "\n"
     ]
    }
   ],
   "source": [
    "df_stats(annotations)"
   ]
  },
  {
   "cell_type": "code",
   "execution_count": 25,
   "metadata": {},
   "outputs": [
    {
     "name": "stdout",
     "output_type": "stream",
     "text": [
      "Size: 2835\n",
      "Finding Labels : 0.00\n",
      "Chest_drain_Ann : 46.24\n",
      "Effusion : 19.79\n",
      "Pneumothorax : 100.00\n",
      "Atelectasis : 14.22\n",
      "Cardiomegaly : 0.99\n",
      "Pneumonia : 0.78\n",
      "\n"
     ]
    }
   ],
   "source": [
    "df_stats(CHX14_Ann)"
   ]
  },
  {
   "cell_type": "code",
   "execution_count": 26,
   "metadata": {},
   "outputs": [
    {
     "name": "stdout",
     "output_type": "stream",
     "text": [
      "Size: 810\n",
      "Hernia : 0.62\n",
      "Pneumonia : 0.25\n",
      "Nodule : 16.05\n",
      "Edema : 2.84\n",
      "Other : 7.16\n",
      "Infiltration : 7.53\n",
      "Pneumothorax : 16.79\n",
      "Abnormal : 71.36\n",
      "Nodule or mass : 22.22\n",
      "Consolidation : 10.25\n",
      "Fibrosis : 1.60\n",
      "Mass : 12.22\n",
      "Emphysema : 0.86\n",
      "Atelectasis : 37.41\n",
      "Effusion : 27.90\n",
      "Cardiomegaly : 10.00\n",
      "Pleural_Thickening : 6.05\n",
      "\n"
     ]
    }
   ],
   "source": [
    "df_stats(GCS16l)"
   ]
  },
  {
   "cell_type": "code",
   "execution_count": 27,
   "metadata": {},
   "outputs": [
    {
     "name": "stdout",
     "output_type": "stream",
     "text": [
      "Size: 880\n",
      "Pneumonia : 13.64\n",
      "Nodule : 8.98\n",
      "Infiltration : 13.98\n",
      "Pneumothorax : 11.14\n",
      "Nodule or mass : 18.64\n",
      "Mass : 9.66\n",
      "Atelectasis : 20.45\n",
      "Effusion : 17.39\n",
      "Cardiomegaly : 16.59\n",
      "\n"
     ]
    }
   ],
   "source": [
    "df_stats(Bbox)"
   ]
  },
  {
   "cell_type": "code",
   "execution_count": 28,
   "metadata": {},
   "outputs": [
    {
     "name": "stdout",
     "output_type": "stream",
     "text": [
      "Size: 4376\n",
      "Fracture : 4.25\n",
      "Pneumothorax : 5.44\n",
      "Nodule or mass : 13.83\n",
      "Airspace opacity : 49.50\n",
      "\n"
     ]
    }
   ],
   "source": [
    "df_stats(GCS4l)"
   ]
  },
  {
   "cell_type": "code",
   "execution_count": 29,
   "metadata": {},
   "outputs": [
    {
     "name": "stdout",
     "output_type": "stream",
     "text": [
      "Size: 26684\n",
      "Pneumonia : 22.53\n",
      "\n"
     ]
    }
   ],
   "source": [
    "df_stats(RSNA)"
   ]
  },
  {
   "cell_type": "code",
   "execution_count": 30,
   "metadata": {},
   "outputs": [
    {
     "name": "stdout",
     "output_type": "stream",
     "text": [
      "Size: 1664\n",
      "Effusion : 22.60\n",
      "Pneumothorax : 14.30\n",
      "Atelectasis : 28.73\n",
      "Cardiomegaly : 13.46\n",
      "Pneumonia : 13.70\n",
      "\n"
     ]
    }
   ],
   "source": [
    "df_stats(combined)"
   ]
  },
  {
   "cell_type": "markdown",
   "metadata": {},
   "source": [
    "### Combining the pathology and tube detection df to obtain the distributions for the pathology detection sets"
   ]
  },
  {
   "cell_type": "code",
   "execution_count": 2,
   "metadata": {},
   "outputs": [],
   "source": [
    "# PD datasets\n",
    "path_train = pd.read_csv(\"../Data/Data_splits/pathology_detection-train.csv\", index_col=0)\n",
    "path_val = pd.read_csv(\"../Data/Data_splits/pathology_detection-val.csv\", index_col=0)\n",
    "path_test = pd.read_csv(\"../Data/Data_splits/pathology_detection-test.csv\", index_col=0)\n",
    "\n",
    "# TD datasets\n",
    "tube_fine = pd.read_csv(\"../Data/Data_splits/tube_detection-finetuning.csv\", index_col=0)\n",
    "tube_val = pd.read_csv(\"../Data/Data_splits/tube_detection-finetuning_val.csv\", index_col=0)\n",
    "annotations = pd.read_csv(\"../Data/Data_splits/tube_detection-Annotations.csv\", index_col=0)\n",
    "\n",
    "fine = pd.concat([path_train, tube_fine])\n",
    "val = pd.concat([path_val, tube_val])\n",
    "test = pd.concat([path_test, annotations])\n"
   ]
  },
  {
   "cell_type": "code",
   "execution_count": 8,
   "metadata": {},
   "outputs": [
    {
     "name": "stdout",
     "output_type": "stream",
     "text": [
      "Size: 79063\n",
      "Labels : 0.00\n",
      "Effusion : 4.69\n",
      "Pneumothorax : 0.27\n",
      "Atelectasis : 1.48\n",
      "Cardiomegaly : 9.26\n",
      "Pneumonia : 4.32\n",
      "Chest_drain_tube : 0.22\n",
      "NSG_tube : 2.00\n",
      "Endotracheal_tube : 0.78\n",
      "Tracheostomy_tube : 0.42\n",
      "\n"
     ]
    }
   ],
   "source": [
    "df_stats(fine)"
   ]
  },
  {
   "cell_type": "code",
   "execution_count": 9,
   "metadata": {},
   "outputs": [
    {
     "name": "stdout",
     "output_type": "stream",
     "text": [
      "Size: 11148\n",
      "Labels : 0.00\n",
      "Effusion : 6.73\n",
      "Pneumothorax : 0.51\n",
      "Atelectasis : 2.31\n",
      "Cardiomegaly : 8.61\n",
      "Pneumonia : 4.33\n",
      "Chest_drain_tube : 1.16\n",
      "NSG_tube : 10.00\n",
      "Endotracheal_tube : 4.11\n",
      "Tracheostomy_tube : 1.73\n",
      "\n"
     ]
    }
   ],
   "source": [
    "df_stats(val)"
   ]
  },
  {
   "cell_type": "code",
   "execution_count": 10,
   "metadata": {},
   "outputs": [
    {
     "name": "stdout",
     "output_type": "stream",
     "text": [
      "Size: 10800\n",
      "Labels : 0.00\n",
      "Effusion : 5.97\n",
      "Pneumothorax : 0.33\n",
      "Atelectasis : 1.99\n",
      "Cardiomegaly : 8.65\n",
      "Pneumonia : 4.28\n",
      "Chest_drain_tube : 0.66\n",
      "NSG_tube : 6.90\n",
      "Endotracheal_tube : 3.31\n",
      "Tracheostomy_tube : 2.18\n",
      "Chest_drain_Ann : 0.34\n",
      "NSG_tube_Ann : 4.16\n",
      "Endotracheal_tube_Ann : 1.50\n",
      "Tracheostomy_tube_Ann : 2.33\n",
      "\n"
     ]
    }
   ],
   "source": [
    "df_stats(test)"
   ]
  },
  {
   "cell_type": "code",
   "execution_count": 3,
   "metadata": {},
   "outputs": [],
   "source": [
    "# test.to_csv(\"../Data/Data_splits/pathology_detection-test_ALL.csv\")"
   ]
  },
  {
   "cell_type": "code",
   "execution_count": null,
   "metadata": {},
   "outputs": [],
   "source": []
  }
 ],
 "metadata": {
  "kernelspec": {
   "display_name": "Python 3",
   "language": "python",
   "name": "python3"
  },
  "language_info": {
   "codemirror_mode": {
    "name": "ipython",
    "version": 3
   },
   "file_extension": ".py",
   "mimetype": "text/x-python",
   "name": "python",
   "nbconvert_exporter": "python",
   "pygments_lexer": "ipython3",
   "version": "3.7.4"
  }
 },
 "nbformat": 4,
 "nbformat_minor": 5
}
