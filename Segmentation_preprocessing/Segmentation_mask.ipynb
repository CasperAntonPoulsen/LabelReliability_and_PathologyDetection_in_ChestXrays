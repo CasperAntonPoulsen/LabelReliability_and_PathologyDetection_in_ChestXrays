{
 "cells": [
  {
   "cell_type": "code",
   "execution_count": 1,
   "metadata": {},
   "outputs": [],
   "source": [
    "import pandas as pd\n",
    "import numpy as np\n",
    "\n",
    "\n",
    "import matplotlib.pyplot as plt\n",
    "import cv2"
   ]
  },
  {
   "cell_type": "code",
   "execution_count": 2,
   "metadata": {},
   "outputs": [],
   "source": [
    "files = \"/home/data_shares/purrlab/physionet.org/files/chexmask-cxr-segmentation-data/0.2\""
   ]
  },
  {
   "cell_type": "code",
   "execution_count": 3,
   "metadata": {},
   "outputs": [
    {
     "name": "stderr",
     "output_type": "stream",
     "text": [
      "/home/caap/.conda/envs/multi/lib/python3.7/site-packages/IPython/core/interactiveshell.py:3552: DtypeWarning: Columns (1,2) have mixed types.Specify dtype option on import or set low_memory=False.\n",
      "  exec(code_obj, self.user_global_ns, self.user_ns)\n"
     ]
    }
   ],
   "source": [
    "padchest_masks = pd.read_csv(files+ \"/OriginalResolution/Padchest.csv\")"
   ]
  },
  {
   "cell_type": "code",
   "execution_count": 5,
   "metadata": {},
   "outputs": [
    {
     "data": {
      "text/html": [
       "<div>\n",
       "<style scoped>\n",
       "    .dataframe tbody tr th:only-of-type {\n",
       "        vertical-align: middle;\n",
       "    }\n",
       "\n",
       "    .dataframe tbody tr th {\n",
       "        vertical-align: top;\n",
       "    }\n",
       "\n",
       "    .dataframe thead th {\n",
       "        text-align: right;\n",
       "    }\n",
       "</style>\n",
       "<table border=\"1\" class=\"dataframe\">\n",
       "  <thead>\n",
       "    <tr style=\"text-align: right;\">\n",
       "      <th></th>\n",
       "      <th>ImageID</th>\n",
       "      <th>Dice RCA (Mean)</th>\n",
       "      <th>Dice RCA (Max)</th>\n",
       "      <th>Landmarks</th>\n",
       "      <th>Left Lung</th>\n",
       "      <th>Right Lung</th>\n",
       "      <th>Heart</th>\n",
       "      <th>Height</th>\n",
       "      <th>Width</th>\n",
       "    </tr>\n",
       "  </thead>\n",
       "  <tbody>\n",
       "    <tr>\n",
       "      <th>0</th>\n",
       "      <td>216840111366964012487858717522009278090344349_...</td>\n",
       "      <td>0.800701</td>\n",
       "      <td>0.837323</td>\n",
       "      <td>[[1739  368]\\n [1534  385]\\n [1329  431]\\n [11...</td>\n",
       "      <td>1830434 6 1834707 19 1838980 31 1843253 44 184...</td>\n",
       "      <td>1576774 10 1581042 28 1585310 46 1589578 64 15...</td>\n",
       "      <td>5279509 147 5283784 158 5288060 168 5292335 17...</td>\n",
       "      <td>3520.0</td>\n",
       "      <td>4280.0</td>\n",
       "    </tr>\n",
       "    <tr>\n",
       "      <th>1</th>\n",
       "      <td>297296042610568106386358000944101882216_oryw2k...</td>\n",
       "      <td>0.82726</td>\n",
       "      <td>0.865835</td>\n",
       "      <td>[[1063  379]\\n [ 961  390]\\n [ 852  452]\\n [ 7...</td>\n",
       "      <td>1084756 8 1087746 22 1090735 37 1093724 52 109...</td>\n",
       "      <td>1138060 6 1141051 18 1144041 31 1147032 43 115...</td>\n",
       "      <td>3853381 77 3856375 96 3859370 113 3862364 132 ...</td>\n",
       "      <td>2667.0</td>\n",
       "      <td>3000.0</td>\n",
       "    </tr>\n",
       "    <tr>\n",
       "      <th>2</th>\n",
       "      <td>282304671682231211691601927052092320690_fqq20r...</td>\n",
       "      <td>0.829237</td>\n",
       "      <td>0.871887</td>\n",
       "      <td>[[1182  584]\\n [1091  587]\\n [ 995  631]\\n [ 9...</td>\n",
       "      <td>1614688 7 1617500 21 1620313 33 1623125 47 162...</td>\n",
       "      <td>1645128 17 1647913 51 1650698 85 1653496 106 1...</td>\n",
       "      <td>3680581 68 3683390 80 3686199 92 3689008 104 3...</td>\n",
       "      <td>2624.0</td>\n",
       "      <td>2815.0</td>\n",
       "    </tr>\n",
       "    <tr>\n",
       "      <th>3</th>\n",
       "      <td>216840111366964012558082906712010118092605469_...</td>\n",
       "      <td>0.812057</td>\n",
       "      <td>0.836466</td>\n",
       "      <td>[[1576  460]\\n [1425  473]\\n [1275  544]\\n [11...</td>\n",
       "      <td>2005535 154 2009813 160 2014090 166 2018368 17...</td>\n",
       "      <td>1970372 8 1974640 24 1978908 40 1983177 56 198...</td>\n",
       "      <td>7158195 101 7162471 111 7166747 121 7171023 13...</td>\n",
       "      <td>3520.0</td>\n",
       "      <td>4280.0</td>\n",
       "    </tr>\n",
       "    <tr>\n",
       "      <th>4</th>\n",
       "      <td>216840111366964012487858717522009264132859659_...</td>\n",
       "      <td>0.802433</td>\n",
       "      <td>0.912305</td>\n",
       "      <td>[[ 649  172]\\n [ 589  178]\\n [ 523  209]\\n [ 4...</td>\n",
       "      <td>271627 5 273282 16 274937 26 276592 36 278247 ...</td>\n",
       "      <td>286166 6 287816 19 289466 33 291116 46 292766 ...</td>\n",
       "      <td>1217632 47 1219272 74 1220920 94 1222578 103 1...</td>\n",
       "      <td>1884.0</td>\n",
       "      <td>1660.0</td>\n",
       "    </tr>\n",
       "  </tbody>\n",
       "</table>\n",
       "</div>"
      ],
      "text/plain": [
       "                                             ImageID Dice RCA (Mean)  \\\n",
       "0  216840111366964012487858717522009278090344349_...        0.800701   \n",
       "1  297296042610568106386358000944101882216_oryw2k...         0.82726   \n",
       "2  282304671682231211691601927052092320690_fqq20r...        0.829237   \n",
       "3  216840111366964012558082906712010118092605469_...        0.812057   \n",
       "4  216840111366964012487858717522009264132859659_...        0.802433   \n",
       "\n",
       "  Dice RCA (Max)                                          Landmarks  \\\n",
       "0       0.837323  [[1739  368]\\n [1534  385]\\n [1329  431]\\n [11...   \n",
       "1       0.865835  [[1063  379]\\n [ 961  390]\\n [ 852  452]\\n [ 7...   \n",
       "2       0.871887  [[1182  584]\\n [1091  587]\\n [ 995  631]\\n [ 9...   \n",
       "3       0.836466  [[1576  460]\\n [1425  473]\\n [1275  544]\\n [11...   \n",
       "4       0.912305  [[ 649  172]\\n [ 589  178]\\n [ 523  209]\\n [ 4...   \n",
       "\n",
       "                                           Left Lung  \\\n",
       "0  1830434 6 1834707 19 1838980 31 1843253 44 184...   \n",
       "1  1084756 8 1087746 22 1090735 37 1093724 52 109...   \n",
       "2  1614688 7 1617500 21 1620313 33 1623125 47 162...   \n",
       "3  2005535 154 2009813 160 2014090 166 2018368 17...   \n",
       "4  271627 5 273282 16 274937 26 276592 36 278247 ...   \n",
       "\n",
       "                                          Right Lung  \\\n",
       "0  1576774 10 1581042 28 1585310 46 1589578 64 15...   \n",
       "1  1138060 6 1141051 18 1144041 31 1147032 43 115...   \n",
       "2  1645128 17 1647913 51 1650698 85 1653496 106 1...   \n",
       "3  1970372 8 1974640 24 1978908 40 1983177 56 198...   \n",
       "4  286166 6 287816 19 289466 33 291116 46 292766 ...   \n",
       "\n",
       "                                               Heart  Height   Width  \n",
       "0  5279509 147 5283784 158 5288060 168 5292335 17...  3520.0  4280.0  \n",
       "1  3853381 77 3856375 96 3859370 113 3862364 132 ...  2667.0  3000.0  \n",
       "2  3680581 68 3683390 80 3686199 92 3689008 104 3...  2624.0  2815.0  \n",
       "3  7158195 101 7162471 111 7166747 121 7171023 13...  3520.0  4280.0  \n",
       "4  1217632 47 1219272 74 1220920 94 1222578 103 1...  1884.0  1660.0  "
      ]
     },
     "execution_count": 5,
     "metadata": {},
     "output_type": "execute_result"
    }
   ],
   "source": [
    "padchest_masks.head()"
   ]
  },
  {
   "cell_type": "markdown",
   "metadata": {},
   "source": []
  },
  {
   "cell_type": "markdown",
   "metadata": {},
   "source": []
  },
  {
   "cell_type": "code",
   "execution_count": 6,
   "metadata": {},
   "outputs": [],
   "source": [
    "def rle2mask(mask_rle: str, label=1, shape=(3520,4280)):\n",
    "    \"\"\"\n",
    "    mask_rle: run-length as string formatted (start length)\n",
    "    shape: (height,width) of array to return\n",
    "    Returns numpy array, 1 - mask, 0 - background\n",
    "\n",
    "    \"\"\"\n",
    "    s = mask_rle.split()\n",
    "    starts, lengths = [np.asarray(x, dtype=int) for x in (s[0:][::2], s[1:][::2])]\n",
    "    starts -= 1\n",
    "    ends = starts + lengths\n",
    "\n",
    "    img = np.zeros(shape[0] * shape[1], dtype=np.uint8)\n",
    "    for lo, hi in zip(starts, ends):\n",
    "        img[lo:hi] = label\n",
    "    return img.reshape(shape)# Needed to align to RLE direction\n",
    "\n",
    "\n",
    "def mask2rle(img):\n",
    "    \"\"\"\n",
    "    img: numpy array, 1 - mask, 0 - background\n",
    "    Returns run length as string formatted\n",
    "    \"\"\"\n",
    "    pixels = img.flatten()\n",
    "    pixels = np.concatenate([[0], pixels, [0]])\n",
    "    runs = np.where(pixels[1:] != pixels[:-1])[0] + 1\n",
    "    runs[1::2] -= runs[::2]\n",
    "    return ' '.join(str(x) for x in runs)\n"
   ]
  },
  {
   "cell_type": "code",
   "execution_count": 7,
   "metadata": {},
   "outputs": [],
   "source": [
    "def decode_both_lungs(row, label=1):\n",
    "\n",
    "    right = rle2mask(\n",
    "        mask_rle=row[\"Right Lung\"],\n",
    "        label=label,\n",
    "        shape=(int(row[\"Height\"]),int(row[\"Width\"]))\n",
    "    )\n",
    "\n",
    "    left = rle2mask(\n",
    "        mask_rle=row[\"Left Lung\"],\n",
    "        label=label,\n",
    "        shape=(int(row[\"Height\"]),int(row[\"Width\"]))\n",
    "    )\n",
    "\n",
    "    return right + left"
   ]
  },
  {
   "cell_type": "code",
   "execution_count": 8,
   "metadata": {},
   "outputs": [],
   "source": [
    "def dilate(image, dilation_rate=1):\n",
    "\n",
    "    kernel_shape = (dilation_rate*2)+1\n",
    "\n",
    "    \n",
    "    kernel = cv2.getStructuringElement(cv2.MORPH_ELLIPSE, (kernel_shape,kernel_shape))\n",
    "    dilate = cv2.dilate(image, kernel, iterations=1)\n",
    "\n",
    "    return dilate\n",
    "\n",
    "def fast_dilate(image, dilation_rate=1):\n",
    "\n",
    "    #kernel_shape = (dilation_rate*2)+1\n",
    "\n",
    "    \n",
    "    kernel = cv2.getStructuringElement(cv2.MORPH_ELLIPSE, (3,3))\n",
    "    dilate = cv2.dilate(image, kernel, iterations=dilation_rate)\n",
    "\n",
    "    return dilate\n"
   ]
  },
  {
   "cell_type": "code",
   "execution_count": 16,
   "metadata": {},
   "outputs": [],
   "source": [
    "def bounding_box(image, label=1):\n",
    "    _image = image.copy()\n",
    "    segmentation = np.where(_image == label)\n",
    "\n",
    "    if len(segmentation) != 0 and len(segmentation[1]) != 0 and len(segmentation[0]) != 0:\n",
    "        x_min = int(np.min(segmentation[1]))\n",
    "        x_max = int(np.max(segmentation[1]))\n",
    "        y_min = int(np.min(segmentation[0]))\n",
    "        y_max = int(np.max(segmentation[0]))\n",
    "\n",
    "    return cv2.rectangle(_image, (x_min, y_min), (x_max, y_max), 1,-1)"
   ]
  },
  {
   "cell_type": "code",
   "execution_count": 10,
   "metadata": {},
   "outputs": [],
   "source": [
    "def bbox_both_lungs(row, label=1):\n",
    "\n",
    "    right = bounding_box(rle2mask(\n",
    "        mask_rle=row[\"Right Lung\"],\n",
    "        label=label,\n",
    "        shape=(int(row[\"Height\"]),int(row[\"Width\"]))\n",
    "    ))\n",
    "\n",
    "    left = bounding_box(rle2mask(\n",
    "        mask_rle=row[\"Left Lung\"],\n",
    "        label=label,\n",
    "        shape=(int(row[\"Height\"]),int(row[\"Width\"]))\n",
    "    ))\n",
    "\n",
    "    return right + left"
   ]
  },
  {
   "cell_type": "code",
   "execution_count": 11,
   "metadata": {},
   "outputs": [],
   "source": [
    "def apply_all_augmentations(row, dilation_factor=300000):\n",
    "    \n",
    "    dilation_rate = int(np.round((row[\"Height\"] * row[\"Width\"]) / dilation_factor))\n",
    "\n",
    "    mask = decode_both_lungs(row)\n",
    "    bbox = bounding_box(mask)\n",
    "    bbox_both = bbox_both_lungs(row)\n",
    "\n",
    "    dilated_masks = [fast_dilate(mask, dilation_rate=dilation_rate*(i+1)) for i in range(4)]\n",
    "\n",
    "    output_row = {\n",
    "        \"ImageID\":row[\"ImageID\"],\n",
    "        \"original_mask\":mask2rle(mask),\n",
    "        \"bbox_mask\":mask2rle(bbox),\n",
    "        \"bbox_both_mask\":mask2rle(bbox_both),\n",
    "        \"dilated_mask_1\":mask2rle(dilated_masks[0]),\n",
    "        \"dilated_mask_2\":mask2rle(dilated_masks[1]),\n",
    "        \"dilated_mask_3\":mask2rle(dilated_masks[2]),\n",
    "        \"dilated_mask_4\":mask2rle(dilated_masks[3]),\n",
    "    }\n",
    "\n",
    "    return output_row"
   ]
  },
  {
   "cell_type": "code",
   "execution_count": 17,
   "metadata": {},
   "outputs": [],
   "source": [
    "image = decode_both_lungs(padchest_masks.iloc[0])"
   ]
  },
  {
   "cell_type": "code",
   "execution_count": 21,
   "metadata": {},
   "outputs": [
    {
     "data": {
      "image/png": "[encoded data removed]",
      "text/plain": [
       "<Figure size 1440x3600 with 5 Axes>"
      ]
     },
     "metadata": {
      "needs_background": "light"
     },
     "output_type": "display_data"
    }
   ],
   "source": [
    "\n",
    "fig, axs = plt.subplots(1, 5, figsize=(20, 50))\n",
    "\n",
    "axs[0].imshow(image)\n",
    "axs[0].set_title(\"Original mask\")\n",
    "axs[1].imshow(fast_dilate(image, 100))\n",
    "axs[1].set_title(\"Dilated 100 pixels\")\n",
    "axs[2].imshow(fast_dilate(image, 200))\n",
    "axs[2].set_title(\"Dilated 200 pixels\")\n",
    "axs[3].imshow(bounding_box(image))\n",
    "axs[3].set_title(\"Bounding box both lungs\")\n",
    "axs[4].imshow(bbox_both_lungs(padchest_masks.iloc[0]))\n",
    "axs[4].set_title(\"Bounding box ind. lungs\")\n",
    "plt.show()"
   ]
  },
  {
   "cell_type": "code",
   "execution_count": 22,
   "metadata": {},
   "outputs": [
    {
     "data": {
      "image/png": "[encoded data removed]",
      "text/plain": [
       "<Figure size 1440x3600 with 5 Axes>"
      ]
     },
     "metadata": {
      "needs_background": "light"
     },
     "output_type": "display_data"
    }
   ],
   "source": [
    "fig, axs = plt.subplots(1, 5, figsize=(20, 50))\n",
    "\n",
    "axs[0].imshow(image)\n",
    "axs[0].set_title(\"Original mask\")\n",
    "axs[1].imshow(fast_dilate(image, 50))\n",
    "axs[1].set_title(\"Dilated 50 pixels\")\n",
    "axs[2].imshow(fast_dilate(image, 100))\n",
    "axs[2].set_title(\"Dilated 100 pixels\")\n",
    "axs[3].imshow(fast_dilate(image, 150))\n",
    "axs[3].set_title(\"Dilated 150 pixels\")\n",
    "axs[4].imshow(fast_dilate(image, 200))\n",
    "axs[4].set_title(\"Dilated 200 pixels\")\n",
    "plt.show()"
   ]
  }
 ],
 "metadata": {
  "kernelspec": {
   "display_name": "multi",
   "language": "python",
   "name": "python3"
  },
  "language_info": {
   "codemirror_mode": {
    "name": "ipython",
    "version": 3
   },
   "file_extension": ".py",
   "mimetype": "text/x-python",
   "name": "python",
   "nbconvert_exporter": "python",
   "pygments_lexer": "ipython3",
   "version": "3.7.12"
  }
 },
 "nbformat": 4,
 "nbformat_minor": 2
}
