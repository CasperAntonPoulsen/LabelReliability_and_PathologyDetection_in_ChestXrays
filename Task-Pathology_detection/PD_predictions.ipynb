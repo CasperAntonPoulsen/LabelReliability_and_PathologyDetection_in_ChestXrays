{
 "cells": [
  {
   "cell_type": "markdown",
   "id": "4ecc6ed7",
   "metadata": {},
   "source": [
    "# Model predictions for the pathology detection model"
   ]
  },
  {
   "cell_type": "code",
   "execution_count": 2,
   "id": "75e9b4c9",
   "metadata": {},
   "outputs": [],
   "source": [
    "# Imports\n",
    "import pandas as pd\n",
    "import numpy as np\n",
    "import ast\n",
    "import re\n",
    "import statistics\n",
    "from sklearn.metrics import roc_auc_score"
   ]
  },
  {
   "cell_type": "code",
   "execution_count": 4,
   "id": "3eef5e4f",
   "metadata": {},
   "outputs": [],
   "source": [
    "## Loading all the data\n",
    "\n",
    "# Model predictions\n",
    "PD_preds_finePad_PredsPadchest = pd.read_csv('Predictions/PD_preds.csv', index_col=0)\n",
    "PD_preds_finePad_PredsCXR14 = pd.read_csv('Predictions/PD_preds_CXR14.csv', index_col=0)\n",
    "\n",
    "PD_preds_fineCXR14_PredsPadchest_5epochs = pd.read_csv('Predictions/PD_fine_CXR14_preds_padchest.csv', index_col=0)\n",
    "PD_preds_fineCXR14_PredsCXR14 = pd.read_csv('Predictions/PD_fine_CXR14_preds_CXR14.csv', index_col=0)\n",
    "\n",
    "# True labels\n",
    "test_padchest = pd.read_csv('../Data/Data_splits/pathology_detection-test.csv', index_col=0)\n",
    "annotations = pd.read_csv('../Data/Annotations/Annotations_aggregated.csv', index_col=0)\n",
    "padchest_test_labels_ALL = pd.concat([test_padchest, annotations])   # Concatenating the tube and pathology test sets\n",
    "\n",
    "CXR14_pred_images = pd.read_csv('../Data/Data_splits/pathology_detection-CXR14_test.csv', index_col=0) # Images predicted on\n",
    "CXR14_test_combined_labels = pd.read_csv('../Data/Data_splits/pathology_detection-CXR14_test_combined.csv', index_col=0)\n",
    "GCS16l = pd.read_csv(\"../Data/Data_splits/GCS16l.csv\", index_col=0)\n",
    "Bbox = pd.read_csv(\"../Data/Data_splits/Bbox.csv\", index_col=0)\n",
    "GCS4l = pd.read_csv(\"../Data/Data_splits/GCS4l.csv\", index_col=0)\n",
    "RSNA = pd.read_csv(\"../Data/Data_splits/RSNA.csv\", index_col=0)"
   ]
  },
  {
   "cell_type": "markdown",
   "id": "0e2b6a04",
   "metadata": {},
   "source": [
    "## Area Under the ROC Curve (AUC)"
   ]
  },
  {
   "cell_type": "code",
   "execution_count": 10,
   "id": "96a2d5b6",
   "metadata": {},
   "outputs": [],
   "source": [
    "# Function for reading the predictions, which are strings, as numpy arrays\n",
    "def str2array(s):\n",
    "    # Remove space after [\n",
    "    s=re.sub('\\[ +', '[', s.strip())\n",
    "    # Replace commas and spaces\n",
    "    s=re.sub('[,\\s]+', ', ', s)\n",
    "    return np.array(ast.literal_eval(s))\n",
    "\n",
    "\n",
    "# Function to arrange preds nicely in a df\n",
    "def get_preds_multiclass(orig_pred_df, true_labels_df, print_auc=True):\n",
    "    \n",
    "    pathologies = ['Effusion', 'Pneumothorax', 'Atelectasis', 'Cardiomegaly', 'Pneumonia']\n",
    "    all_preds = []\n",
    "    \n",
    "    for row_number in range(len(orig_pred_df)):\n",
    "        for p_idx, p in enumerate(pathologies):\n",
    "            preds = [[str2array(i[\"Preds_model1\"]) for idx, i in orig_pred_df.iterrows()][row_number][:,p_idx],\n",
    "                     [str2array(i[\"Preds_model2\"]) for idx, i in orig_pred_df.iterrows()][row_number][:,p_idx],\n",
    "                     [str2array(i[\"Preds_model3\"]) for idx, i in orig_pred_df.iterrows()][row_number][:,p_idx]]\n",
    "            all_preds.append(preds)\n",
    "            \n",
    "    # Constructing a df with the preds and 'true' labels\n",
    "    preds_df = pd.DataFrame(list(zip(list(true_labels_df['ImagePath']),\n",
    "                                     list(true_labels_df['Effusion']),\n",
    "                                     list(true_labels_df['Pneumothorax']),\n",
    "                                     list(true_labels_df['Atelectasis']),\n",
    "                                     list(true_labels_df['Cardiomegaly']),\n",
    "                                     list(true_labels_df['Pneumonia']),\n",
    "                                     list(all_preds[0][0]),\n",
    "                                     list(all_preds[0][1]),\n",
    "                                     list(all_preds[0][2]),\n",
    "                                     list(all_preds[1][0]),\n",
    "                                     list(all_preds[1][1]),\n",
    "                                     list(all_preds[1][2]),\n",
    "                                     list(all_preds[2][0]),\n",
    "                                     list(all_preds[2][1]),\n",
    "                                     list(all_preds[2][2]),\n",
    "                                     list(all_preds[3][0]),\n",
    "                                     list(all_preds[3][1]),\n",
    "                                     list(all_preds[3][2]),\n",
    "                                     list(all_preds[4][0]),\n",
    "                                     list(all_preds[4][1]),\n",
    "                                     list(all_preds[4][2]))),\n",
    "                            columns = ['ImagePath', 'Effusion', 'Pneumothorax', 'Atelectasis', 'Cardiomegaly',\n",
    "                                       'Pneumonia', 'preds_Effusion_model1', 'preds_Effusion_model2', 'preds_Effusion_model3',\n",
    "                                       'preds_Pneumothorax_model1', 'preds_Pneumothorax_model2', 'preds_Pneumothorax_model3',\n",
    "                                       'preds_Atelectasis_model1', 'preds_Atelectasis_model2', 'preds_Atelectasis_model3',\n",
    "                                       'preds_Cardiomegaly_model1', 'preds_Cardiomegaly_model2', 'preds_Cardiomegaly_model3',\n",
    "                                       'preds_Pneumonia_model1', 'preds_Pneumonia_model2', 'preds_Pneumonia_model3'])\n",
    "\n",
    "\n",
    "    # Computing the auc for each pathology separately\n",
    "    for p in pathologies:\n",
    "        if print_auc:\n",
    "            print(p)\n",
    "        auc_list = []\n",
    "        for i in range(3):\n",
    "            #print(i+1)\n",
    "            auc = roc_auc_score(preds_df[p], preds_df['preds_' + str(p) + '_model' + str(i+1)])\n",
    "            auc_list.append(auc)\n",
    "        #print(auc_list)\n",
    "        \n",
    "        if print_auc:\n",
    "            print(\"Average auc:\", round(sum(auc_list)/len(auc_list)*100, 1), \"with standard deviation:\", round(statistics.stdev(auc_list)*100,1))\n",
    "        \n",
    "            print()\n",
    "\n",
    "    return preds_df\n"
   ]
  },
  {
   "cell_type": "markdown",
   "id": "9d9c0694",
   "metadata": {},
   "source": [
    "### Evaluating on PadChest"
   ]
  },
  {
   "cell_type": "markdown",
   "id": "468f9c13",
   "metadata": {},
   "source": [
    "#### Fine-tuned on PadChest"
   ]
  },
  {
   "cell_type": "code",
   "execution_count": 11,
   "id": "ba24b9ec",
   "metadata": {},
   "outputs": [
    {
     "name": "stdout",
     "output_type": "stream",
     "text": [
      "Effusion\n",
      "Average auc: 94.2 with standard deviation: 0.1\n",
      "\n",
      "Pneumothorax\n",
      "Average auc: 81.4 with standard deviation: 2.3\n",
      "\n",
      "Atelectasis\n",
      "Average auc: 86.9 with standard deviation: 0.1\n",
      "\n",
      "Cardiomegaly\n",
      "Average auc: 89.2 with standard deviation: 0.2\n",
      "\n",
      "Pneumonia\n",
      "Average auc: 81.0 with standard deviation: 0.3\n",
      "\n"
     ]
    }
   ],
   "source": [
    "preds_df = get_preds_multiclass(PD_preds_finePad_PredsPadchest, padchest_test_labels_ALL)\n",
    "#preds_df"
   ]
  },
  {
   "cell_type": "markdown",
   "id": "ee5471e7",
   "metadata": {},
   "source": [
    "#### Fine-tuned on Padchest AND then CXR14 for 5 epochs"
   ]
  },
  {
   "cell_type": "code",
   "execution_count": 12,
   "id": "f9838d65",
   "metadata": {},
   "outputs": [
    {
     "name": "stdout",
     "output_type": "stream",
     "text": [
      "Effusion\n",
      "Average auc: 92.0 with standard deviation: 0.1\n",
      "\n",
      "Pneumothorax\n",
      "Average auc: 76.9 with standard deviation: 0.1\n",
      "\n",
      "Atelectasis\n",
      "Average auc: 84.8 with standard deviation: 0.1\n",
      "\n",
      "Cardiomegaly\n",
      "Average auc: 85.6 with standard deviation: 0.1\n",
      "\n",
      "Pneumonia\n",
      "Average auc: 77.6 with standard deviation: 0.1\n",
      "\n"
     ]
    }
   ],
   "source": [
    "preds_df = get_preds_multiclass(PD_preds_fineCXR14_PredsPadchest_5epochs, padchest_test_labels_ALL)\n",
    "#preds_df"
   ]
  },
  {
   "cell_type": "markdown",
   "id": "8f474ab1",
   "metadata": {},
   "source": [
    "### Evaluating on ChestX-ray14 (CXR14)"
   ]
  },
  {
   "cell_type": "code",
   "execution_count": 6,
   "id": "deb9e4e6",
   "metadata": {},
   "outputs": [],
   "source": [
    "# Function to arrange preds nicely in a df\n",
    "def get_preds_multiclass_CXR14(orig_pred_df, true_labels_df):\n",
    "    \n",
    "    pathologies = ['Effusion', 'Pneumothorax', 'Atelectasis', 'Cardiomegaly', 'Pneumonia']\n",
    "    all_preds = []\n",
    "    \n",
    "    for row_number in range(len(orig_pred_df)):\n",
    "        for p_idx, p in enumerate(pathologies):\n",
    "            preds = [[str2array(i[\"Preds_model1\"]) for idx, i in orig_pred_df.iterrows()][row_number][:,p_idx],\n",
    "                     [str2array(i[\"Preds_model2\"]) for idx, i in orig_pred_df.iterrows()][row_number][:,p_idx],\n",
    "                     [str2array(i[\"Preds_model3\"]) for idx, i in orig_pred_df.iterrows()][row_number][:,p_idx]]\n",
    "            all_preds.append(preds)\n",
    "            \n",
    "    # Constructing a df with the preds and 'true' labels\n",
    "    preds_df = pd.DataFrame(list(zip(list(true_labels_df['ImagePath']),\n",
    "                                     list(true_labels_df['DummyValue']),\n",
    "                                     list(all_preds[0][0]),\n",
    "                                     list(all_preds[0][1]),\n",
    "                                     list(all_preds[0][2]),\n",
    "                                     list(all_preds[1][0]),\n",
    "                                     list(all_preds[1][1]),\n",
    "                                     list(all_preds[1][2]),\n",
    "                                     list(all_preds[2][0]),\n",
    "                                     list(all_preds[2][1]),\n",
    "                                     list(all_preds[2][2]),\n",
    "                                     list(all_preds[3][0]),\n",
    "                                     list(all_preds[3][1]),\n",
    "                                     list(all_preds[3][2]),\n",
    "                                     list(all_preds[4][0]),\n",
    "                                     list(all_preds[4][1]),\n",
    "                                     list(all_preds[4][2]))),\n",
    "                            columns = ['ImagePath', 'DummyValue', 'preds_Effusion_model1', 'preds_Effusion_model2', 'preds_Effusion_model3',\n",
    "                                       'preds_Pneumothorax_model1', 'preds_Pneumothorax_model2', 'preds_Pneumothorax_model3',\n",
    "                                       'preds_Atelectasis_model1', 'preds_Atelectasis_model2', 'preds_Atelectasis_model3',\n",
    "                                       'preds_Cardiomegaly_model1', 'preds_Cardiomegaly_model2', 'preds_Cardiomegaly_model3',\n",
    "                                       'preds_Pneumonia_model1', 'preds_Pneumonia_model2', 'preds_Pneumonia_model3'])\n",
    "\n",
    "    return preds_df\n",
    "\n",
    "def print_pathology_perf(preds_df, pathologies=['Effusion', 'Pneumothorax', 'Atelectasis', 'Cardiomegaly', 'Pneumonia']):\n",
    "        \n",
    "    # Computing the auc for each pathology separately\n",
    "    for p in pathologies:\n",
    "        print(p)\n",
    "        auc_list = []\n",
    "        for i in range(3):\n",
    "            #print(i+1)\n",
    "            auc = roc_auc_score(preds_df[p], preds_df['preds_' + str(p) + '_model' + str(i+1)])\n",
    "            auc_list.append(auc)\n",
    "        #print(auc_list)\n",
    "        \n",
    "#        print(\"Average AUC:\", round(sum(auc_list)/3 * 100, 5))\n",
    "        print(\"Average auc:\", round(sum(auc_list)/len(auc_list)*100, 5), \"with standard deviation:\", round(statistics.stdev(auc_list)*100,5))\n",
    "        \n",
    "        print()\n",
    "        "
   ]
  },
  {
   "cell_type": "markdown",
   "id": "710f9c73",
   "metadata": {},
   "source": [
    "#### Fine-tuned on PadChest, evaluating on the combined/aggregated CXR14 test set"
   ]
  },
  {
   "cell_type": "code",
   "execution_count": null,
   "id": "e4fbb0e5",
   "metadata": {},
   "outputs": [],
   "source": [
    "# Creating a combined predictions df\n",
    "preds_df = get_preds_multiclass_CXR14(PD_preds_finePad_PredsCXR14, CXR14_pred_images)\n",
    "\n",
    "# Adding a column with the image index taken from the image path column\n",
    "preds_df['Image Index'] = [i[-16:] for i in list(preds_df['ImagePath'])]"
   ]
  },
  {
   "cell_type": "code",
   "execution_count": 53,
   "id": "845f374e",
   "metadata": {
    "scrolled": true
   },
   "outputs": [
    {
     "name": "stdout",
     "output_type": "stream",
     "text": [
      "1664\n",
      "1664\n",
      "Effusion\n",
      "Average auc: 80.71155 with standard deviation: 0.48461\n",
      "\n",
      "Pneumothorax\n",
      "Average auc: 56.49444 with standard deviation: 2.95551\n",
      "\n",
      "Atelectasis\n",
      "Average auc: 65.37522 with standard deviation: 0.67667\n",
      "\n",
      "Cardiomegaly\n",
      "Average auc: 81.36595 with standard deviation: 0.7267\n",
      "\n",
      "Pneumonia\n",
      "Average auc: 67.54732 with standard deviation: 1.01999\n",
      "\n"
     ]
    }
   ],
   "source": [
    "# Merging the preds df with the true labels df\n",
    "print(len(CXR14_test_combined_labels))\n",
    "CXR14_test_combined_preds = CXR14_test_combined_labels.merge(preds_df, how='left', on=['ImagePath', 'Image Index'])\n",
    "print(len(CXR14_test_combined_preds))\n",
    "#CXR14_test_combined_preds[:2]\n",
    "\n",
    "print_pathology_perf(CXR14_test_combined_preds)"
   ]
  },
  {
   "cell_type": "markdown",
   "id": "f52d087f",
   "metadata": {},
   "source": [
    "#### Fine-tuned on PadChest, evaluating on the BBox test set"
   ]
  },
  {
   "cell_type": "code",
   "execution_count": 52,
   "id": "9c00ecca",
   "metadata": {},
   "outputs": [
    {
     "name": "stdout",
     "output_type": "stream",
     "text": [
      "880\n",
      "880\n",
      "Effusion\n",
      "Average auc: 74.01594 with standard deviation: 0.36982\n",
      "\n",
      "Pneumothorax\n",
      "Average auc: 50.90427 with standard deviation: 1.61266\n",
      "\n",
      "Atelectasis\n",
      "Average auc: 51.59444 with standard deviation: 0.80441\n",
      "\n",
      "Cardiomegaly\n",
      "Average auc: 77.66259 with standard deviation: 1.55262\n",
      "\n",
      "Pneumonia\n",
      "Average auc: 60.27449 with standard deviation: 1.77085\n",
      "\n"
     ]
    }
   ],
   "source": [
    "print(len(Bbox))\n",
    "Bbox_preds = Bbox.merge(preds_df, how='left', on='Image Index')\n",
    "print(len(Bbox_preds))\n",
    "#Bbox_preds[:2]\n",
    "\n",
    "print_pathology_perf(Bbox_preds)"
   ]
  },
  {
   "cell_type": "markdown",
   "id": "e60b4e73",
   "metadata": {},
   "source": [
    "#### Fine-tuned on PadChest, evaluating on the GCS16L test set"
   ]
  },
  {
   "cell_type": "code",
   "execution_count": 55,
   "id": "9337beb0",
   "metadata": {},
   "outputs": [
    {
     "name": "stdout",
     "output_type": "stream",
     "text": [
      "810\n",
      "810\n",
      "Effusion\n",
      "Average auc: 90.32332 with standard deviation: 0.38269\n",
      "\n",
      "Pneumothorax\n",
      "Average auc: 63.21966 with standard deviation: 5.21036\n",
      "\n",
      "Atelectasis\n",
      "Average auc: 83.18568 with standard deviation: 0.75017\n",
      "\n",
      "Cardiomegaly\n",
      "Average auc: 86.07879 with standard deviation: 0.51087\n",
      "\n",
      "Pneumonia\n",
      "Average auc: 87.60314 with standard deviation: 6.83117\n",
      "\n"
     ]
    }
   ],
   "source": [
    "print(len(GCS16l))\n",
    "GCS16l_preds = GCS16l.merge(preds_df, how='left', on='Image Index')\n",
    "print(len(GCS16l_preds))\n",
    "#GCS16l_preds[:2]\n",
    "\n",
    "print_pathology_perf(GCS16l_preds)"
   ]
  },
  {
   "cell_type": "markdown",
   "id": "daeb728f",
   "metadata": {},
   "source": [
    "#### Fine-tuned on PadChest, evaluating on the GCS4L test set"
   ]
  },
  {
   "cell_type": "code",
   "execution_count": 51,
   "id": "24431399",
   "metadata": {},
   "outputs": [
    {
     "name": "stdout",
     "output_type": "stream",
     "text": [
      "4376\n",
      "4376\n",
      "Pneumothorax\n",
      "Average auc: 54.83099 with standard deviation: 2.16114\n",
      "\n"
     ]
    }
   ],
   "source": [
    "print(len(GCS4l))\n",
    "GCS4l_preds = GCS4l.merge(preds_df, how='left', on='Image Index')\n",
    "print(len(GCS4l_preds))\n",
    "#GCS4l_preds[:2]\n",
    "\n",
    "print_pathology_perf(GCS4l_preds, pathologies=['Pneumothorax'])"
   ]
  },
  {
   "cell_type": "markdown",
   "id": "295527e1",
   "metadata": {},
   "source": [
    "#### Fine-tuned on PadChest, evaluating on the RSNA test set"
   ]
  },
  {
   "cell_type": "code",
   "execution_count": 57,
   "id": "d3e6415f",
   "metadata": {},
   "outputs": [
    {
     "name": "stdout",
     "output_type": "stream",
     "text": [
      "26684\n",
      "26684\n",
      "Pneumonia\n",
      "Average auc: 70.82156 with standard deviation: 0.76744\n",
      "\n"
     ]
    }
   ],
   "source": [
    "print(len(RSNA))\n",
    "RSNA_preds = RSNA.merge(preds_df, how='left', on='Image Index')\n",
    "print(len(RSNA_preds))\n",
    "#RSNA_preds[:2]\n",
    "\n",
    "print_pathology_perf(RSNA_preds, pathologies=['Pneumonia'])"
   ]
  },
  {
   "cell_type": "code",
   "execution_count": null,
   "id": "98cc32af",
   "metadata": {},
   "outputs": [],
   "source": []
  },
  {
   "cell_type": "markdown",
   "id": "0e796b05",
   "metadata": {},
   "source": [
    "#### Fine-tuned on PadChest AND then CXR14 for 5 epochs, evaluating on the combined/aggregated CXR14 test set"
   ]
  },
  {
   "cell_type": "code",
   "execution_count": null,
   "id": "df4d32d8",
   "metadata": {},
   "outputs": [],
   "source": [
    "preds_df = get_preds_multiclass_CXR14(PD_preds_fineCXR14_PredsCXR14, CXR14_pred_images)\n",
    "\n",
    "# Adding a column with the image index taken from the image path column\n",
    "preds_df['Image Index'] = [i[-16:] for i in list(preds_df['ImagePath'])]"
   ]
  },
  {
   "cell_type": "code",
   "execution_count": 59,
   "id": "4bbaac0a",
   "metadata": {},
   "outputs": [
    {
     "name": "stdout",
     "output_type": "stream",
     "text": [
      "1664\n",
      "1664\n",
      "Effusion\n",
      "Average auc: 79.96185 with standard deviation: 0.03593\n",
      "\n",
      "Pneumothorax\n",
      "Average auc: 54.81671 with standard deviation: 0.18866\n",
      "\n",
      "Atelectasis\n",
      "Average auc: 66.86635 with standard deviation: 0.10262\n",
      "\n",
      "Cardiomegaly\n",
      "Average auc: 80.05033 with standard deviation: 0.46381\n",
      "\n",
      "Pneumonia\n",
      "Average auc: 63.47249 with standard deviation: 0.29401\n",
      "\n"
     ]
    }
   ],
   "source": [
    "# Merging the preds df with the true labels df\n",
    "print(len(CXR14_test_combined_labels))\n",
    "CXR14_test_combined_preds = CXR14_test_combined_labels.merge(preds_df, how='left', on=['ImagePath', 'Image Index'])\n",
    "print(len(CXR14_test_combined_preds))\n",
    "#CXR14_test_combined_preds[:2]\n",
    "\n",
    "print_pathology_perf(CXR14_test_combined_preds)"
   ]
  },
  {
   "cell_type": "markdown",
   "id": "57a659b6",
   "metadata": {},
   "source": [
    "#### Fine-tuned on PadChest AND then CXR14 for 5 epochs, evaluating on the BBox test set"
   ]
  },
  {
   "cell_type": "code",
   "execution_count": 60,
   "id": "89e9a553",
   "metadata": {},
   "outputs": [
    {
     "name": "stdout",
     "output_type": "stream",
     "text": [
      "880\n",
      "880\n",
      "Effusion\n",
      "Average auc: 74.30003 with standard deviation: 0.03841\n",
      "\n",
      "Pneumothorax\n",
      "Average auc: 50.58284 with standard deviation: 0.13234\n",
      "\n",
      "Atelectasis\n",
      "Average auc: 55.0328 with standard deviation: 0.11796\n",
      "\n",
      "Cardiomegaly\n",
      "Average auc: 78.62871 with standard deviation: 0.50841\n",
      "\n",
      "Pneumonia\n",
      "Average auc: 57.6451 with standard deviation: 0.12534\n",
      "\n"
     ]
    }
   ],
   "source": [
    "print(len(Bbox))\n",
    "Bbox_preds = Bbox.merge(preds_df, how='left', on='Image Index')\n",
    "print(len(Bbox_preds))\n",
    "#Bbox_preds[:2]\n",
    "\n",
    "print_pathology_perf(Bbox_preds)"
   ]
  },
  {
   "cell_type": "markdown",
   "id": "669ac89c",
   "metadata": {},
   "source": [
    "#### Fine-tuned on PadChest AND then CXR14 for 5 epochs, evaluating on the GCS16L test set"
   ]
  },
  {
   "cell_type": "code",
   "execution_count": 61,
   "id": "0b4b5a45",
   "metadata": {},
   "outputs": [
    {
     "name": "stdout",
     "output_type": "stream",
     "text": [
      "810\n",
      "810\n",
      "Effusion\n",
      "Average auc: 87.56465 with standard deviation: 0.06872\n",
      "\n",
      "Pneumothorax\n",
      "Average auc: 60.7774 with standard deviation: 0.25046\n",
      "\n",
      "Atelectasis\n",
      "Average auc: 83.47123 with standard deviation: 0.09706\n",
      "\n",
      "Cardiomegaly\n",
      "Average auc: 83.94949 with standard deviation: 0.19262\n",
      "\n",
      "Pneumonia\n",
      "Average auc: 88.92327 with standard deviation: 0.10718\n",
      "\n"
     ]
    }
   ],
   "source": [
    "print(len(GCS16l))\n",
    "GCS16l_preds = GCS16l.merge(preds_df, how='left', on='Image Index')\n",
    "print(len(GCS16l_preds))\n",
    "#GCS16l_preds[:2]\n",
    "\n",
    "print_pathology_perf(GCS16l_preds)"
   ]
  },
  {
   "cell_type": "markdown",
   "id": "284b1e6e",
   "metadata": {},
   "source": [
    "#### Fine-tuned on PadChest AND then CXR14 for 5 epochs, evaluating on the GCS4L test set"
   ]
  },
  {
   "cell_type": "code",
   "execution_count": 62,
   "id": "ca1d1144",
   "metadata": {},
   "outputs": [
    {
     "name": "stdout",
     "output_type": "stream",
     "text": [
      "4376\n",
      "4376\n",
      "Pneumothorax\n",
      "Average auc: 54.19752 with standard deviation: 0.18769\n",
      "\n"
     ]
    }
   ],
   "source": [
    "print(len(GCS4l))\n",
    "GCS4l_preds = GCS4l.merge(preds_df, how='left', on='Image Index')\n",
    "print(len(GCS4l_preds))\n",
    "#GCS4l_preds[:2]\n",
    "\n",
    "print_pathology_perf(GCS4l_preds, pathologies=['Pneumothorax'])"
   ]
  },
  {
   "cell_type": "markdown",
   "id": "7055b4cc",
   "metadata": {},
   "source": [
    "#### Fine-tuned on PadChest AND then CXR14 for 5 epochs, evaluating on the RSNA test set"
   ]
  },
  {
   "cell_type": "code",
   "execution_count": 63,
   "id": "6ce31937",
   "metadata": {},
   "outputs": [
    {
     "name": "stdout",
     "output_type": "stream",
     "text": [
      "26684\n",
      "26684\n",
      "Pneumonia\n",
      "Average auc: 64.38903 with standard deviation: 0.55552\n",
      "\n"
     ]
    }
   ],
   "source": [
    "print(len(RSNA))\n",
    "RSNA_preds = RSNA.merge(preds_df, how='left', on='Image Index')\n",
    "print(len(RSNA_preds))\n",
    "#RSNA_preds[:2]\n",
    "\n",
    "print_pathology_perf(RSNA_preds, pathologies=['Pneumonia'])"
   ]
  },
  {
   "cell_type": "code",
   "execution_count": null,
   "id": "5ee26985",
   "metadata": {},
   "outputs": [],
   "source": []
  },
  {
   "cell_type": "markdown",
   "id": "d7257aa5",
   "metadata": {},
   "source": [
    "## Implementation of Class-Wise Calibration Error (CWCE)"
   ]
  },
  {
   "cell_type": "markdown",
   "id": "4d4e6c2e",
   "metadata": {},
   "source": [
    "Binary Expected Calibration Error:\n",
    "$$ \\text{binary-ECE}  = \\sum_{i=1}^M \\frac{|B_{i}|}{N} |\n",
    "        \\bar{y}(B_{i}) - \\bar{p}(B_{i})| $$\n",
    "\n",
    "Class-wise Expected Calibration Error:\n",
    "$$ \\text{class-$j$-ECE}  = \\sum_{i=1}^M \\frac{|B_{i,j}|}{N}\n",
    "        |\\bar{y}_j(B_{i,j}) - \\bar{p}_j(B_{i,j})|,\n",
    "        \\text{classwise-ECE}  = \\frac{1}{K}\\sum_{j=1}^K \\text{class-$j$-ECE} $$"
   ]
  },
  {
   "cell_type": "code",
   "execution_count": 15,
   "id": "490c70af",
   "metadata": {},
   "outputs": [],
   "source": [
    "def binary_ECE(y_true, probs, power=1, bins=10):\n",
    "    r\"\"\"\n",
    "    Binary Expected Calibration Error\n",
    "    \n",
    "    Parameters\n",
    "    ----------\n",
    "    y_true : indicator vector (n_samples, )\n",
    "        True labels.\n",
    "    probs : matrix (n_samples, )\n",
    "        Predicted probabilities for positive class.\n",
    "        \n",
    "    Returns\n",
    "    -------\n",
    "    score : float\n",
    "    \"\"\"\n",
    "\n",
    "    create_bins = np.linspace(start=0, stop=1, num=bins + 1)   # Returns 'num' evenly spaced samples, calculated over the interval [start, stop]\n",
    "    #print('bins created: ', create_bins)\n",
    "    idx_bins = np.digitize(x=probs, bins=create_bins)   # Return the indices of the bins to which each value in input array belongs\n",
    "    idx_bins -= 1   # Need to subtract 1 from the bin indices to start at 0\n",
    "    \n",
    "    \n",
    "    # Function for computing the ECE for one bin\n",
    "    def bin_func(y, p, idx_bins):\n",
    "        probs_bin_mean = np.mean(p[idx_bins])   # Mean of probs in bin i\n",
    "        true_bin_mean = np.mean(y[idx_bins])   # Mean of true values in bin i\n",
    "        diff = np.abs(probs_bin_mean - true_bin_mean)   # Absolute difference between the two bin means\n",
    "        diff_power = diff ** power   # Raising the diff according to the L_p calibration error specified, typically power = 1\n",
    "        ece = diff_power * np.sum(idx_bins) / len(p)   # Multiplying by the fraction of probs in that bin\n",
    "        return ece\n",
    "        \n",
    "    # Computing the binary ECE for each bin and summing them\n",
    "    ece = 0\n",
    "    \n",
    "    for i in np.unique(idx_bins):   # Looping through the unique bins (len(bins))\n",
    "        ece += bin_func(y_true, probs, idx_bins == i)   # Summing the error for each bin\n",
    "\n",
    "    return ece\n",
    "\n",
    "\n",
    "def classwise_ECE(y_true, probs, classes_list, power=1, bins=10, print_ece=False):\n",
    "    r\"\"\"Classwise Expected Calibration Error\n",
    "    \n",
    "    Parameters\n",
    "    ----------\n",
    "    y_true : label indicator matrix (n_samples, n_classes)\n",
    "        True labels.\n",
    "    probs : matrix (n_samples, n_classes)\n",
    "        Predicted probabilities.\n",
    "        \n",
    "    Returns\n",
    "    -------\n",
    "    score : float\n",
    "    \"\"\"\n",
    "\n",
    "    n_classes = len(classes_list)\n",
    "    \n",
    "    # Computing the binary ECE for each class\n",
    "    class_eces = []\n",
    "    for c in range(n_classes):   # Looping through the classes\n",
    "        binary_ece = binary_ECE(y_true[:, c], probs[:, c], power=power, bins=bins)\n",
    "        if print_ece:\n",
    "            print('ECE for {}: {}'.format(classes_list[c], round(binary_ece, 3)))\n",
    "        class_eces.append(binary_ece)\n",
    "    \n",
    "    #if print_ece:\n",
    "        #print()\n",
    "        #print('Average Class-Wise ECE: ', round(np.mean(class_eces), 3))\n",
    "    \n",
    "    return class_eces\n",
    "    # Right now, not printing the average class-wise calibration error\n",
    "\n",
    "    \n",
    "def classwise_ECE_three_models(df_orig, df_y_true, classes_list, power=1, bins=10):\n",
    "        \n",
    "    # Creating the preds df\n",
    "    preds_df = get_preds_multiclass(df_orig, df_y_true, print_auc=False)\n",
    "    \n",
    "    all_model_eces = []\n",
    "    \n",
    "    for i in range(3):\n",
    "        probs_model_df = preds_df[['preds_Effusion_model'+str(i+1), 'preds_Pneumothorax_model'+str(i+1), 'preds_Atelectasis_model'+str(i+1), 'preds_Cardiomegaly_model'+str(i+1), 'preds_Pneumonia_model'+str(i+1)]]\n",
    "        y_true_ann_df = preds_df[['Effusion', 'Pneumothorax', 'Atelectasis', 'Cardiomegaly', 'Pneumonia']]\n",
    "        \n",
    "        class_eces = classwise_ECE(y_true_ann_df.to_numpy(), probs_model_df.to_numpy(), classes_list=classes_list, power=power, bins=bins)\n",
    "        all_model_eces.append(class_eces)\n",
    "        \n",
    "    #print(all_model_eces)\n",
    "    \n",
    "    for c_idx, c in enumerate(classes_list):\n",
    "        print('Class: ', c)\n",
    "        print('Average CWCE: ', round(sum([all_model_eces[i][c_idx] for i in range(3)]) / 3, 5), 'with standard deviation: ', round(statistics.stdev([all_model_eces[i][c_idx] for i in range(3)]), 5))\n",
    "        print()\n",
    "    \n",
    "    return preds_df\n",
    "    # Right now, not printing the average class-wise calibration error\n",
    "        "
   ]
  },
  {
   "cell_type": "markdown",
   "id": "cfd82cc1",
   "metadata": {},
   "source": [
    "### Evaluating on PadChest"
   ]
  },
  {
   "cell_type": "markdown",
   "id": "2bd4769f",
   "metadata": {},
   "source": [
    "#### Fine-tuned on PadChest"
   ]
  },
  {
   "cell_type": "code",
   "execution_count": 16,
   "id": "b2a141ee",
   "metadata": {},
   "outputs": [
    {
     "name": "stdout",
     "output_type": "stream",
     "text": [
      "Class:  Effusion\n",
      "Average CWCE:  0.00728 with standard deviation:  0.00104\n",
      "\n",
      "Class:  Pneumothorax\n",
      "Average CWCE:  0.00033 with standard deviation:  5e-05\n",
      "\n",
      "Class:  Atelectasis\n",
      "Average CWCE:  0.00362 with standard deviation:  0.00057\n",
      "\n",
      "Class:  Cardiomegaly\n",
      "Average CWCE:  0.00911 with standard deviation:  0.0028\n",
      "\n",
      "Class:  Pneumonia\n",
      "Average CWCE:  0.00731 with standard deviation:  0.0015\n",
      "\n"
     ]
    }
   ],
   "source": [
    "pathologies = 'Effusion', 'Pneumothorax', 'Atelectasis', 'Cardiomegaly', 'Pneumonia'\n",
    "preds_df = classwise_ECE_three_models(PD_preds_finePad_PredsPadchest, padchest_test_labels_ALL, classes_list=pathologies, power=1, bins=10)\n",
    "#preds_df"
   ]
  },
  {
   "cell_type": "markdown",
   "id": "c6d9ca95",
   "metadata": {},
   "source": [
    "#### Fine-tuned on Padchest AND then CXR14 for 5 epochs"
   ]
  },
  {
   "cell_type": "code",
   "execution_count": 17,
   "id": "d01fb5ea",
   "metadata": {},
   "outputs": [
    {
     "name": "stdout",
     "output_type": "stream",
     "text": [
      "Class:  Effusion\n",
      "Average CWCE:  0.04411 with standard deviation:  0.0002\n",
      "\n",
      "Class:  Pneumothorax\n",
      "Average CWCE:  0.00319 with standard deviation:  1e-05\n",
      "\n",
      "Class:  Atelectasis\n",
      "Average CWCE:  0.01252 with standard deviation:  0.00076\n",
      "\n",
      "Class:  Cardiomegaly\n",
      "Average CWCE:  0.05667 with standard deviation:  0.00225\n",
      "\n",
      "Class:  Pneumonia\n",
      "Average CWCE:  0.04163 with standard deviation:  3e-05\n",
      "\n"
     ]
    }
   ],
   "source": [
    "pathologies = 'Effusion', 'Pneumothorax', 'Atelectasis', 'Cardiomegaly', 'Pneumonia'\n",
    "preds_df = classwise_ECE_three_models(PD_preds_fineCXR14_PredsPadchest_5epochs, padchest_test_labels_ALL, classes_list=pathologies, power=1, bins=10)"
   ]
  },
  {
   "cell_type": "code",
   "execution_count": null,
   "id": "ba435b6a",
   "metadata": {},
   "outputs": [],
   "source": []
  },
  {
   "cell_type": "markdown",
   "id": "f41c73f7",
   "metadata": {},
   "source": [
    "### Evaluating on ChestX-ray14 (CXR14)"
   ]
  },
  {
   "cell_type": "code",
   "execution_count": 23,
   "id": "ee013fb6",
   "metadata": {},
   "outputs": [],
   "source": [
    "def classwise_ECE_three_models_CXR14(df_orig_preds, df_y_true, classes_list, power=1, bins=10):\n",
    "        \n",
    "    # Creating the preds df\n",
    "    preds_df = get_preds_multiclass_CXR14(df_orig_preds, CXR14_pred_images)\n",
    "    \n",
    "    # Adding a column with the image index taken from the image path column\n",
    "    preds_df['Image Index'] = [i[-16:] for i in list(preds_df['ImagePath'])]\n",
    "    \n",
    "    # Merging the preds df with the true labels df\n",
    "    #eval_df = df_y_true.merge(preds_df, how='left', on=['ImagePath', 'Image Index'])\n",
    "    eval_df = df_y_true.merge(preds_df, how='left', on=['Image Index'])\n",
    "    \n",
    "    all_model_eces = []\n",
    "    \n",
    "    for i in range(3):\n",
    "        #probs_model_df = eval_df[['preds_Effusion_model'+str(i+1), 'preds_Pneumothorax_model'+str(i+1), 'preds_Atelectasis_model'+str(i+1), 'preds_Cardiomegaly_model'+str(i+1), 'preds_Pneumonia_model'+str(i+1)]]\n",
    "        probs_model_df = eval_df[['preds_'+c+'_model'+str(i+1) for c in classes_list]]\n",
    "        #y_true_ann_df = eval_df[['Effusion', 'Pneumothorax', 'Atelectasis', 'Cardiomegaly', 'Pneumonia']]\n",
    "        y_true_ann_df = eval_df[classes_list]\n",
    "        \n",
    "        class_eces = classwise_ECE(y_true_ann_df.to_numpy(), probs_model_df.to_numpy(), classes_list=classes_list, power=power, bins=bins)\n",
    "        all_model_eces.append(class_eces)\n",
    "        \n",
    "    #print(all_model_eces)\n",
    "    \n",
    "    for c_idx, c in enumerate(classes_list):\n",
    "        print('Class: ', c)\n",
    "        print('Average CWCE: ', round(sum([all_model_eces[i][c_idx] for i in range(3)]) / 3, 5), 'with standard deviation: ', round(statistics.stdev([all_model_eces[i][c_idx] for i in range(3)]), 5))\n",
    "        print()\n",
    "    \n",
    "    return preds_df\n",
    "    # Right now, not printing the average class-wise calibration error"
   ]
  },
  {
   "cell_type": "markdown",
   "id": "c4d0ed04",
   "metadata": {},
   "source": [
    "#### Fine-tuned on PadChest, evaluating on the combined/aggregated CXR14 test set"
   ]
  },
  {
   "cell_type": "code",
   "execution_count": 19,
   "id": "b7488e06",
   "metadata": {},
   "outputs": [
    {
     "name": "stdout",
     "output_type": "stream",
     "text": [
      "Class:  Effusion\n",
      "Average CWCE:  0.08058 with standard deviation:  0.0093\n",
      "\n",
      "Class:  Pneumothorax\n",
      "Average CWCE:  0.13676 with standard deviation:  0.00065\n",
      "\n",
      "Class:  Atelectasis\n",
      "Average CWCE:  0.23772 with standard deviation:  0.008\n",
      "\n",
      "Class:  Cardiomegaly\n",
      "Average CWCE:  0.08451 with standard deviation:  0.00229\n",
      "\n",
      "Class:  Pneumonia\n",
      "Average CWCE:  0.06021 with standard deviation:  0.00242\n",
      "\n"
     ]
    }
   ],
   "source": [
    "pathologies = ['Effusion', 'Pneumothorax', 'Atelectasis', 'Cardiomegaly', 'Pneumonia']\n",
    "preds = classwise_ECE_three_models_CXR14(PD_preds_finePad_PredsCXR14, CXR14_test_combined_labels, classes_list=pathologies, power=1, bins=10)"
   ]
  },
  {
   "cell_type": "markdown",
   "id": "2163722b",
   "metadata": {},
   "source": [
    "#### Fine-tuned on PadChest, evaluating on the BBox test set"
   ]
  },
  {
   "cell_type": "code",
   "execution_count": 18,
   "id": "a4caecab",
   "metadata": {},
   "outputs": [
    {
     "name": "stdout",
     "output_type": "stream",
     "text": [
      "Class:  Effusion\n",
      "Average CWCE:  0.11262 with standard deviation:  0.01193\n",
      "\n",
      "Class:  Pneumothorax\n",
      "Average CWCE:  0.10439 with standard deviation:  0.00084\n",
      "\n",
      "Class:  Atelectasis\n",
      "Average CWCE:  0.15474 with standard deviation:  0.00317\n",
      "\n",
      "Class:  Cardiomegaly\n",
      "Average CWCE:  0.10789 with standard deviation:  0.00326\n",
      "\n",
      "Class:  Pneumonia\n",
      "Average CWCE:  0.06286 with standard deviation:  0.00875\n",
      "\n"
     ]
    }
   ],
   "source": [
    "pathologies = ['Effusion', 'Pneumothorax', 'Atelectasis', 'Cardiomegaly', 'Pneumonia']\n",
    "preds = classwise_ECE_three_models_CXR14(PD_preds_finePad_PredsCXR14, Bbox, classes_list=pathologies, power=1, bins=10)"
   ]
  },
  {
   "cell_type": "markdown",
   "id": "11e5f1d9",
   "metadata": {},
   "source": [
    "#### Fine-tuned on PadChest, evaluating on the GCS16L test set"
   ]
  },
  {
   "cell_type": "code",
   "execution_count": 28,
   "id": "4a441ee4",
   "metadata": {},
   "outputs": [
    {
     "name": "stdout",
     "output_type": "stream",
     "text": [
      "Class:  Effusion\n",
      "Average CWCE:  0.1184 with standard deviation:  0.01817\n",
      "\n",
      "Class:  Pneumothorax\n",
      "Average CWCE:  0.16239 with standard deviation:  0.00045\n",
      "\n",
      "Class:  Atelectasis\n",
      "Average CWCE:  0.33576 with standard deviation:  0.00781\n",
      "\n",
      "Class:  Cardiomegaly\n",
      "Average CWCE:  0.05882 with standard deviation:  0.00099\n",
      "\n",
      "Class:  Pneumonia\n",
      "Average CWCE:  0.07698 with standard deviation:  0.00824\n",
      "\n"
     ]
    }
   ],
   "source": [
    "pathologies = ['Effusion', 'Pneumothorax', 'Atelectasis', 'Cardiomegaly', 'Pneumonia']\n",
    "preds = classwise_ECE_three_models_CXR14(PD_preds_finePad_PredsCXR14, GCS16l, classes_list=pathologies, power=1, bins=10)"
   ]
  },
  {
   "cell_type": "markdown",
   "id": "ba272488",
   "metadata": {},
   "source": [
    "#### Fine-tuned on PadChest, evaluating on the GCS4L test set"
   ]
  },
  {
   "cell_type": "code",
   "execution_count": 24,
   "id": "89e7bf8e",
   "metadata": {},
   "outputs": [
    {
     "name": "stdout",
     "output_type": "stream",
     "text": [
      "Class:  Pneumothorax\n",
      "Average CWCE:  0.04751 with standard deviation:  0.00092\n",
      "\n"
     ]
    }
   ],
   "source": [
    "pathologies = ['Pneumothorax']\n",
    "preds = classwise_ECE_three_models_CXR14(PD_preds_finePad_PredsCXR14, GCS4l, classes_list=pathologies, power=1, bins=10)"
   ]
  },
  {
   "cell_type": "markdown",
   "id": "7fc438d2",
   "metadata": {},
   "source": [
    "#### Fine-tuned on PadChest, evaluating on the RSNA test set"
   ]
  },
  {
   "cell_type": "code",
   "execution_count": 29,
   "id": "83ba2ae9",
   "metadata": {},
   "outputs": [
    {
     "name": "stdout",
     "output_type": "stream",
     "text": [
      "Class:  Pneumonia\n",
      "Average CWCE:  0.14441 with standard deviation:  0.00697\n",
      "\n"
     ]
    }
   ],
   "source": [
    "pathologies = ['Pneumonia']\n",
    "preds = classwise_ECE_three_models_CXR14(PD_preds_finePad_PredsCXR14, RSNA, classes_list=pathologies, power=1, bins=10)"
   ]
  },
  {
   "cell_type": "code",
   "execution_count": null,
   "id": "1e0efc7a",
   "metadata": {},
   "outputs": [],
   "source": []
  },
  {
   "cell_type": "markdown",
   "id": "909bed32",
   "metadata": {},
   "source": [
    "#### Fine-tuned on PadChest AND then CXR14 for 5 epochs, evaluating on the combined/aggregated CXR14 test set"
   ]
  },
  {
   "cell_type": "code",
   "execution_count": 30,
   "id": "3f1a726e",
   "metadata": {},
   "outputs": [
    {
     "name": "stdout",
     "output_type": "stream",
     "text": [
      "Class:  Effusion\n",
      "Average CWCE:  0.15555 with standard deviation:  0.00126\n",
      "\n",
      "Class:  Pneumothorax\n",
      "Average CWCE:  0.14271 with standard deviation:  1e-05\n",
      "\n",
      "Class:  Atelectasis\n",
      "Average CWCE:  0.2105 with standard deviation:  0.00161\n",
      "\n",
      "Class:  Cardiomegaly\n",
      "Average CWCE:  0.11509 with standard deviation:  0.00125\n",
      "\n",
      "Class:  Pneumonia\n",
      "Average CWCE:  0.13471 with standard deviation:  5e-05\n",
      "\n"
     ]
    }
   ],
   "source": [
    "pathologies = ['Effusion', 'Pneumothorax', 'Atelectasis', 'Cardiomegaly', 'Pneumonia']\n",
    "preds = classwise_ECE_three_models_CXR14(PD_preds_fineCXR14_PredsCXR14, CXR14_test_combined_labels, classes_list=pathologies, power=1, bins=10)"
   ]
  },
  {
   "cell_type": "markdown",
   "id": "39e8d3a1",
   "metadata": {},
   "source": [
    "#### Fine-tuned on PadChest AND then CXR14 for 5 epochs, evaluating on the BBox test set"
   ]
  },
  {
   "cell_type": "code",
   "execution_count": 31,
   "id": "95210250",
   "metadata": {},
   "outputs": [
    {
     "name": "stdout",
     "output_type": "stream",
     "text": [
      "Class:  Effusion\n",
      "Average CWCE:  0.09945 with standard deviation:  0.00243\n",
      "\n",
      "Class:  Pneumothorax\n",
      "Average CWCE:  0.11101 with standard deviation:  1e-05\n",
      "\n",
      "Class:  Atelectasis\n",
      "Average CWCE:  0.1223 with standard deviation:  0.00203\n",
      "\n",
      "Class:  Cardiomegaly\n",
      "Average CWCE:  0.14431 with standard deviation:  0.00137\n",
      "\n",
      "Class:  Pneumonia\n",
      "Average CWCE:  0.13384 with standard deviation:  4e-05\n",
      "\n"
     ]
    }
   ],
   "source": [
    "pathologies = ['Effusion', 'Pneumothorax', 'Atelectasis', 'Cardiomegaly', 'Pneumonia']\n",
    "preds = classwise_ECE_three_models_CXR14(PD_preds_fineCXR14_PredsCXR14, Bbox, classes_list=pathologies, power=1, bins=10)"
   ]
  },
  {
   "cell_type": "markdown",
   "id": "799a8858",
   "metadata": {},
   "source": [
    "#### Fine-tuned on PadChest AND then CXR14 for 5 epochs, evaluating on the GCS16L test set"
   ]
  },
  {
   "cell_type": "code",
   "execution_count": 32,
   "id": "ed7a06ca",
   "metadata": {},
   "outputs": [
    {
     "name": "stdout",
     "output_type": "stream",
     "text": [
      "Class:  Effusion\n",
      "Average CWCE:  0.21922 with standard deviation:  0.00112\n",
      "\n",
      "Class:  Pneumothorax\n",
      "Average CWCE:  0.16762 with standard deviation:  1e-05\n",
      "\n",
      "Class:  Atelectasis\n",
      "Average CWCE:  0.31464 with standard deviation:  0.00148\n",
      "\n",
      "Class:  Cardiomegaly\n",
      "Average CWCE:  0.08258 with standard deviation:  0.00114\n",
      "\n",
      "Class:  Pneumonia\n",
      "Average CWCE:  0.0004 with standard deviation:  5e-05\n",
      "\n"
     ]
    }
   ],
   "source": [
    "pathologies = ['Effusion', 'Pneumothorax', 'Atelectasis', 'Cardiomegaly', 'Pneumonia']\n",
    "preds = classwise_ECE_three_models_CXR14(PD_preds_fineCXR14_PredsCXR14, GCS16l, classes_list=pathologies, power=1, bins=10)"
   ]
  },
  {
   "cell_type": "markdown",
   "id": "88aece69",
   "metadata": {},
   "source": [
    "#### Fine-tuned on PadChest AND then CXR14 for 5 epochs, evaluating on the GCS4L test set"
   ]
  },
  {
   "cell_type": "code",
   "execution_count": 33,
   "id": "d38a2c43",
   "metadata": {},
   "outputs": [
    {
     "name": "stdout",
     "output_type": "stream",
     "text": [
      "Class:  Pneumothorax\n",
      "Average CWCE:  0.05404 with standard deviation:  1e-05\n",
      "\n"
     ]
    }
   ],
   "source": [
    "pathologies = ['Pneumothorax']\n",
    "preds = classwise_ECE_three_models_CXR14(PD_preds_fineCXR14_PredsCXR14, GCS4l, classes_list=pathologies, power=1, bins=10)"
   ]
  },
  {
   "cell_type": "markdown",
   "id": "c565206f",
   "metadata": {},
   "source": [
    "#### Fine-tuned on PadChest AND then CXR14 for 5 epochs, evaluating on the RSNA test set"
   ]
  },
  {
   "cell_type": "code",
   "execution_count": 34,
   "id": "a2ca1805",
   "metadata": {},
   "outputs": [
    {
     "name": "stdout",
     "output_type": "stream",
     "text": [
      "Class:  Pneumonia\n",
      "Average CWCE:  0.22334 with standard deviation:  4e-05\n",
      "\n"
     ]
    }
   ],
   "source": [
    "pathologies = ['Pneumonia']\n",
    "preds = classwise_ECE_three_models_CXR14(PD_preds_fineCXR14_PredsCXR14, RSNA, classes_list=pathologies, power=1, bins=10)"
   ]
  },
  {
   "cell_type": "code",
   "execution_count": null,
   "id": "ec0d895a",
   "metadata": {},
   "outputs": [],
   "source": []
  },
  {
   "cell_type": "code",
   "execution_count": null,
   "id": "13a07568",
   "metadata": {},
   "outputs": [],
   "source": []
  }
 ],
 "metadata": {
  "kernelspec": {
   "display_name": "Python 3 (ipykernel)",
   "language": "python",
   "name": "python3"
  },
  "language_info": {
   "codemirror_mode": {
    "name": "ipython",
    "version": 3
   },
   "file_extension": ".py",
   "mimetype": "text/x-python",
   "name": "python",
   "nbconvert_exporter": "python",
   "pygments_lexer": "ipython3",
   "version": "3.9.7"
  }
 },
 "nbformat": 4,
 "nbformat_minor": 5
}
