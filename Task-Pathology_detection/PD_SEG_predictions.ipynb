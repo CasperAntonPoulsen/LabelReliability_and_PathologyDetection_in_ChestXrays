{
 "cells": [
  {
   "cell_type": "markdown",
   "id": "4ecc6ed7",
   "metadata": {},
   "source": [
    "# Model predictions for the pathology detection model using segmented images"
   ]
  },
  {
   "cell_type": "code",
   "execution_count": 5,
   "id": "75e9b4c9",
   "metadata": {},
   "outputs": [],
   "source": [
    "# Imports\n",
    "import pandas as pd\n",
    "import numpy as np\n",
    "import ast\n",
    "import re\n",
    "import statistics\n",
    "from sklearn.metrics import roc_auc_score"
   ]
  },
  {
   "cell_type": "code",
   "execution_count": 20,
   "id": "3eef5e4f",
   "metadata": {
    "scrolled": false
   },
   "outputs": [],
   "source": [
    "## Loading all the data\n",
    "\n",
    "# Model predictions\n",
    "S_preds_PadChest_PredsNoLungs = pd.read_csv('../Task-Pathology_detection/Predictions/PD_preds_nolungs.csv', index_col=0)\n",
    "S_preds_PadChest_PredsOnlyLungs = pd.read_csv('../Task-Pathology_detection/Predictions/PD_preds_onlylungs.csv', index_col=0)\n",
    "\n",
    "S_preds_nolungs_PredsPadChest = pd.read_csv('Predictions/PD_SEG_nolungs_preds_padchest.csv', index_col=0)\n",
    "S_preds_nolungs_PredsNoLungs = pd.read_csv('Predictions/PD_SEG_nolungs_preds_nolungs.csv', index_col=0)\n",
    "S_preds_nolungs_PredsOnlyLungs = pd.read_csv('Predictions/PD_SEG_nolungs_preds_onlylungs.csv', index_col=0)\n",
    "\n",
    "S_preds_onlylungs_PredsPadChest = pd.read_csv('Predictions/PD_SEG_onlylungs_preds_padchest.csv', index_col=0)\n",
    "S_preds_onlylungs_PredsNoLungs = pd.read_csv('Predictions/PD_SEG_onlylungs_preds_nolungs.csv', index_col=0)\n",
    "S_preds_onlylungs_PredsOnlyLungs = pd.read_csv('Predictions/PD_SEG_onlylungs_preds_onlylungs.csv', index_col=0)\n",
    "\n",
    "# True labels\n",
    "test_padchest = pd.read_csv('../Data/Data_splits/pathology_detection-test.csv', index_col=0)\n",
    "annotations = pd.read_csv('../Data/Annotations/Annotations_aggregated.csv', index_col=0)\n",
    "padchest_test_labels_ALL = pd.concat([test_padchest, annotations])   # Concatenating the tube and pathology test sets"
   ]
  },
  {
   "cell_type": "markdown",
   "id": "0e2b6a04",
   "metadata": {},
   "source": [
    "## Area Under the ROC Curve (AUC)"
   ]
  },
  {
   "cell_type": "code",
   "execution_count": 11,
   "id": "96a2d5b6",
   "metadata": {},
   "outputs": [],
   "source": [
    "## Area Under the ROC Curve (AUC)# Function for reading the predictions, which are strings, as numpy arrays\n",
    "def str2array(s):\n",
    "    # Remove space after [\n",
    "    s=re.sub('\\[ +', '[', s.strip())\n",
    "    # Replace commas and spaces\n",
    "    s=re.sub('[,\\s]+', ', ', s)\n",
    "    return np.array(ast.literal_eval(s))\n",
    "\n",
    "\n",
    "# Function to arrange preds nicely in a df\n",
    "def get_preds_multiclass(orig_pred_df, true_labels_df, print_auc=True):\n",
    "    \n",
    "    pathologies = ['Effusion', 'Pneumothorax', 'Atelectasis', 'Cardiomegaly', 'Pneumonia']\n",
    "    all_preds = []\n",
    "    \n",
    "    for row_number in range(len(orig_pred_df)):\n",
    "        for p_idx, p in enumerate(pathologies):\n",
    "            preds = [[str2array(i[\"Preds_model1\"]) for idx, i in orig_pred_df.iterrows()][row_number][:,p_idx],\n",
    "                     [str2array(i[\"Preds_model2\"]) for idx, i in orig_pred_df.iterrows()][row_number][:,p_idx],\n",
    "                     [str2array(i[\"Preds_model3\"]) for idx, i in orig_pred_df.iterrows()][row_number][:,p_idx]]\n",
    "            all_preds.append(preds)\n",
    "            \n",
    "    # Constructing a df with the preds and 'true' labels\n",
    "    preds_df = pd.DataFrame(list(zip(list(true_labels_df['Effusion']),\n",
    "                                     list(true_labels_df['Pneumothorax']),\n",
    "                                     list(true_labels_df['Atelectasis']),\n",
    "                                     list(true_labels_df['Cardiomegaly']),\n",
    "                                     list(true_labels_df['Pneumonia']),\n",
    "                                     list(all_preds[0][0]),\n",
    "                                     list(all_preds[0][1]),\n",
    "                                     list(all_preds[0][2]),\n",
    "                                     list(all_preds[1][0]),\n",
    "                                     list(all_preds[1][1]),\n",
    "                                     list(all_preds[1][2]),\n",
    "                                     list(all_preds[2][0]),\n",
    "                                     list(all_preds[2][1]),\n",
    "                                     list(all_preds[2][2]),\n",
    "                                     list(all_preds[3][0]),\n",
    "                                     list(all_preds[3][1]),\n",
    "                                     list(all_preds[3][2]),\n",
    "                                     list(all_preds[4][0]),\n",
    "                                     list(all_preds[4][1]),\n",
    "                                     list(all_preds[4][2]))),\n",
    "                            columns = ['Effusion', 'Pneumothorax', 'Atelectasis', 'Cardiomegaly',\n",
    "                                       'Pneumonia', 'preds_Effusion_model1', 'preds_Effusion_model2', 'preds_Effusion_model3',\n",
    "                                       'preds_Pneumothorax_model1', 'preds_Pneumothorax_model2', 'preds_Pneumothorax_model3',\n",
    "                                       'preds_Atelectasis_model1', 'preds_Atelectasis_model2', 'preds_Atelectasis_model3',\n",
    "                                       'preds_Cardiomegaly_model1', 'preds_Cardiomegaly_model2', 'preds_Cardiomegaly_model3',\n",
    "                                       'preds_Pneumonia_model1', 'preds_Pneumonia_model2', 'preds_Pneumonia_model3'])\n",
    "\n",
    "\n",
    "    if print_auc:\n",
    "        # Computing the auc for each pathology separately\n",
    "        for p in pathologies:\n",
    "            print(p)\n",
    "            auc_list = []\n",
    "            for i in range(3):\n",
    "                #print(i+1)\n",
    "                auc = roc_auc_score(preds_df[p], preds_df['preds_' + str(p) + '_model' + str(i+1)])\n",
    "                auc_list.append(auc)\n",
    "            #print(auc_list)\n",
    "\n",
    "    #        print(\"Average AUC:\", round(sum(auc_list)/3 * 100, 5))\n",
    "            print(\"Average auc:\", round(sum(auc_list)/len(auc_list)*100, 1), \"with standard deviation:\", round(statistics.stdev(auc_list)*100,1))\n",
    "\n",
    "            print()\n",
    "\n",
    "    return preds_df\n"
   ]
  },
  {
   "cell_type": "markdown",
   "id": "7d8c853b",
   "metadata": {},
   "source": [
    "### Trained on: Original PadChest images"
   ]
  },
  {
   "cell_type": "markdown",
   "id": "468f9c13",
   "metadata": {},
   "source": [
    "#### Predictions on: Images with no lungs"
   ]
  },
  {
   "cell_type": "code",
   "execution_count": 14,
   "id": "a8ad003d",
   "metadata": {},
   "outputs": [
    {
     "name": "stdout",
     "output_type": "stream",
     "text": [
      "Effusion\n",
      "Average auc: 89.4 with standard deviation: 0.6\n",
      "\n",
      "Pneumothorax\n",
      "Average auc: 66.3 with standard deviation: 5.2\n",
      "\n",
      "Atelectasis\n",
      "Average auc: 82.7 with standard deviation: 1.2\n",
      "\n",
      "Cardiomegaly\n",
      "Average auc: 82.0 with standard deviation: 1.1\n",
      "\n",
      "Pneumonia\n",
      "Average auc: 65.9 with standard deviation: 2.1\n",
      "\n"
     ]
    }
   ],
   "source": [
    "preds_df = get_preds_multiclass(S_preds_PadChest_PredsNoLungs, padchest_test_labels_ALL)\n",
    "#preds_df"
   ]
  },
  {
   "cell_type": "markdown",
   "id": "78d7b32c",
   "metadata": {},
   "source": [
    "#### Predictions on: Images with only lungs"
   ]
  },
  {
   "cell_type": "code",
   "execution_count": 15,
   "id": "993f5486",
   "metadata": {},
   "outputs": [
    {
     "name": "stdout",
     "output_type": "stream",
     "text": [
      "Effusion\n",
      "Average auc: 70.0 with standard deviation: 3.1\n",
      "\n",
      "Pneumothorax\n",
      "Average auc: 46.0 with standard deviation: 5.9\n",
      "\n",
      "Atelectasis\n",
      "Average auc: 67.5 with standard deviation: 4.3\n",
      "\n",
      "Cardiomegaly\n",
      "Average auc: 63.0 with standard deviation: 2.9\n",
      "\n",
      "Pneumonia\n",
      "Average auc: 58.9 with standard deviation: 1.1\n",
      "\n"
     ]
    }
   ],
   "source": [
    "preds_df = get_preds_multiclass(S_preds_PadChest_PredsOnlyLungs, padchest_test_labels_ALL)\n",
    "#preds_df"
   ]
  },
  {
   "cell_type": "markdown",
   "id": "eb8654bc",
   "metadata": {},
   "source": [
    "### Trained on: Images with no lungs"
   ]
  },
  {
   "cell_type": "markdown",
   "id": "04b829ff",
   "metadata": {},
   "source": [
    "#### Predictions on: Original PadChest images"
   ]
  },
  {
   "cell_type": "code",
   "execution_count": 16,
   "id": "b161fb18",
   "metadata": {},
   "outputs": [
    {
     "name": "stdout",
     "output_type": "stream",
     "text": [
      "Effusion\n",
      "Average auc: 76.4 with standard deviation: 1.3\n",
      "\n",
      "Pneumothorax\n",
      "Average auc: 74.7 with standard deviation: 4.0\n",
      "\n",
      "Atelectasis\n",
      "Average auc: 80.7 with standard deviation: 1.3\n",
      "\n",
      "Cardiomegaly\n",
      "Average auc: 73.5 with standard deviation: 3.4\n",
      "\n",
      "Pneumonia\n",
      "Average auc: 73.9 with standard deviation: 0.6\n",
      "\n"
     ]
    }
   ],
   "source": [
    "preds_df = get_preds_multiclass(S_preds_nolungs_PredsPadChest, padchest_test_labels_ALL)\n",
    "#preds_df"
   ]
  },
  {
   "cell_type": "markdown",
   "id": "55a81691",
   "metadata": {},
   "source": [
    "#### Predictions on: Images with no lungs"
   ]
  },
  {
   "cell_type": "code",
   "execution_count": 17,
   "id": "8be5aef7",
   "metadata": {},
   "outputs": [
    {
     "name": "stdout",
     "output_type": "stream",
     "text": [
      "Effusion\n",
      "Average auc: 94.4 with standard deviation: 0.1\n",
      "\n",
      "Pneumothorax\n",
      "Average auc: 82.2 with standard deviation: 1.4\n",
      "\n",
      "Atelectasis\n",
      "Average auc: 87.0 with standard deviation: 0.6\n",
      "\n",
      "Cardiomegaly\n",
      "Average auc: 90.5 with standard deviation: 0.1\n",
      "\n",
      "Pneumonia\n",
      "Average auc: 79.0 with standard deviation: 0.1\n",
      "\n"
     ]
    }
   ],
   "source": [
    "preds_df = get_preds_multiclass(S_preds_nolungs_PredsNoLungs, padchest_test_labels_ALL)\n",
    "#preds_df"
   ]
  },
  {
   "cell_type": "markdown",
   "id": "ab1195af",
   "metadata": {},
   "source": [
    "#### Predictions on: Images with only lungs"
   ]
  },
  {
   "cell_type": "code",
   "execution_count": 18,
   "id": "05746fa5",
   "metadata": {},
   "outputs": [
    {
     "name": "stdout",
     "output_type": "stream",
     "text": [
      "Effusion\n",
      "Average auc: 65.2 with standard deviation: 8.4\n",
      "\n",
      "Pneumothorax\n",
      "Average auc: 68.6 with standard deviation: 6.3\n",
      "\n",
      "Atelectasis\n",
      "Average auc: 60.7 with standard deviation: 7.2\n",
      "\n",
      "Cardiomegaly\n",
      "Average auc: 56.4 with standard deviation: 7.4\n",
      "\n",
      "Pneumonia\n",
      "Average auc: 61.9 with standard deviation: 1.3\n",
      "\n"
     ]
    }
   ],
   "source": [
    "preds_df = get_preds_multiclass(S_preds_nolungs_PredsOnlyLungs, padchest_test_labels_ALL)\n",
    "#preds_df"
   ]
  },
  {
   "cell_type": "markdown",
   "id": "58e05786",
   "metadata": {},
   "source": [
    "### Trained on: Images with only lungs"
   ]
  },
  {
   "cell_type": "markdown",
   "id": "57a7f979",
   "metadata": {},
   "source": [
    "#### Predictions on: Original PadChest images"
   ]
  },
  {
   "cell_type": "code",
   "execution_count": 21,
   "id": "5794ad01",
   "metadata": {},
   "outputs": [
    {
     "name": "stdout",
     "output_type": "stream",
     "text": [
      "Effusion\n",
      "Average auc: 52.4 with standard deviation: 5.9\n",
      "\n",
      "Pneumothorax\n",
      "Average auc: 56.9 with standard deviation: 11.3\n",
      "\n",
      "Atelectasis\n",
      "Average auc: 58.4 with standard deviation: 2.9\n",
      "\n",
      "Cardiomegaly\n",
      "Average auc: 54.9 with standard deviation: 4.1\n",
      "\n",
      "Pneumonia\n",
      "Average auc: 56.5 with standard deviation: 0.8\n",
      "\n"
     ]
    }
   ],
   "source": [
    "preds_df = get_preds_multiclass(S_preds_onlylungs_PredsPadChest, padchest_test_labels_ALL)\n",
    "#preds_df"
   ]
  },
  {
   "cell_type": "markdown",
   "id": "fbc7d50e",
   "metadata": {},
   "source": [
    "#### Predictions on: Images with no lungs"
   ]
  },
  {
   "cell_type": "code",
   "execution_count": 22,
   "id": "b66fa046",
   "metadata": {},
   "outputs": [
    {
     "name": "stdout",
     "output_type": "stream",
     "text": [
      "Effusion\n",
      "Average auc: 56.2 with standard deviation: 12.6\n",
      "\n",
      "Pneumothorax\n",
      "Average auc: 72.3 with standard deviation: 4.0\n",
      "\n",
      "Atelectasis\n",
      "Average auc: 59.2 with standard deviation: 8.1\n",
      "\n",
      "Cardiomegaly\n",
      "Average auc: 52.7 with standard deviation: 6.6\n",
      "\n",
      "Pneumonia\n",
      "Average auc: 59.6 with standard deviation: 1.5\n",
      "\n"
     ]
    }
   ],
   "source": [
    "preds_df = get_preds_multiclass(S_preds_onlylungs_PredsNoLungs, padchest_test_labels_ALL)\n",
    "#preds_df"
   ]
  },
  {
   "cell_type": "markdown",
   "id": "5723e28c",
   "metadata": {},
   "source": [
    "#### Predictions on: Images with only lungs"
   ]
  },
  {
   "cell_type": "code",
   "execution_count": 23,
   "id": "14077da9",
   "metadata": {},
   "outputs": [
    {
     "name": "stdout",
     "output_type": "stream",
     "text": [
      "Effusion\n",
      "Average auc: 93.1 with standard deviation: 0.0\n",
      "\n",
      "Pneumothorax\n",
      "Average auc: 80.5 with standard deviation: 1.2\n",
      "\n",
      "Atelectasis\n",
      "Average auc: 86.4 with standard deviation: 0.2\n",
      "\n",
      "Cardiomegaly\n",
      "Average auc: 90.1 with standard deviation: 0.1\n",
      "\n",
      "Pneumonia\n",
      "Average auc: 79.3 with standard deviation: 0.2\n",
      "\n"
     ]
    }
   ],
   "source": [
    "preds_df = get_preds_multiclass(S_preds_onlylungs_PredsOnlyLungs, padchest_test_labels_ALL)\n",
    "#preds_df"
   ]
  },
  {
   "cell_type": "code",
   "execution_count": null,
   "id": "06be7a1d",
   "metadata": {},
   "outputs": [],
   "source": []
  },
  {
   "cell_type": "code",
   "execution_count": null,
   "id": "f89f534e",
   "metadata": {},
   "outputs": [],
   "source": []
  },
  {
   "cell_type": "markdown",
   "id": "d7257aa5",
   "metadata": {},
   "source": [
    "## Implementation of Class-Wise Calibration Error (CWCE)"
   ]
  },
  {
   "cell_type": "markdown",
   "id": "4d4e6c2e",
   "metadata": {},
   "source": [
    "Binary Expected Calibration Error:\n",
    "$$ \\text{binary-ECE}  = \\sum_{i=1}^M \\frac{|B_{i}|}{N} |\n",
    "        \\bar{y}(B_{i}) - \\bar{p}(B_{i})| $$\n",
    "\n",
    "Class-wise Expected Calibration Error:\n",
    "$$ \\text{class-$j$-ECE}  = \\sum_{i=1}^M \\frac{|B_{i,j}|}{N}\n",
    "        |\\bar{y}_j(B_{i,j}) - \\bar{p}_j(B_{i,j})|,\n",
    "        \\text{classwise-ECE}  = \\frac{1}{K}\\sum_{j=1}^K \\text{class-$j$-ECE} $$"
   ]
  },
  {
   "cell_type": "code",
   "execution_count": 24,
   "id": "274bd7b3",
   "metadata": {},
   "outputs": [],
   "source": [
    "def binary_ECE(y_true, probs, power=1, bins=10):\n",
    "    r\"\"\"\n",
    "    Binary Expected Calibration Error\n",
    "    \n",
    "    Parameters\n",
    "    ----------\n",
    "    y_true : indicator vector (n_samples, )\n",
    "        True labels.\n",
    "    probs : matrix (n_samples, )\n",
    "        Predicted probabilities for positive class.\n",
    "        \n",
    "    Returns\n",
    "    -------\n",
    "    score : float\n",
    "    \"\"\"\n",
    "\n",
    "    create_bins = np.linspace(start=0, stop=1, num=bins + 1)   # Returns 'num' evenly spaced samples, calculated over the interval [start, stop]\n",
    "    #print('bins created: ', create_bins)\n",
    "    idx_bins = np.digitize(x=probs, bins=create_bins)   # Return the indices of the bins to which each value in input array belongs\n",
    "    idx_bins -= 1   # Need to subtract 1 from the bin indices to start at 0\n",
    "    \n",
    "    \n",
    "    # Function for computing the ECE for one bin\n",
    "    def bin_func(y, p, idx_bins):\n",
    "        probs_bin_mean = np.mean(p[idx_bins])   # Mean of probs in bin i\n",
    "        true_bin_mean = np.mean(y[idx_bins])   # Mean of true values in bin i\n",
    "        diff = np.abs(probs_bin_mean - true_bin_mean)   # Absolute difference between the two bin means\n",
    "        diff_power = diff ** power   # Raising the diff according to the L_p calibration error specified, typically power = 1\n",
    "        ece = diff_power * np.sum(idx_bins) / len(p)   # Multiplying by the fraction of probs in that bin\n",
    "        return ece\n",
    "        \n",
    "    # Computing the binary ECE for each bin and summing them\n",
    "    ece = 0\n",
    "    \n",
    "    for i in np.unique(idx_bins):   # Looping through the unique bins (len(bins))\n",
    "        ece += bin_func(y_true, probs, idx_bins == i)   # Summing the error for each bin\n",
    "\n",
    "    return ece\n",
    "\n",
    "\n",
    "def classwise_ECE(y_true, probs, classes_list, power=1, bins=10, print_ece=False):\n",
    "    r\"\"\"Classwise Expected Calibration Error\n",
    "    \n",
    "    Parameters\n",
    "    ----------\n",
    "    y_true : label indicator matrix (n_samples, n_classes)\n",
    "        True labels.\n",
    "    probs : matrix (n_samples, n_classes)\n",
    "        Predicted probabilities.\n",
    "        \n",
    "    Returns\n",
    "    -------\n",
    "    score : float\n",
    "    \"\"\"\n",
    "\n",
    "    n_classes = len(classes_list)\n",
    "    \n",
    "    # Computing the binary ECE for each class\n",
    "    class_eces = []\n",
    "    for c in range(n_classes):   # Looping through the classes\n",
    "        binary_ece = binary_ECE(y_true[:, c], probs[:, c], power=power, bins=bins)\n",
    "        if print_ece:\n",
    "            print('ECE for {}: {}'.format(classes_list[c], round(binary_ece, 3)))\n",
    "        class_eces.append(binary_ece)\n",
    "    \n",
    "    #if print_ece:\n",
    "        #print()\n",
    "        #print('Average Class-Wise ECE: ', round(np.mean(class_eces), 3))\n",
    "    \n",
    "    return class_eces\n",
    "    # Right now, not printing the average class-wise calibration error\n",
    "\n",
    "    \n",
    "def classwise_ECE_three_models(df_orig, df_y_true, classes_list, power=1, bins=10):\n",
    "        \n",
    "    # Creating the preds df\n",
    "    preds_df = get_preds_multiclass(df_orig, df_y_true, print_auc=False)\n",
    "    \n",
    "    all_model_eces = []\n",
    "    \n",
    "    for i in range(3):\n",
    "        probs_model_df = preds_df[['preds_Effusion_model'+str(i+1), 'preds_Pneumothorax_model'+str(i+1), 'preds_Atelectasis_model'+str(i+1), 'preds_Cardiomegaly_model'+str(i+1), 'preds_Pneumonia_model'+str(i+1)]]\n",
    "        y_true_ann_df = preds_df[['Effusion', 'Pneumothorax', 'Atelectasis', 'Cardiomegaly', 'Pneumonia']]\n",
    "        \n",
    "        class_eces = classwise_ECE(y_true_ann_df.to_numpy(), probs_model_df.to_numpy(), classes_list=classes_list, power=power, bins=bins)\n",
    "        all_model_eces.append(class_eces)\n",
    "        \n",
    "    #print(all_model_eces)\n",
    "    \n",
    "    for c_idx, c in enumerate(classes_list):\n",
    "        print('Class: ', c)\n",
    "        print('Average CWCE: ', round(sum([all_model_eces[i][c_idx] for i in range(3)]) / 3, 5), 'with standard deviation: ', round(statistics.stdev([all_model_eces[i][c_idx] for i in range(3)]), 5))\n",
    "        print()\n",
    "    \n",
    "    return preds_df\n",
    "    # Right now, not printing the average class-wise calibration error\n",
    "    "
   ]
  },
  {
   "cell_type": "markdown",
   "id": "eae07af8",
   "metadata": {},
   "source": [
    "### Trained on: Original PadChest images"
   ]
  },
  {
   "cell_type": "markdown",
   "id": "cb5f548f",
   "metadata": {},
   "source": [
    "#### Predictions on: Images with no lungs"
   ]
  },
  {
   "cell_type": "code",
   "execution_count": 25,
   "id": "fa5dd8f4",
   "metadata": {},
   "outputs": [
    {
     "name": "stdout",
     "output_type": "stream",
     "text": [
      "Class:  Effusion\n",
      "Average CWCE:  0.01437 with standard deviation:  0.00459\n",
      "\n",
      "Class:  Pneumothorax\n",
      "Average CWCE:  0.00101 with standard deviation:  0.00099\n",
      "\n",
      "Class:  Atelectasis\n",
      "Average CWCE:  0.00733 with standard deviation:  0.00374\n",
      "\n",
      "Class:  Cardiomegaly\n",
      "Average CWCE:  0.02867 with standard deviation:  0.00577\n",
      "\n",
      "Class:  Pneumonia\n",
      "Average CWCE:  0.01756 with standard deviation:  0.00222\n",
      "\n"
     ]
    }
   ],
   "source": [
    "pathologies = ['Effusion', 'Pneumothorax', 'Atelectasis', 'Cardiomegaly', 'Pneumonia']\n",
    "preds_df = classwise_ECE_three_models(S_preds_PadChest_PredsNoLungs, padchest_test_labels_ALL, classes_list=pathologies, power=1, bins=10)"
   ]
  },
  {
   "cell_type": "markdown",
   "id": "468f9c13",
   "metadata": {},
   "source": [
    "#### Predictions on: Images with only lungs"
   ]
  },
  {
   "cell_type": "code",
   "execution_count": 26,
   "id": "3116632b",
   "metadata": {},
   "outputs": [
    {
     "name": "stdout",
     "output_type": "stream",
     "text": [
      "Class:  Effusion\n",
      "Average CWCE:  0.04373 with standard deviation:  0.01177\n",
      "\n",
      "Class:  Pneumothorax\n",
      "Average CWCE:  0.00335 with standard deviation:  0.00417\n",
      "\n",
      "Class:  Atelectasis\n",
      "Average CWCE:  0.01138 with standard deviation:  0.00183\n",
      "\n",
      "Class:  Cardiomegaly\n",
      "Average CWCE:  0.05804 with standard deviation:  0.01903\n",
      "\n",
      "Class:  Pneumonia\n",
      "Average CWCE:  0.01518 with standard deviation:  0.00519\n",
      "\n"
     ]
    }
   ],
   "source": [
    "pathologies = ['Effusion', 'Pneumothorax', 'Atelectasis', 'Cardiomegaly', 'Pneumonia']\n",
    "preds_df = classwise_ECE_three_models(S_preds_PadChest_PredsOnlyLungs, padchest_test_labels_ALL, classes_list=pathologies, power=1, bins=10)"
   ]
  },
  {
   "cell_type": "markdown",
   "id": "1ab4d5c9",
   "metadata": {},
   "source": [
    "### Trained on: Images with no lungs"
   ]
  },
  {
   "cell_type": "markdown",
   "id": "468f9c13",
   "metadata": {},
   "source": [
    "#### Predictions on: Original PadChest images"
   ]
  },
  {
   "cell_type": "code",
   "execution_count": 27,
   "id": "4dbc35a0",
   "metadata": {},
   "outputs": [
    {
     "name": "stdout",
     "output_type": "stream",
     "text": [
      "Class:  Effusion\n",
      "Average CWCE:  0.14421 with standard deviation:  0.08054\n",
      "\n",
      "Class:  Pneumothorax\n",
      "Average CWCE:  0.00082 with standard deviation:  0.00081\n",
      "\n",
      "Class:  Atelectasis\n",
      "Average CWCE:  0.02237 with standard deviation:  0.01814\n",
      "\n",
      "Class:  Cardiomegaly\n",
      "Average CWCE:  0.132 with standard deviation:  0.05563\n",
      "\n",
      "Class:  Pneumonia\n",
      "Average CWCE:  0.01292 with standard deviation:  0.00285\n",
      "\n"
     ]
    }
   ],
   "source": [
    "pathologies = ['Effusion', 'Pneumothorax', 'Atelectasis', 'Cardiomegaly', 'Pneumonia']\n",
    "preds_df = classwise_ECE_three_models(S_preds_nolungs_PredsPadChest, padchest_test_labels_ALL, classes_list=pathologies, power=1, bins=10)"
   ]
  },
  {
   "cell_type": "markdown",
   "id": "468f9c13",
   "metadata": {},
   "source": [
    "#### Predictions on: Images with no lungs"
   ]
  },
  {
   "cell_type": "code",
   "execution_count": 28,
   "id": "f6c0bf51",
   "metadata": {},
   "outputs": [
    {
     "name": "stdout",
     "output_type": "stream",
     "text": [
      "Class:  Effusion\n",
      "Average CWCE:  0.00944 with standard deviation:  0.00118\n",
      "\n",
      "Class:  Pneumothorax\n",
      "Average CWCE:  0.00046 with standard deviation:  0.00011\n",
      "\n",
      "Class:  Atelectasis\n",
      "Average CWCE:  0.00401 with standard deviation:  0.00033\n",
      "\n",
      "Class:  Cardiomegaly\n",
      "Average CWCE:  0.00791 with standard deviation:  0.00199\n",
      "\n",
      "Class:  Pneumonia\n",
      "Average CWCE:  0.00473 with standard deviation:  0.0018\n",
      "\n"
     ]
    }
   ],
   "source": [
    "pathologies = ['Effusion', 'Pneumothorax', 'Atelectasis', 'Cardiomegaly', 'Pneumonia']\n",
    "preds_df = classwise_ECE_three_models(S_preds_nolungs_PredsNoLungs, padchest_test_labels_ALL, classes_list=pathologies, power=1, bins=10)"
   ]
  },
  {
   "cell_type": "markdown",
   "id": "468f9c13",
   "metadata": {},
   "source": [
    "#### Predictions on: Images with only lungs"
   ]
  },
  {
   "cell_type": "code",
   "execution_count": 29,
   "id": "1b8cb1d6",
   "metadata": {},
   "outputs": [
    {
     "name": "stdout",
     "output_type": "stream",
     "text": [
      "Class:  Effusion\n",
      "Average CWCE:  0.05312 with standard deviation:  0.00932\n",
      "\n",
      "Class:  Pneumothorax\n",
      "Average CWCE:  0.00165 with standard deviation:  0.00028\n",
      "\n",
      "Class:  Atelectasis\n",
      "Average CWCE:  0.01726 with standard deviation:  0.00099\n",
      "\n",
      "Class:  Cardiomegaly\n",
      "Average CWCE:  0.0755 with standard deviation:  0.00761\n",
      "\n",
      "Class:  Pneumonia\n",
      "Average CWCE:  0.01808 with standard deviation:  0.00705\n",
      "\n"
     ]
    }
   ],
   "source": [
    "pathologies = ['Effusion', 'Pneumothorax', 'Atelectasis', 'Cardiomegaly', 'Pneumonia']\n",
    "preds_df = classwise_ECE_three_models(S_preds_nolungs_PredsOnlyLungs, padchest_test_labels_ALL, classes_list=pathologies, power=1, bins=10)"
   ]
  },
  {
   "cell_type": "markdown",
   "id": "8d9c9713",
   "metadata": {},
   "source": [
    "### Trained on: Images with only lungs"
   ]
  },
  {
   "cell_type": "markdown",
   "id": "468f9c13",
   "metadata": {},
   "source": [
    "#### Predictions on: Original PadChest images"
   ]
  },
  {
   "cell_type": "code",
   "execution_count": 30,
   "id": "3d172a42",
   "metadata": {},
   "outputs": [
    {
     "name": "stdout",
     "output_type": "stream",
     "text": [
      "Class:  Effusion\n",
      "Average CWCE:  0.06419 with standard deviation:  0.01725\n",
      "\n",
      "Class:  Pneumothorax\n",
      "Average CWCE:  0.00179 with standard deviation:  0.0016\n",
      "\n",
      "Class:  Atelectasis\n",
      "Average CWCE:  0.01115 with standard deviation:  0.00476\n",
      "\n",
      "Class:  Cardiomegaly\n",
      "Average CWCE:  0.0848 with standard deviation:  0.00128\n",
      "\n",
      "Class:  Pneumonia\n",
      "Average CWCE:  0.24187 with standard deviation:  0.0627\n",
      "\n"
     ]
    }
   ],
   "source": [
    "pathologies = ['Effusion', 'Pneumothorax', 'Atelectasis', 'Cardiomegaly', 'Pneumonia']\n",
    "preds_df = classwise_ECE_three_models(S_preds_onlylungs_PredsPadChest, padchest_test_labels_ALL, classes_list=pathologies, power=1, bins=10)"
   ]
  },
  {
   "cell_type": "markdown",
   "id": "468f9c13",
   "metadata": {},
   "source": [
    "#### Predictions on: Images with no lungs"
   ]
  },
  {
   "cell_type": "code",
   "execution_count": 31,
   "id": "cd8fe24e",
   "metadata": {},
   "outputs": [
    {
     "name": "stdout",
     "output_type": "stream",
     "text": [
      "Class:  Effusion\n",
      "Average CWCE:  0.05485 with standard deviation:  0.00127\n",
      "\n",
      "Class:  Pneumothorax\n",
      "Average CWCE:  0.00181 with standard deviation:  0.00088\n",
      "\n",
      "Class:  Atelectasis\n",
      "Average CWCE:  0.01833 with standard deviation:  0.00058\n",
      "\n",
      "Class:  Cardiomegaly\n",
      "Average CWCE:  0.07709 with standard deviation:  0.00406\n",
      "\n",
      "Class:  Pneumonia\n",
      "Average CWCE:  0.05909 with standard deviation:  0.02955\n",
      "\n"
     ]
    }
   ],
   "source": [
    "pathologies = ['Effusion', 'Pneumothorax', 'Atelectasis', 'Cardiomegaly', 'Pneumonia']\n",
    "preds_df = classwise_ECE_three_models(S_preds_onlylungs_PredsNoLungs, padchest_test_labels_ALL, classes_list=pathologies, power=1, bins=10)"
   ]
  },
  {
   "cell_type": "markdown",
   "id": "468f9c13",
   "metadata": {},
   "source": [
    "#### Predictions on: Images with only lungs"
   ]
  },
  {
   "cell_type": "code",
   "execution_count": 32,
   "id": "4c71634e",
   "metadata": {},
   "outputs": [
    {
     "name": "stdout",
     "output_type": "stream",
     "text": [
      "Class:  Effusion\n",
      "Average CWCE:  0.00792 with standard deviation:  0.00124\n",
      "\n",
      "Class:  Pneumothorax\n",
      "Average CWCE:  0.0006 with standard deviation:  0.00018\n",
      "\n",
      "Class:  Atelectasis\n",
      "Average CWCE:  0.00278 with standard deviation:  0.00079\n",
      "\n",
      "Class:  Cardiomegaly\n",
      "Average CWCE:  0.01024 with standard deviation:  0.00066\n",
      "\n",
      "Class:  Pneumonia\n",
      "Average CWCE:  0.00474 with standard deviation:  0.00151\n",
      "\n"
     ]
    }
   ],
   "source": [
    "pathologies = ['Effusion', 'Pneumothorax', 'Atelectasis', 'Cardiomegaly', 'Pneumonia']\n",
    "preds_df = classwise_ECE_three_models(S_preds_onlylungs_PredsOnlyLungs, padchest_test_labels_ALL, classes_list=pathologies, power=1, bins=10)"
   ]
  },
  {
   "cell_type": "code",
   "execution_count": null,
   "id": "005cbaf6",
   "metadata": {},
   "outputs": [],
   "source": []
  },
  {
   "cell_type": "code",
   "execution_count": null,
   "id": "120bdf17",
   "metadata": {},
   "outputs": [],
   "source": []
  }
 ],
 "metadata": {
  "kernelspec": {
   "display_name": "Python 3 (ipykernel)",
   "language": "python",
   "name": "python3"
  },
  "language_info": {
   "codemirror_mode": {
    "name": "ipython",
    "version": 3
   },
   "file_extension": ".py",
   "mimetype": "text/x-python",
   "name": "python",
   "nbconvert_exporter": "python",
   "pygments_lexer": "ipython3",
   "version": "3.9.7"
  }
 },
 "nbformat": 4,
 "nbformat_minor": 5
}
